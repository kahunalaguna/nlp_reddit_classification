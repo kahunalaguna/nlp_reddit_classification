{
 "cells": [
  {
   "cell_type": "markdown",
   "id": "e9f0d800-513a-4751-ab8e-ec922891d99c",
   "metadata": {},
   "source": [
    "### PreProcessing"
   ]
  },
  {
   "cell_type": "markdown",
   "id": "a1e3b2aa-d4a2-4b93-af6d-94e41353aefa",
   "metadata": {},
   "source": [
    "##### Importing Libraries and Data"
   ]
  },
  {
   "cell_type": "code",
   "execution_count": 92,
   "id": "58d2558d-cd1e-4327-8dfb-6c0f2fed809c",
   "metadata": {},
   "outputs": [],
   "source": [
    "import pandas as pd\n",
    "import numpy as np\n",
    "import matplotlib.pyplot as plt\n",
    "import seaborn as sns\n",
    "import re\n",
    "import reticker\n",
    "import string"
   ]
  },
  {
   "cell_type": "code",
   "execution_count": 4,
   "id": "f918c324-2ed3-45ce-963a-9a4e5c3bae8c",
   "metadata": {},
   "outputs": [
    {
     "data": {
      "text/html": [
       "<div>\n",
       "<style scoped>\n",
       "    .dataframe tbody tr th:only-of-type {\n",
       "        vertical-align: middle;\n",
       "    }\n",
       "\n",
       "    .dataframe tbody tr th {\n",
       "        vertical-align: top;\n",
       "    }\n",
       "\n",
       "    .dataframe thead th {\n",
       "        text-align: right;\n",
       "    }\n",
       "</style>\n",
       "<table border=\"1\" class=\"dataframe\">\n",
       "  <thead>\n",
       "    <tr style=\"text-align: right;\">\n",
       "      <th></th>\n",
       "      <th>subreddit</th>\n",
       "      <th>title</th>\n",
       "      <th>selftext</th>\n",
       "      <th>created_utc</th>\n",
       "      <th>all_text</th>\n",
       "      <th>post_length</th>\n",
       "    </tr>\n",
       "  </thead>\n",
       "  <tbody>\n",
       "    <tr>\n",
       "      <th>0</th>\n",
       "      <td>wallstreetbets</td>\n",
       "      <td>Made 45k on QQQ puts in 3 days, will finally p...</td>\n",
       "      <td>NaN</td>\n",
       "      <td>1642196072</td>\n",
       "      <td>Made 45k on QQQ puts in 3 days, will finally p...</td>\n",
       "      <td>16</td>\n",
       "    </tr>\n",
       "    <tr>\n",
       "      <th>1</th>\n",
       "      <td>wallstreetbets</td>\n",
       "      <td>There is a mining program giving unprecedented...</td>\n",
       "      <td>NaN</td>\n",
       "      <td>1642195904</td>\n",
       "      <td>There is a mining program giving unprecedented...</td>\n",
       "      <td>26</td>\n",
       "    </tr>\n",
       "    <tr>\n",
       "      <th>2</th>\n",
       "      <td>wallstreetbets</td>\n",
       "      <td>TUESDAY = $ B B I G 🚀🚀🚀LFG 🚀🚀🚀</td>\n",
       "      <td>[removed]</td>\n",
       "      <td>1642195841</td>\n",
       "      <td>TUESDAY = $ B B I G 🚀🚀🚀LFG 🚀🚀🚀</td>\n",
       "      <td>9</td>\n",
       "    </tr>\n",
       "  </tbody>\n",
       "</table>\n",
       "</div>"
      ],
      "text/plain": [
       "        subreddit                                              title  \\\n",
       "0  wallstreetbets  Made 45k on QQQ puts in 3 days, will finally p...   \n",
       "1  wallstreetbets  There is a mining program giving unprecedented...   \n",
       "2  wallstreetbets                     TUESDAY = $ B B I G 🚀🚀🚀LFG 🚀🚀🚀   \n",
       "\n",
       "    selftext  created_utc                                           all_text  \\\n",
       "0        NaN   1642196072  Made 45k on QQQ puts in 3 days, will finally p...   \n",
       "1        NaN   1642195904  There is a mining program giving unprecedented...   \n",
       "2  [removed]   1642195841                     TUESDAY = $ B B I G 🚀🚀🚀LFG 🚀🚀🚀   \n",
       "\n",
       "   post_length  \n",
       "0           16  \n",
       "1           26  \n",
       "2            9  "
      ]
     },
     "execution_count": 4,
     "metadata": {},
     "output_type": "execute_result"
    }
   ],
   "source": [
    "df = pd.read_csv('./datasets/data.csv').drop(columns='Unnamed: 0')\n",
    "df.head(3)"
   ]
  },
  {
   "cell_type": "code",
   "execution_count": 3,
   "id": "f5f4e568-8eda-4d58-afc1-d7eb57a673a5",
   "metadata": {},
   "outputs": [
    {
     "data": {
      "text/plain": [
       "\"What will JPM close at on Jan 17? JPM was the #6 talked about company on WSB on Jan 14th\\n\\nSkipping #4 / #5 because they've already had predictions\\n\\n[View Poll](https://www.reddit.com/poll/s4300r)\""
      ]
     },
     "execution_count": 3,
     "metadata": {},
     "output_type": "execute_result"
    }
   ],
   "source": [
    "sample_text = df.all_text[8]\n",
    "sample_text"
   ]
  },
  {
   "cell_type": "markdown",
   "id": "75d13832-2720-47bb-bbb2-2fdbbd8ebfc1",
   "metadata": {},
   "source": [
    "### Preprocessing Text\n",
    "##### Text Data Anomalies: url's, digits, newline characters, extraneous symbols, stock tickers\n"
   ]
  },
  {
   "cell_type": "markdown",
   "id": "3c56c55b-0f2f-4f42-bf8e-2ef144f51739",
   "metadata": {},
   "source": [
    "#### Getting Stock Tickers \n",
    "Using the Reticker Library found here (https://pypi.org/project/reticker/)."
   ]
  },
  {
   "cell_type": "code",
   "execution_count": 5,
   "id": "5019bd57-004a-4088-a452-ff22d19bd11e",
   "metadata": {},
   "outputs": [],
   "source": [
    "ticker = reticker.TickerExtractor()"
   ]
  },
  {
   "cell_type": "code",
   "execution_count": 6,
   "id": "8b9aed80-3d03-4b9b-9865-d80b3c3f6f7a",
   "metadata": {},
   "outputs": [
    {
     "data": {
      "text/plain": [
       "['JPM']"
      ]
     },
     "execution_count": 6,
     "metadata": {},
     "output_type": "execute_result"
    }
   ],
   "source": [
    "ticker.extract(sample_text)"
   ]
  },
  {
   "cell_type": "code",
   "execution_count": 7,
   "id": "ac74cb3a-8bcf-46a5-b8d0-f0b6aecd27d5",
   "metadata": {},
   "outputs": [
    {
     "data": {
      "text/plain": [
       "'JPM'"
      ]
     },
     "execution_count": 7,
     "metadata": {},
     "output_type": "execute_result"
    }
   ],
   "source": [
    "' '.join(ticker.extract(sample_text))"
   ]
  },
  {
   "cell_type": "code",
   "execution_count": 8,
   "id": "9679281c-431f-48aa-b424-7663be44ed5d",
   "metadata": {},
   "outputs": [],
   "source": [
    "df['ticker_text'] = [' '.join(ticker.extract(text)) for text in df.all_text]\n"
   ]
  },
  {
   "cell_type": "code",
   "execution_count": 11,
   "id": "43690d75-8375-4491-ab7d-404534014851",
   "metadata": {},
   "outputs": [],
   "source": [
    "df['ticker_counts'] = [len(s.split()) for s in df['ticker_text']]"
   ]
  },
  {
   "cell_type": "code",
   "execution_count": 13,
   "id": "fa4f61c5-3855-4f11-8453-9c4c929f5423",
   "metadata": {},
   "outputs": [
    {
     "data": {
      "text/html": [
       "<div>\n",
       "<style scoped>\n",
       "    .dataframe tbody tr th:only-of-type {\n",
       "        vertical-align: middle;\n",
       "    }\n",
       "\n",
       "    .dataframe tbody tr th {\n",
       "        vertical-align: top;\n",
       "    }\n",
       "\n",
       "    .dataframe thead th {\n",
       "        text-align: right;\n",
       "    }\n",
       "</style>\n",
       "<table border=\"1\" class=\"dataframe\">\n",
       "  <thead>\n",
       "    <tr style=\"text-align: right;\">\n",
       "      <th></th>\n",
       "      <th>subreddit</th>\n",
       "      <th>ticker_text</th>\n",
       "      <th>ticker_counts</th>\n",
       "    </tr>\n",
       "  </thead>\n",
       "  <tbody>\n",
       "    <tr>\n",
       "      <th>0</th>\n",
       "      <td>wallstreetbets</td>\n",
       "      <td>QQQ</td>\n",
       "      <td>1</td>\n",
       "    </tr>\n",
       "    <tr>\n",
       "      <th>1</th>\n",
       "      <td>wallstreetbets</td>\n",
       "      <td></td>\n",
       "      <td>0</td>\n",
       "    </tr>\n",
       "    <tr>\n",
       "      <th>2</th>\n",
       "      <td>wallstreetbets</td>\n",
       "      <td>LFG</td>\n",
       "      <td>1</td>\n",
       "    </tr>\n",
       "  </tbody>\n",
       "</table>\n",
       "</div>"
      ],
      "text/plain": [
       "        subreddit ticker_text  ticker_counts\n",
       "0  wallstreetbets         QQQ              1\n",
       "1  wallstreetbets                          0\n",
       "2  wallstreetbets         LFG              1"
      ]
     },
     "execution_count": 13,
     "metadata": {},
     "output_type": "execute_result"
    }
   ],
   "source": [
    "tickers_df = df.drop(columns=['title', 'selftext', 'created_utc', 'all_text', 'post_length'])\n",
    "tickers_df.head(3)"
   ]
  },
  {
   "cell_type": "code",
   "execution_count": 14,
   "id": "377b2393-6316-458f-9cf6-c6d3f5795d77",
   "metadata": {},
   "outputs": [
    {
     "data": {
      "text/html": [
       "<div>\n",
       "<style scoped>\n",
       "    .dataframe tbody tr th:only-of-type {\n",
       "        vertical-align: middle;\n",
       "    }\n",
       "\n",
       "    .dataframe tbody tr th {\n",
       "        vertical-align: top;\n",
       "    }\n",
       "\n",
       "    .dataframe thead th {\n",
       "        text-align: right;\n",
       "    }\n",
       "</style>\n",
       "<table border=\"1\" class=\"dataframe\">\n",
       "  <thead>\n",
       "    <tr style=\"text-align: right;\">\n",
       "      <th></th>\n",
       "      <th>subreddit</th>\n",
       "      <th>title</th>\n",
       "      <th>selftext</th>\n",
       "      <th>all_text</th>\n",
       "    </tr>\n",
       "  </thead>\n",
       "  <tbody>\n",
       "    <tr>\n",
       "      <th>0</th>\n",
       "      <td>wallstreetbets</td>\n",
       "      <td>Made 45k on QQQ puts in 3 days, will finally p...</td>\n",
       "      <td>NaN</td>\n",
       "      <td>Made 45k on QQQ puts in 3 days, will finally p...</td>\n",
       "    </tr>\n",
       "    <tr>\n",
       "      <th>1</th>\n",
       "      <td>wallstreetbets</td>\n",
       "      <td>There is a mining program giving unprecedented...</td>\n",
       "      <td>NaN</td>\n",
       "      <td>There is a mining program giving unprecedented...</td>\n",
       "    </tr>\n",
       "    <tr>\n",
       "      <th>2</th>\n",
       "      <td>wallstreetbets</td>\n",
       "      <td>TUESDAY = $ B B I G 🚀🚀🚀LFG 🚀🚀🚀</td>\n",
       "      <td>[removed]</td>\n",
       "      <td>TUESDAY = $ B B I G 🚀🚀🚀LFG 🚀🚀🚀</td>\n",
       "    </tr>\n",
       "  </tbody>\n",
       "</table>\n",
       "</div>"
      ],
      "text/plain": [
       "        subreddit                                              title  \\\n",
       "0  wallstreetbets  Made 45k on QQQ puts in 3 days, will finally p...   \n",
       "1  wallstreetbets  There is a mining program giving unprecedented...   \n",
       "2  wallstreetbets                     TUESDAY = $ B B I G 🚀🚀🚀LFG 🚀🚀🚀   \n",
       "\n",
       "    selftext                                           all_text  \n",
       "0        NaN  Made 45k on QQQ puts in 3 days, will finally p...  \n",
       "1        NaN  There is a mining program giving unprecedented...  \n",
       "2  [removed]                     TUESDAY = $ B B I G 🚀🚀🚀LFG 🚀🚀🚀  "
      ]
     },
     "execution_count": 14,
     "metadata": {},
     "output_type": "execute_result"
    }
   ],
   "source": [
    "text_df = df.drop(columns=['ticker_text', 'ticker_counts', 'created_utc', 'post_length'])\n",
    "text_df.head(3)"
   ]
  },
  {
   "cell_type": "code",
   "execution_count": 97,
   "id": "d0cd2943-e3a2-4997-bced-ccec9e048787",
   "metadata": {},
   "outputs": [
    {
     "data": {
      "text/html": [
       "<div>\n",
       "<style scoped>\n",
       "    .dataframe tbody tr th:only-of-type {\n",
       "        vertical-align: middle;\n",
       "    }\n",
       "\n",
       "    .dataframe tbody tr th {\n",
       "        vertical-align: top;\n",
       "    }\n",
       "\n",
       "    .dataframe thead th {\n",
       "        text-align: right;\n",
       "    }\n",
       "</style>\n",
       "<table border=\"1\" class=\"dataframe\">\n",
       "  <thead>\n",
       "    <tr style=\"text-align: right;\">\n",
       "      <th></th>\n",
       "      <th>subreddit</th>\n",
       "      <th>ticker_text</th>\n",
       "      <th>ticker_counts</th>\n",
       "    </tr>\n",
       "  </thead>\n",
       "  <tbody>\n",
       "    <tr>\n",
       "      <th>9394</th>\n",
       "      <td>stocks</td>\n",
       "      <td></td>\n",
       "      <td>0</td>\n",
       "    </tr>\n",
       "    <tr>\n",
       "      <th>9395</th>\n",
       "      <td>stocks</td>\n",
       "      <td>TQQ</td>\n",
       "      <td>1</td>\n",
       "    </tr>\n",
       "    <tr>\n",
       "      <th>9396</th>\n",
       "      <td>stocks</td>\n",
       "      <td></td>\n",
       "      <td>0</td>\n",
       "    </tr>\n",
       "    <tr>\n",
       "      <th>9397</th>\n",
       "      <td>stocks</td>\n",
       "      <td>DTE ET</td>\n",
       "      <td>2</td>\n",
       "    </tr>\n",
       "    <tr>\n",
       "      <th>9398</th>\n",
       "      <td>stocks</td>\n",
       "      <td></td>\n",
       "      <td>0</td>\n",
       "    </tr>\n",
       "    <tr>\n",
       "      <th>...</th>\n",
       "      <td>...</td>\n",
       "      <td>...</td>\n",
       "      <td>...</td>\n",
       "    </tr>\n",
       "    <tr>\n",
       "      <th>18786</th>\n",
       "      <td>stocks</td>\n",
       "      <td></td>\n",
       "      <td>0</td>\n",
       "    </tr>\n",
       "    <tr>\n",
       "      <th>18787</th>\n",
       "      <td>stocks</td>\n",
       "      <td>ZYXI</td>\n",
       "      <td>1</td>\n",
       "    </tr>\n",
       "    <tr>\n",
       "      <th>18788</th>\n",
       "      <td>stocks</td>\n",
       "      <td></td>\n",
       "      <td>0</td>\n",
       "    </tr>\n",
       "    <tr>\n",
       "      <th>18789</th>\n",
       "      <td>stocks</td>\n",
       "      <td></td>\n",
       "      <td>0</td>\n",
       "    </tr>\n",
       "    <tr>\n",
       "      <th>18790</th>\n",
       "      <td>stocks</td>\n",
       "      <td>AH ATH</td>\n",
       "      <td>2</td>\n",
       "    </tr>\n",
       "  </tbody>\n",
       "</table>\n",
       "<p>9397 rows × 3 columns</p>\n",
       "</div>"
      ],
      "text/plain": [
       "      subreddit ticker_text  ticker_counts\n",
       "9394     stocks                          0\n",
       "9395     stocks         TQQ              1\n",
       "9396     stocks                          0\n",
       "9397     stocks      DTE ET              2\n",
       "9398     stocks                          0\n",
       "...         ...         ...            ...\n",
       "18786    stocks                          0\n",
       "18787    stocks        ZYXI              1\n",
       "18788    stocks                          0\n",
       "18789    stocks                          0\n",
       "18790    stocks      AH ATH              2\n",
       "\n",
       "[9397 rows x 3 columns]"
      ]
     },
     "execution_count": 97,
     "metadata": {},
     "output_type": "execute_result"
    }
   ],
   "source": [
    "tickers_df.loc[tickers_df.subreddit == 'stocks']"
   ]
  },
  {
   "cell_type": "code",
   "execution_count": 23,
   "id": "d14173b7-75bb-4d92-b403-fa6f7346e970",
   "metadata": {},
   "outputs": [],
   "source": [
    "#tickers_df.loc[tickers_df['ticker_counts']!=0]"
   ]
  },
  {
   "cell_type": "code",
   "execution_count": 24,
   "id": "a1b18152-02e7-4370-ad86-ca2356aa24cb",
   "metadata": {},
   "outputs": [],
   "source": [
    "#tickers_df.subreddit.value_counts()"
   ]
  },
  {
   "cell_type": "markdown",
   "id": "2a8945b1-87ec-4cf5-ad0d-253ee4078015",
   "metadata": {},
   "source": [
    "#### Removing urls from all_text:"
   ]
  },
  {
   "cell_type": "code",
   "execution_count": 37,
   "id": "5c4bed84-eb62-4c5f-849b-1e089c1456b2",
   "metadata": {},
   "outputs": [],
   "source": [
    "def url_remover(text):\n",
    "    text = re.sub(r'http\\S+', '', text)\n",
    "    return text"
   ]
  },
  {
   "cell_type": "code",
   "execution_count": 38,
   "id": "4460b411-fd78-47bc-a33f-8180294608ec",
   "metadata": {},
   "outputs": [
    {
     "data": {
      "text/plain": [
       "\"What will JPM close at on Jan 17? JPM was the #6 talked about company on WSB on Jan 14th\\n\\nSkipping #4 / #5 because they've already had predictions\\n\\n[View Poll](https://www.reddit.com/poll/s4300r)\""
      ]
     },
     "execution_count": 38,
     "metadata": {},
     "output_type": "execute_result"
    }
   ],
   "source": [
    "sample_text"
   ]
  },
  {
   "cell_type": "code",
   "execution_count": 39,
   "id": "cd0e6119-9bec-4660-a125-20909759b6db",
   "metadata": {},
   "outputs": [
    {
     "data": {
      "text/plain": [
       "\"What will JPM close at on Jan 17? JPM was the #6 talked about company on WSB on Jan 14th\\n\\nSkipping #4 / #5 because they've already had predictions\\n\\n[View Poll](\""
      ]
     },
     "execution_count": 39,
     "metadata": {},
     "output_type": "execute_result"
    }
   ],
   "source": [
    "url_remover(sample_text)"
   ]
  },
  {
   "cell_type": "code",
   "execution_count": 41,
   "id": "10d0bd07-6c95-4494-bf04-d2c02de13c1d",
   "metadata": {},
   "outputs": [],
   "source": [
    "text_df.all_text = [url_remover(each) for each in text_df.all_text]"
   ]
  },
  {
   "cell_type": "markdown",
   "id": "c8f71a48-7f80-43a4-8a53-bebac29f79f1",
   "metadata": {},
   "source": [
    "#### Removing newline characters from text (ex: \\n\\n, \\n\\n*****\\n\\n)"
   ]
  },
  {
   "cell_type": "code",
   "execution_count": 55,
   "id": "3ccd1b56-078d-4ee7-9007-4ceb8aaf1003",
   "metadata": {},
   "outputs": [],
   "source": [
    "def newline_remover(text):\n",
    "    text = text.replace(\"\\n\", \"\")\n",
    "    return text"
   ]
  },
  {
   "cell_type": "code",
   "execution_count": 56,
   "id": "6d812c9f-8070-4bdf-8a10-4f7a5a82d7f3",
   "metadata": {},
   "outputs": [],
   "source": [
    "text_df.all_text = [newline_remover(each) for each in text_df.all_text]"
   ]
  },
  {
   "cell_type": "markdown",
   "id": "1247bce7-f5fb-44a9-8bc5-03ed48612667",
   "metadata": {},
   "source": [
    "#### Removing symbols and punctuation"
   ]
  },
  {
   "cell_type": "code",
   "execution_count": 58,
   "id": "a6db342f-a20e-46a5-af29-6db7f085c4d1",
   "metadata": {},
   "outputs": [
    {
     "data": {
      "text/plain": [
       "'!\"#$%&\\'()*+,-./:;<=>?@[\\\\]^_`{|}~'"
      ]
     },
     "execution_count": 58,
     "metadata": {},
     "output_type": "execute_result"
    }
   ],
   "source": [
    "import string\n",
    "string.punctuation"
   ]
  },
  {
   "cell_type": "code",
   "execution_count": 66,
   "id": "55b0ae04-b1e5-49b3-a53f-c64842c72076",
   "metadata": {},
   "outputs": [],
   "source": [
    "def punct_remover(text):\n",
    "    for each in string.punctuation:\n",
    "        text=text.replace(each,\" \")\n",
    "    return text"
   ]
  },
  {
   "cell_type": "code",
   "execution_count": 70,
   "id": "c74bb776-fa5d-4ba3-ae1c-cd1e3c82beef",
   "metadata": {},
   "outputs": [
    {
     "data": {
      "text/plain": [
       "\"What will JPM close at on Jan 17? JPM was the #6 talked about company on WSB on Jan 14thSkipping #4 / #5 because they've already had predictions[View Poll](\""
      ]
     },
     "execution_count": 70,
     "metadata": {},
     "output_type": "execute_result"
    }
   ],
   "source": [
    "sample = text_df.all_text[8]\n",
    "sample"
   ]
  },
  {
   "cell_type": "code",
   "execution_count": 71,
   "id": "ca0f6add-fbf9-46af-8911-f0246062c1ad",
   "metadata": {},
   "outputs": [
    {
     "data": {
      "text/plain": [
       "'What will JPM close at on Jan 17  JPM was the  6 talked about company on WSB on Jan 14thSkipping  4    5 because they ve already had predictions View Poll  '"
      ]
     },
     "execution_count": 71,
     "metadata": {},
     "output_type": "execute_result"
    }
   ],
   "source": [
    "punct_remover(sample)"
   ]
  },
  {
   "cell_type": "code",
   "execution_count": 77,
   "id": "614d14a4-10ff-4dcc-850f-74b39124b696",
   "metadata": {},
   "outputs": [],
   "source": [
    "text_df.all_text = [punct_remover(each) for each in text_df.all_text]"
   ]
  },
  {
   "cell_type": "markdown",
   "id": "dd74c27f-1da3-42e0-9164-df7c002daa2d",
   "metadata": {},
   "source": [
    "#### Removing Digits and --th's and --k's"
   ]
  },
  {
   "cell_type": "code",
   "execution_count": 78,
   "id": "a2d7c0fd-719c-4738-8d31-8765fa124e20",
   "metadata": {},
   "outputs": [],
   "source": [
    "def digit_remover(text):\n",
    "    text = re.sub(r'\\d+th', '', text)\n",
    "    text = re.sub(r'\\d+k)\n",
    "    text = re.sub(r'\\d+', '', text)\n",
    "    return text\n"
   ]
  },
  {
   "cell_type": "code",
   "execution_count": 81,
   "id": "e64b8879-bc07-4090-b22e-1e3d2f3d2f11",
   "metadata": {},
   "outputs": [],
   "source": [
    "text_df.all_text = [digit_remover(each) for each in text_df.all_text]"
   ]
  },
  {
   "cell_type": "markdown",
   "id": "bd99f02a-673d-4d5d-a82d-6b5748337c2c",
   "metadata": {},
   "source": [
    "#### Removing Extra WhiteSpace"
   ]
  },
  {
   "cell_type": "code",
   "execution_count": 83,
   "id": "08a6782a-5655-4003-bb8b-a08ee63e2d13",
   "metadata": {},
   "outputs": [],
   "source": [
    "def no_extra_spaces(text):\n",
    "    text = text.split()\n",
    "    text = ' '.join(text)\n",
    "    return text"
   ]
  },
  {
   "cell_type": "code",
   "execution_count": 84,
   "id": "3bf76ff8-1b0c-4db4-9137-10c788303665",
   "metadata": {},
   "outputs": [
    {
     "data": {
      "text/plain": [
       "'What will JPM close at on Jan   JPM was the   talked about company on WSB on Jan Skipping       because they ve already had predictions View Poll  '"
      ]
     },
     "execution_count": 84,
     "metadata": {},
     "output_type": "execute_result"
    }
   ],
   "source": [
    "sample = text_df.all_text[8]\n",
    "sample"
   ]
  },
  {
   "cell_type": "code",
   "execution_count": 85,
   "id": "c81b07dd-3266-4283-aadf-048b4d598cfd",
   "metadata": {},
   "outputs": [
    {
     "data": {
      "text/plain": [
       "'What will JPM close at on Jan JPM was the talked about company on WSB on Jan Skipping because they ve already had predictions View Poll'"
      ]
     },
     "execution_count": 85,
     "metadata": {},
     "output_type": "execute_result"
    }
   ],
   "source": [
    "no_extra_spaces(sample)"
   ]
  },
  {
   "cell_type": "code",
   "execution_count": 87,
   "id": "3ceecff9-e79c-4df2-b723-97d8e0e3f822",
   "metadata": {},
   "outputs": [],
   "source": [
    "text_df.all_text = [no_extra_spaces(each) for each in text_df.all_text]"
   ]
  },
  {
   "cell_type": "code",
   "execution_count": 88,
   "id": "37440bff-6e99-4d3e-beca-407873dcb094",
   "metadata": {},
   "outputs": [
    {
     "data": {
      "text/html": [
       "<div>\n",
       "<style scoped>\n",
       "    .dataframe tbody tr th:only-of-type {\n",
       "        vertical-align: middle;\n",
       "    }\n",
       "\n",
       "    .dataframe tbody tr th {\n",
       "        vertical-align: top;\n",
       "    }\n",
       "\n",
       "    .dataframe thead th {\n",
       "        text-align: right;\n",
       "    }\n",
       "</style>\n",
       "<table border=\"1\" class=\"dataframe\">\n",
       "  <thead>\n",
       "    <tr style=\"text-align: right;\">\n",
       "      <th></th>\n",
       "      <th>subreddit</th>\n",
       "      <th>title</th>\n",
       "      <th>selftext</th>\n",
       "      <th>all_text</th>\n",
       "    </tr>\n",
       "  </thead>\n",
       "  <tbody>\n",
       "    <tr>\n",
       "      <th>0</th>\n",
       "      <td>wallstreetbets</td>\n",
       "      <td>Made 45k on QQQ puts in 3 days, will finally p...</td>\n",
       "      <td>NaN</td>\n",
       "      <td>Made k on QQQ puts in days will finally pay of...</td>\n",
       "    </tr>\n",
       "    <tr>\n",
       "      <th>1</th>\n",
       "      <td>wallstreetbets</td>\n",
       "      <td>There is a mining program giving unprecedented...</td>\n",
       "      <td>NaN</td>\n",
       "      <td>There is a mining program giving unprecedented...</td>\n",
       "    </tr>\n",
       "    <tr>\n",
       "      <th>2</th>\n",
       "      <td>wallstreetbets</td>\n",
       "      <td>TUESDAY = $ B B I G 🚀🚀🚀LFG 🚀🚀🚀</td>\n",
       "      <td>[removed]</td>\n",
       "      <td>TUESDAY B B I G 🚀🚀🚀LFG 🚀🚀🚀</td>\n",
       "    </tr>\n",
       "    <tr>\n",
       "      <th>3</th>\n",
       "      <td>wallstreetbets</td>\n",
       "      <td>PTN almost at the double Botham 🥳🍾💵💵💵💵💵💵</td>\n",
       "      <td>NaN</td>\n",
       "      <td>PTN almost at the double Botham 🥳🍾💵💵💵💵💵💵</td>\n",
       "    </tr>\n",
       "    <tr>\n",
       "      <th>4</th>\n",
       "      <td>wallstreetbets</td>\n",
       "      <td>I love weeklies. Fuck AMC</td>\n",
       "      <td>NaN</td>\n",
       "      <td>I love weeklies Fuck AMC</td>\n",
       "    </tr>\n",
       "  </tbody>\n",
       "</table>\n",
       "</div>"
      ],
      "text/plain": [
       "        subreddit                                              title  \\\n",
       "0  wallstreetbets  Made 45k on QQQ puts in 3 days, will finally p...   \n",
       "1  wallstreetbets  There is a mining program giving unprecedented...   \n",
       "2  wallstreetbets                     TUESDAY = $ B B I G 🚀🚀🚀LFG 🚀🚀🚀   \n",
       "3  wallstreetbets           PTN almost at the double Botham 🥳🍾💵💵💵💵💵💵   \n",
       "4  wallstreetbets                          I love weeklies. Fuck AMC   \n",
       "\n",
       "    selftext                                           all_text  \n",
       "0        NaN  Made k on QQQ puts in days will finally pay of...  \n",
       "1        NaN  There is a mining program giving unprecedented...  \n",
       "2  [removed]                         TUESDAY B B I G 🚀🚀🚀LFG 🚀🚀🚀  \n",
       "3        NaN           PTN almost at the double Botham 🥳🍾💵💵💵💵💵💵  \n",
       "4        NaN                           I love weeklies Fuck AMC  "
      ]
     },
     "execution_count": 88,
     "metadata": {},
     "output_type": "execute_result"
    }
   ],
   "source": [
    "text_df.head()"
   ]
  },
  {
   "cell_type": "code",
   "execution_count": 90,
   "id": "8889e1ba-6980-4407-b62e-9d73046b016a",
   "metadata": {},
   "outputs": [],
   "source": [
    "tickers_df.to_csv('./datasets/tickers.csv')"
   ]
  },
  {
   "cell_type": "code",
   "execution_count": 91,
   "id": "ca5dd356-2cec-4cc1-8e00-c32ff7419be1",
   "metadata": {},
   "outputs": [],
   "source": [
    "text_df.to_csv('./datasets/text.csv')"
   ]
  },
  {
   "cell_type": "code",
   "execution_count": 94,
   "id": "69e71eb7-8552-4a60-9580-7def64c78a3d",
   "metadata": {},
   "outputs": [
    {
     "name": "stdout",
     "output_type": "stream",
     "text": [
      "<class 'pandas.core.frame.DataFrame'>\n",
      "RangeIndex: 18791 entries, 0 to 18790\n",
      "Data columns (total 4 columns):\n",
      " #   Column     Non-Null Count  Dtype \n",
      "---  ------     --------------  ----- \n",
      " 0   subreddit  18791 non-null  object\n",
      " 1   title      18791 non-null  object\n",
      " 2   selftext   13268 non-null  object\n",
      " 3   all_text   18791 non-null  object\n",
      "dtypes: object(4)\n",
      "memory usage: 587.3+ KB\n"
     ]
    }
   ],
   "source": [
    "text_df.info()"
   ]
  },
  {
   "cell_type": "code",
   "execution_count": null,
   "id": "ca592ee0-5407-4cee-9dbc-bf70f6f99336",
   "metadata": {},
   "outputs": [],
   "source": []
  }
 ],
 "metadata": {
  "kernelspec": {
   "display_name": "Python 3 (ipykernel)",
   "language": "python",
   "name": "python3"
  },
  "language_info": {
   "codemirror_mode": {
    "name": "ipython",
    "version": 3
   },
   "file_extension": ".py",
   "mimetype": "text/x-python",
   "name": "python",
   "nbconvert_exporter": "python",
   "pygments_lexer": "ipython3",
   "version": "3.9.7"
  }
 },
 "nbformat": 4,
 "nbformat_minor": 5
}
