{
 "cells": [
  {
   "cell_type": "markdown",
   "id": "b6780abd-fa44-4f6b-b3be-0bce58038311",
   "metadata": {},
   "source": [
    "### Data Cleaning"
   ]
  },
  {
   "cell_type": "markdown",
   "id": "d5b56e3e-b1dc-4c5b-a74b-af8ec32a080b",
   "metadata": {},
   "source": [
    "Importing Libraries and Reading Data Files:"
   ]
  },
  {
   "cell_type": "code",
   "execution_count": 1,
   "id": "8995869b-fd91-44e6-85be-2ca3a821330b",
   "metadata": {},
   "outputs": [],
   "source": [
    "import pandas as pd\n",
    "import numpy as np"
   ]
  },
  {
   "cell_type": "code",
   "execution_count": 2,
   "id": "78b3280d-1c59-416c-8f3e-7f1c860749e4",
   "metadata": {},
   "outputs": [],
   "source": [
    "wsb = pd.read_csv('./datasets/wsb_dirty.csv').drop(columns='Unnamed: 0')\n",
    "stocks = pd.read_csv('./datasets/stocks_dirty.csv').drop(columns='Unnamed: 0')"
   ]
  },
  {
   "cell_type": "code",
   "execution_count": 3,
   "id": "0ee01193-b901-45db-9dd7-5a2e419e77a1",
   "metadata": {},
   "outputs": [
    {
     "data": {
      "text/plain": [
       "(9999, 4)"
      ]
     },
     "execution_count": 3,
     "metadata": {},
     "output_type": "execute_result"
    }
   ],
   "source": [
    "wsb.shape"
   ]
  },
  {
   "cell_type": "code",
   "execution_count": 4,
   "id": "d0ff1ac7-6d7f-4f85-a922-d79d2c7c609d",
   "metadata": {},
   "outputs": [
    {
     "data": {
      "text/plain": [
       "(9998, 4)"
      ]
     },
     "execution_count": 4,
     "metadata": {},
     "output_type": "execute_result"
    }
   ],
   "source": [
    "stocks.shape"
   ]
  },
  {
   "cell_type": "markdown",
   "id": "72b31daf-5d5f-47e6-945c-b9db0e40a3c6",
   "metadata": {},
   "source": [
    "Merging DataFrames:"
   ]
  },
  {
   "cell_type": "code",
   "execution_count": 5,
   "id": "75995cfa-4db4-48f8-b841-613bb0b62d03",
   "metadata": {},
   "outputs": [
    {
     "data": {
      "text/html": [
       "<div>\n",
       "<style scoped>\n",
       "    .dataframe tbody tr th:only-of-type {\n",
       "        vertical-align: middle;\n",
       "    }\n",
       "\n",
       "    .dataframe tbody tr th {\n",
       "        vertical-align: top;\n",
       "    }\n",
       "\n",
       "    .dataframe thead th {\n",
       "        text-align: right;\n",
       "    }\n",
       "</style>\n",
       "<table border=\"1\" class=\"dataframe\">\n",
       "  <thead>\n",
       "    <tr style=\"text-align: right;\">\n",
       "      <th></th>\n",
       "      <th>subreddit</th>\n",
       "      <th>title</th>\n",
       "      <th>selftext</th>\n",
       "      <th>created_utc</th>\n",
       "    </tr>\n",
       "  </thead>\n",
       "  <tbody>\n",
       "    <tr>\n",
       "      <th>0</th>\n",
       "      <td>wallstreetbets</td>\n",
       "      <td>Made 45k on QQQ puts in 3 days, will finally p...</td>\n",
       "      <td>NaN</td>\n",
       "      <td>1642196072</td>\n",
       "    </tr>\n",
       "    <tr>\n",
       "      <th>1</th>\n",
       "      <td>wallstreetbets</td>\n",
       "      <td>There is a mining program giving unprecedented...</td>\n",
       "      <td>NaN</td>\n",
       "      <td>1642195904</td>\n",
       "    </tr>\n",
       "    <tr>\n",
       "      <th>2</th>\n",
       "      <td>wallstreetbets</td>\n",
       "      <td>TUESDAY = $ B B I G 🚀🚀🚀LFG 🚀🚀🚀</td>\n",
       "      <td>[removed]</td>\n",
       "      <td>1642195841</td>\n",
       "    </tr>\n",
       "    <tr>\n",
       "      <th>3</th>\n",
       "      <td>wallstreetbets</td>\n",
       "      <td>PTN almost at the double Botham 🥳🍾💵💵💵💵💵💵</td>\n",
       "      <td>NaN</td>\n",
       "      <td>1642195792</td>\n",
       "    </tr>\n",
       "    <tr>\n",
       "      <th>4</th>\n",
       "      <td>wallstreetbets</td>\n",
       "      <td>I love weeklies. Fuck AMC</td>\n",
       "      <td>NaN</td>\n",
       "      <td>1642195724</td>\n",
       "    </tr>\n",
       "  </tbody>\n",
       "</table>\n",
       "</div>"
      ],
      "text/plain": [
       "        subreddit                                              title  \\\n",
       "0  wallstreetbets  Made 45k on QQQ puts in 3 days, will finally p...   \n",
       "1  wallstreetbets  There is a mining program giving unprecedented...   \n",
       "2  wallstreetbets                     TUESDAY = $ B B I G 🚀🚀🚀LFG 🚀🚀🚀   \n",
       "3  wallstreetbets           PTN almost at the double Botham 🥳🍾💵💵💵💵💵💵   \n",
       "4  wallstreetbets                          I love weeklies. Fuck AMC   \n",
       "\n",
       "    selftext  created_utc  \n",
       "0        NaN   1642196072  \n",
       "1        NaN   1642195904  \n",
       "2  [removed]   1642195841  \n",
       "3        NaN   1642195792  \n",
       "4        NaN   1642195724  "
      ]
     },
     "execution_count": 5,
     "metadata": {},
     "output_type": "execute_result"
    }
   ],
   "source": [
    "df = pd.concat([wsb, stocks], axis=0, ignore_index=True)\n",
    "df.head()"
   ]
  },
  {
   "cell_type": "code",
   "execution_count": 6,
   "id": "7fb994aa-bee3-4db3-b9ca-a3f949696eda",
   "metadata": {},
   "outputs": [
    {
     "name": "stdout",
     "output_type": "stream",
     "text": [
      "<class 'pandas.core.frame.DataFrame'>\n",
      "RangeIndex: 19997 entries, 0 to 19996\n",
      "Data columns (total 4 columns):\n",
      " #   Column       Non-Null Count  Dtype \n",
      "---  ------       --------------  ----- \n",
      " 0   subreddit    19997 non-null  object\n",
      " 1   title        19997 non-null  object\n",
      " 2   selftext     14169 non-null  object\n",
      " 3   created_utc  19997 non-null  int64 \n",
      "dtypes: int64(1), object(3)\n",
      "memory usage: 625.0+ KB\n"
     ]
    }
   ],
   "source": [
    "df.info()"
   ]
  },
  {
   "cell_type": "code",
   "execution_count": 7,
   "id": "95772789-c79c-4849-a9ed-a3b4c3289924",
   "metadata": {},
   "outputs": [
    {
     "data": {
      "text/plain": [
       "(19997, 4)"
      ]
     },
     "execution_count": 7,
     "metadata": {},
     "output_type": "execute_result"
    }
   ],
   "source": [
    "df.shape"
   ]
  },
  {
   "cell_type": "markdown",
   "id": "e43e40a8-4278-491a-8e3a-6501320b617f",
   "metadata": {},
   "source": [
    "Checking for nonsense and duplicates in 'title':"
   ]
  },
  {
   "cell_type": "code",
   "execution_count": 8,
   "id": "65a3604e-0b77-4c6d-a3d2-ed5d75b0ad61",
   "metadata": {},
   "outputs": [
    {
     "data": {
      "text/plain": [
       "APPS (Digital Turbine) going down – much worse than a price correction                        11\n",
       "Am I doing this right?                                                                         8\n",
       "Everyone else is making money on Heliogen (HLGN) and it's time we did too (by shorting it)     8\n",
       "New to stocks                                                                                  8\n",
       "Number of Nasdaq Stocks Down 50% or More Is Almost at a Record                                 7\n",
       "Name: title, dtype: int64"
      ]
     },
     "execution_count": 8,
     "metadata": {},
     "output_type": "execute_result"
    }
   ],
   "source": [
    "df.title.value_counts().head()"
   ]
  },
  {
   "cell_type": "code",
   "execution_count": 9,
   "id": "ecdba0f5-8378-49bd-b39a-ac383e2ef758",
   "metadata": {
    "tags": []
   },
   "outputs": [
    {
     "data": {
      "text/plain": [
       "18940"
      ]
     },
     "execution_count": 9,
     "metadata": {},
     "output_type": "execute_result"
    }
   ],
   "source": [
    "len(df.title.unique())"
   ]
  },
  {
   "cell_type": "markdown",
   "id": "e384fd2c-cf72-4643-87b1-da3e2189a35a",
   "metadata": {},
   "source": [
    "Dropping duplicates from title:"
   ]
  },
  {
   "cell_type": "code",
   "execution_count": 10,
   "id": "98e34668-445e-4348-aa8e-54afd2922cf2",
   "metadata": {},
   "outputs": [],
   "source": [
    "df = df.drop_duplicates(subset='title', keep='first', ignore_index=True)"
   ]
  },
  {
   "cell_type": "code",
   "execution_count": 11,
   "id": "b7c053b5-da34-4aec-aaa5-f25a85581e5f",
   "metadata": {},
   "outputs": [
    {
     "data": {
      "text/plain": [
       "(18940, 4)"
      ]
     },
     "execution_count": 11,
     "metadata": {},
     "output_type": "execute_result"
    }
   ],
   "source": [
    "df.shape"
   ]
  },
  {
   "cell_type": "markdown",
   "id": "7b8b0923-24c2-40c3-ac9c-909aefa853e3",
   "metadata": {},
   "source": [
    "Checking for nonsense and duplicates in 'selftext':"
   ]
  },
  {
   "cell_type": "code",
   "execution_count": 12,
   "id": "275f844d-873c-40d9-b09b-5a37b903d30a",
   "metadata": {
    "tags": []
   },
   "outputs": [
    {
     "data": {
      "text/plain": [
       "[removed]                                                                                                                                                                                                                                                                                                                                                                                                                                                                                                                                                                                                                                                                                                                                                                                                                                                                                                                                                                                                                                                                                                                                                                                                                                                                                                                                                                                                                                                                                                                                                                                                                                                                                                                            6920\n",
       "The meme stock scheduled posts will run Mon to Fri and won't be a sticky; you're probably seeing this because automod sent you here or you woke up early Wall St time; good morning!\\n\\n------\\n\\nWelcome traders who just can't help them selves discuss the same exact stock that's been discussed 100s of times a day.  I get it, you want to talk about what's popular, what's hot, and that 1.. single.. stock you like.. well here you go!  Some helpful links just for you:\\n\\n* [Previous meme stock threads](https://www.reddit.com/r/stocks/search?q=author%3Aautomoderator+title%3A%28common+OR+meme%29&amp;restrict_sr=on&amp;include_over_18=on&amp;sort=new&amp;t=all)\\n* [Previous discussions on overlooked (and possibly undervalued) stocks](https://www.reddit.com/r/stocks/search?q=author%3Aautomoderator+title%3Aoverlooked&amp;restrict_sr=on&amp;include_over_18=on&amp;sort=new&amp;t=all)\\n* [General discussions](https://www.reddit.com/r/stocks/search?q=author%3Aautomoderator+title%3Adiscussion&amp;restrict_sr=on&amp;include_over_18=on&amp;sort=new&amp;t=all)\\n* [The **original GME megathread**](https://www.reddit.com/r/stocks/comments/layb68/rstocks_gme_megathread/) with a ton of useful information\\n* [Use Finviz for aggregated news on your favorite stock](https://finviz.com/quote.ashx?t=gme)\\n\\nAn important message from our mod u/TCGYT [regarding meme stocks.](https://www.reddit.com/r/stocks/wiki/meme-stocks-warning)\\n\\nLastly if you need professional help:\\n\\n* Problem Gambling:  Call/Text: 1-800-522-4700 or [chat online now.](https://WWW.NCPGAMBLING.ORG/CHAT)\\n* Crisis Hotline (24/7): 1-800-273-TALK (8255) (Veterans, press 1) or Text “HOME” to 741-741      46\n",
       "[deleted]                                                                                                                                                                                                                                                                                                                                                                                                                                                                                                                                                                                                                                                                                                                                                                                                                                                                                                                                                                                                                                                                                                                                                                                                                                                                                                                                                                                                                                                                                                                                                                                                                                                                                                                              19\n",
       "Name: selftext, dtype: int64"
      ]
     },
     "execution_count": 12,
     "metadata": {},
     "output_type": "execute_result"
    }
   ],
   "source": [
    "df.selftext.value_counts().head(3)"
   ]
  },
  {
   "cell_type": "code",
   "execution_count": 13,
   "id": "079e022d-0c6a-4c5c-883c-ba97a9540f19",
   "metadata": {},
   "outputs": [
    {
     "data": {
      "text/html": [
       "<div>\n",
       "<style scoped>\n",
       "    .dataframe tbody tr th:only-of-type {\n",
       "        vertical-align: middle;\n",
       "    }\n",
       "\n",
       "    .dataframe tbody tr th {\n",
       "        vertical-align: top;\n",
       "    }\n",
       "\n",
       "    .dataframe thead th {\n",
       "        text-align: right;\n",
       "    }\n",
       "</style>\n",
       "<table border=\"1\" class=\"dataframe\">\n",
       "  <thead>\n",
       "    <tr style=\"text-align: right;\">\n",
       "      <th></th>\n",
       "      <th>subreddit</th>\n",
       "      <th>title</th>\n",
       "      <th>selftext</th>\n",
       "      <th>created_utc</th>\n",
       "    </tr>\n",
       "  </thead>\n",
       "  <tbody>\n",
       "    <tr>\n",
       "      <th>2</th>\n",
       "      <td>wallstreetbets</td>\n",
       "      <td>TUESDAY = $ B B I G 🚀🚀🚀LFG 🚀🚀🚀</td>\n",
       "      <td>[removed]</td>\n",
       "      <td>1642195841</td>\n",
       "    </tr>\n",
       "    <tr>\n",
       "      <th>55</th>\n",
       "      <td>wallstreetbets</td>\n",
       "      <td>Is Elon Musk guilty of personal insider trading</td>\n",
       "      <td>[removed]</td>\n",
       "      <td>1642191402</td>\n",
       "    </tr>\n",
       "    <tr>\n",
       "      <th>73</th>\n",
       "      <td>wallstreetbets</td>\n",
       "      <td>Pets to Rocket on Tuesday!</td>\n",
       "      <td>[removed]</td>\n",
       "      <td>1642190118</td>\n",
       "    </tr>\n",
       "  </tbody>\n",
       "</table>\n",
       "</div>"
      ],
      "text/plain": [
       "         subreddit                                            title  \\\n",
       "2   wallstreetbets                   TUESDAY = $ B B I G 🚀🚀🚀LFG 🚀🚀🚀   \n",
       "55  wallstreetbets  Is Elon Musk guilty of personal insider trading   \n",
       "73  wallstreetbets                       Pets to Rocket on Tuesday!   \n",
       "\n",
       "     selftext  created_utc  \n",
       "2   [removed]   1642195841  \n",
       "55  [removed]   1642191402  \n",
       "73  [removed]   1642190118  "
      ]
     },
     "execution_count": 13,
     "metadata": {},
     "output_type": "execute_result"
    }
   ],
   "source": [
    "df.loc[df.selftext=='[removed]'].head(3)"
   ]
  },
  {
   "cell_type": "code",
   "execution_count": 14,
   "id": "e4ae95c9-8ca0-4f13-bf36-9ed1f1f3beee",
   "metadata": {},
   "outputs": [
    {
     "data": {
      "text/html": [
       "<div>\n",
       "<style scoped>\n",
       "    .dataframe tbody tr th:only-of-type {\n",
       "        vertical-align: middle;\n",
       "    }\n",
       "\n",
       "    .dataframe tbody tr th {\n",
       "        vertical-align: top;\n",
       "    }\n",
       "\n",
       "    .dataframe thead th {\n",
       "        text-align: right;\n",
       "    }\n",
       "</style>\n",
       "<table border=\"1\" class=\"dataframe\">\n",
       "  <thead>\n",
       "    <tr style=\"text-align: right;\">\n",
       "      <th></th>\n",
       "      <th>subreddit</th>\n",
       "      <th>title</th>\n",
       "      <th>selftext</th>\n",
       "      <th>created_utc</th>\n",
       "    </tr>\n",
       "  </thead>\n",
       "  <tbody>\n",
       "    <tr>\n",
       "      <th>604</th>\n",
       "      <td>wallstreetbets</td>\n",
       "      <td>Diamonds hands are always good in the clutch</td>\n",
       "      <td>[deleted]</td>\n",
       "      <td>1642127108</td>\n",
       "    </tr>\n",
       "    <tr>\n",
       "      <th>1872</th>\n",
       "      <td>wallstreetbets</td>\n",
       "      <td>When you time the market perfectly.</td>\n",
       "      <td>[deleted]</td>\n",
       "      <td>1641996200</td>\n",
       "    </tr>\n",
       "    <tr>\n",
       "      <th>2104</th>\n",
       "      <td>wallstreetbets</td>\n",
       "      <td>Wasn’t a bad day today. Hodling for some more ...</td>\n",
       "      <td>[deleted]</td>\n",
       "      <td>1641959287</td>\n",
       "    </tr>\n",
       "  </tbody>\n",
       "</table>\n",
       "</div>"
      ],
      "text/plain": [
       "           subreddit                                              title  \\\n",
       "604   wallstreetbets       Diamonds hands are always good in the clutch   \n",
       "1872  wallstreetbets                When you time the market perfectly.   \n",
       "2104  wallstreetbets  Wasn’t a bad day today. Hodling for some more ...   \n",
       "\n",
       "       selftext  created_utc  \n",
       "604   [deleted]   1642127108  \n",
       "1872  [deleted]   1641996200  \n",
       "2104  [deleted]   1641959287  "
      ]
     },
     "execution_count": 14,
     "metadata": {},
     "output_type": "execute_result"
    }
   ],
   "source": [
    "df.loc[df.selftext=='[deleted]'].head(3)"
   ]
  },
  {
   "cell_type": "code",
   "execution_count": 15,
   "id": "58add67a-0b1c-4b54-93dc-ad8ead39388f",
   "metadata": {},
   "outputs": [
    {
     "data": {
      "text/html": [
       "<div>\n",
       "<style scoped>\n",
       "    .dataframe tbody tr th:only-of-type {\n",
       "        vertical-align: middle;\n",
       "    }\n",
       "\n",
       "    .dataframe tbody tr th {\n",
       "        vertical-align: top;\n",
       "    }\n",
       "\n",
       "    .dataframe thead th {\n",
       "        text-align: right;\n",
       "    }\n",
       "</style>\n",
       "<table border=\"1\" class=\"dataframe\">\n",
       "  <thead>\n",
       "    <tr style=\"text-align: right;\">\n",
       "      <th></th>\n",
       "      <th>subreddit</th>\n",
       "      <th>title</th>\n",
       "      <th>selftext</th>\n",
       "      <th>created_utc</th>\n",
       "    </tr>\n",
       "  </thead>\n",
       "  <tbody>\n",
       "    <tr>\n",
       "      <th>0</th>\n",
       "      <td>wallstreetbets</td>\n",
       "      <td>Made 45k on QQQ puts in 3 days, will finally p...</td>\n",
       "      <td>NaN</td>\n",
       "      <td>1642196072</td>\n",
       "    </tr>\n",
       "    <tr>\n",
       "      <th>1</th>\n",
       "      <td>wallstreetbets</td>\n",
       "      <td>There is a mining program giving unprecedented...</td>\n",
       "      <td>NaN</td>\n",
       "      <td>1642195904</td>\n",
       "    </tr>\n",
       "    <tr>\n",
       "      <th>3</th>\n",
       "      <td>wallstreetbets</td>\n",
       "      <td>PTN almost at the double Botham 🥳🍾💵💵💵💵💵💵</td>\n",
       "      <td>NaN</td>\n",
       "      <td>1642195792</td>\n",
       "    </tr>\n",
       "  </tbody>\n",
       "</table>\n",
       "</div>"
      ],
      "text/plain": [
       "        subreddit                                              title selftext  \\\n",
       "0  wallstreetbets  Made 45k on QQQ puts in 3 days, will finally p...      NaN   \n",
       "1  wallstreetbets  There is a mining program giving unprecedented...      NaN   \n",
       "3  wallstreetbets           PTN almost at the double Botham 🥳🍾💵💵💵💵💵💵      NaN   \n",
       "\n",
       "   created_utc  \n",
       "0   1642196072  \n",
       "1   1642195904  \n",
       "3   1642195792  "
      ]
     },
     "execution_count": 15,
     "metadata": {},
     "output_type": "execute_result"
    }
   ],
   "source": [
    "df.loc[df.selftext.isna()].head(3)"
   ]
  },
  {
   "cell_type": "markdown",
   "id": "e59f3728-5370-40e5-ba45-f022b9e135c0",
   "metadata": {},
   "source": [
    "A large number of the posts have nan for selftext which appears to be related to the post only containing an image, video, or other embedded object; no text.\n",
    "\n",
    "A massive portion of the posts have '[removed]' or '[deleted]' values.\n",
    "\n",
    "Additionally, there are a fair amount of duplicate values in selftext.\n",
    "\n",
    "However I think the titles of removed or deleted values can still be useful for analysis so I don't necessarrily want to drop all of them. I would like to remove duplicates but don't want to remove all rows containing selftext of 'deleted' or 'removed' in the process."
   ]
  },
  {
   "cell_type": "markdown",
   "id": "9d8d7d0b-a88b-454f-9b48-7f586e5e521b",
   "metadata": {},
   "source": [
    "#### Removing all duplicates except removed, deleted, or nan from selftext:"
   ]
  },
  {
   "cell_type": "code",
   "execution_count": 16,
   "id": "70939e8a-8727-436b-af7d-d7b6e50b5e39",
   "metadata": {},
   "outputs": [],
   "source": [
    "#https://stackoverflow.com/questions/58269642/remove-drop-duplicates-except-where-row-contains-certain-string\n",
    "\n",
    "df = df[~df.duplicated(['selftext']) | (df['selftext'] == '[removed]') | (df['selftext'] == '[deleted]') | (df['selftext'].isna())]\n"
   ]
  },
  {
   "cell_type": "code",
   "execution_count": 17,
   "id": "506e4517-5d60-44c8-a986-f6720ceea0d5",
   "metadata": {},
   "outputs": [
    {
     "data": {
      "text/plain": [
       "(18791, 4)"
      ]
     },
     "execution_count": 17,
     "metadata": {},
     "output_type": "execute_result"
    }
   ],
   "source": [
    "df.shape"
   ]
  },
  {
   "cell_type": "markdown",
   "id": "4762abe8-ca18-47c4-8b5e-39c78975a552",
   "metadata": {},
   "source": [
    "Now besides removed and deleted, there are only 1 post of each selftext."
   ]
  },
  {
   "cell_type": "code",
   "execution_count": 18,
   "id": "880d9a83-7e8e-4535-9dc5-8b93228f8c1b",
   "metadata": {
    "collapsed": true,
    "jupyter": {
     "outputs_hidden": true
    },
    "tags": []
   },
   "outputs": [
    {
     "data": {
      "text/plain": [
       "[removed]                                                                                                                                                                                                                                                                                                                                                                                                                                                                                                                                                                                                                                                                                                                                                                                                                                                                                                                                                                                                                                                                                                                                                                                                                                                                                                                                                                                                                                                                                                                                                                                                                                                                                                                                                                                                                                                                                                                                                                                                                                                                                                                                                                                                                                                                                                                                                                                                                                                                                                                                                                                                                                                                                                                                                                                                                                                                                                                                                                                                                                                                                                                                                                                                                                                                                                                                                                                                                                                                                                                                                                                                                                                                                                                                                                                                                                                                                                                                                                                                                                                                                                                                                                                                                                                                                                                                                                                                                                                                                                                                                                                                                                                                                                                                                                                                                                                                                                                                                                                                                                                                                                                                                                                                                                                                                                                                                                                                                                                                                                                                                                                                                                                                                                                                                                                                                                                                                                                                                                                                                                                                                                                                                                                                                                                                                                                                                                                                                                                                                                                                                                                                                                                                                                                                                                                                                                                                                                                                                                                                                                                                                                                                                                                                                                                                                                                                                                                                                                                                                                                                                                                                                                                                                                                                                                                                                                                                                                                                                                                                                                                                                                                                                                                                                                                                                                                                                                                                                                                                                                                                                                                                                                                                                                                                                                                                                                                                                                                                                                                                                                                                                                                                                                                                                                                                                                                                                                                                                                                                                                                                                                                                                                                                                                                                                                                                                                                                                                                                                                                                                                                                                                                                                                                                                                                                                                                                                                                                                                                                                                                                                                                                                                                                                                                                                                                                                                                                                                                                                                                                                                                                                                                                                                                                                                                                                                                                                                                                                                                                                                                                                                                                                                                                                                                                                                                                                                                                                                                                                                                                                                                                                                                                                                                                                                                                                                                                                                                                                                                                                                                                                                                                                                                                                                                                                                                                                                                                                                                                                                                                                                                                                                                                                                                                                                                                                                                                                                                                                                                                                                                                                                                                                                                                                                                                                                                                                                                                                                                      6920\n",
       "[deleted]                                                                                                                                                                                                                                                                                                                                                                                                                                                                                                                                                                                                                                                                                                                                                                                                                                                                                                                                                                                                                                                                                                                                                                                                                                                                                                                                                                                                                                                                                                                                                                                                                                                                                                                                                                                                                                                                                                                                                                                                                                                                                                                                                                                                                                                                                                                                                                                                                                                                                                                                                                                                                                                                                                                                                                                                                                                                                                                                                                                                                                                                                                                                                                                                                                                                                                                                                                                                                                                                                                                                                                                                                                                                                                                                                                                                                                                                                                                                                                                                                                                                                                                                                                                                                                                                                                                                                                                                                                                                                                                                                                                                                                                                                                                                                                                                                                                                                                                                                                                                                                                                                                                                                                                                                                                                                                                                                                                                                                                                                                                                                                                                                                                                                                                                                                                                                                                                                                                                                                                                                                                                                                                                                                                                                                                                                                                                                                                                                                                                                                                                                                                                                                                                                                                                                                                                                                                                                                                                                                                                                                                                                                                                                                                                                                                                                                                                                                                                                                                                                                                                                                                                                                                                                                                                                                                                                                                                                                                                                                                                                                                                                                                                                                                                                                                                                                                                                                                                                                                                                                                                                                                                                                                                                                                                                                                                                                                                                                                                                                                                                                                                                                                                                                                                                                                                                                                                                                                                                                                                                                                                                                                                                                                                                                                                                                                                                                                                                                                                                                                                                                                                                                                                                                                                                                                                                                                                                                                                                                                                                                                                                                                                                                                                                                                                                                                                                                                                                                                                                                                                                                                                                                                                                                                                                                                                                                                                                                                                                                                                                                                                                                                                                                                                                                                                                                                                                                                                                                                                                                                                                                                                                                                                                                                                                                                                                                                                                                                                                                                                                                                                                                                                                                                                                                                                                                                                                                                                                                                                                                                                                                                                                                                                                                                                                                                                                                                                                                                                                                                                                                                                                                                                                                                                                                                                                                                                                                                                                                                        19\n",
       "#Good morning traders and investors of the r/stocks sub! Welcome to Thursday! Here are your pre-market stock movers &amp; news on this Thursday, December 16th, 2021-\\n\\n*****\\n\\n# [Dow futures up 200 points following Fed decision to aggressively wind down asset purchases](https://www.cnbc.com/2021/12/15/stock-futures-market-open-close-news.html)\\n\\n*****\\n&gt; U.S. stock futures rose sharply in early Thursday trading after the Federal Reserve signaled it would be aggressive on tapering and sees three interest rate hikes in 2022.\\n*****\\n&gt; Futures on the Dow Jones Industrial Average jumped about 222 points. S&amp;P 500 and Nasdaq 100 futures added 0.7% each.\\n*****\\n&gt; Shares of companies that have done well in previous rate-hiking cycles led premarket gainers. Materials stocks FMC Corp. and Freeport-McMoRan both rose more than 3% ahead of the opening bell. Bank stocks also rose across the board, with JPMorgan Chase, Citigroup and Bank of America all up about 0.6%.\\n*****\\n&gt; In transportation news, Delta Air Lines reported that it now expects to see a profit of $200 million in the fourth quarter, after previously projecting a loss. Shares rose 2.2% on the news.\\n*****\\n&gt; In other central banking news, the Bank of England announced it is hiking its key policy rate by 15 basis points to 0.25%. Markets were awaiting a separate policy decision from the European Central Bank. There also is more economic news on tap, with weekly jobless claims and housing starts out at 8:30 a.m. ET.\\n*****\\n&gt; Following the Fed news, traders accelerated their own expectations for interest rate increases. Fed funds futures trading now points to a 63% chance of the first quarter-percentage-point increase coming in May 2022, with chances also rising to about 44% that the central bank could make its first move as soon as March, according to the CME FedWatch Tool.\\n*****\\n&gt; Stocks traded in negative territory throughout the regular session Wednesday and turned higher ahead of Fed Chairman Jerome Powell’s press conference in the afternoon at the conclusion of the two-day Federal Open Market Committee meeting. The Dow added 383 points, or 1.08%. The S&amp;P 500 rose 1.63% and the tech-heavy Nasdaq Composite jumped 2.15%.\\n*****\\n&gt; “The fact that the FOMC acknowledged new COVID variants as a threat to the economic recovery that could alter policy going forward, as well as the generally optimistic tone from Powell in the presser, helped spark a relief rally as the Fed meeting was viewed as being not-as-hawkish-as-feared,” Tom Essaye of the Sevens Report said in a note on Thursday.\\n*****\\n&gt; The Fed will begin reducing the pace of its asset purchases in January and buy just $60 billion of bonds each month going forward, compared to $90 billion in the month of December. That decision follows recent inflation data showing a 6.8% surge in November, which is higher than expected and the fastest rate since 1982.\\n*****\\n&gt; “The notion that elevated inflation levels would be transitory has finally been thrown out the window by the Fed and the latest policy adjustments are reflective of a committee that doesn’t want to miss the next train leaving the station,” said Charlie Ripley, senior investment strategist for Allianz Investment Management.\\n*****\\n&gt; Health-care stocks UnitedHealth and Amgen gained ground Wednesday, rising 3.1% and 2.6%, respectively.\\n*****\\n&gt; Adobe and Accenture are scheduled to report quarterly earnings before the opening bell. FedEx and Rivian will report after the bell.\\n\\n*****\\n\\n#STOCK FUTURES CURRENTLY:\\n######(**[CLICK HERE FOR STOCK FUTURES CHARTS!](https://finviz.com/futures.ashx)**)\\n\\n*****\\n\\n#YESTERDAY'S MARKET MAP:\\n######(**[CLICK HERE FOR YESTERDAY'S MARKET MAP!](https://i.imgur.com/REVymQM.png)**)\\n\\n*****\\n\\n#TODAY'S MARKET MAP:\\n######(**[CLICK HERE FOR TODAY'S MARKET MAP!](https://finviz.com/map.ashx)**)\\n\\n*****\\n\\n#YESTERDAY'S S&amp;P SECTORS:\\n######(**[CLICK HERE FOR YESTERDAY'S S&amp;P SECTORS CHART!](https://i.imgur.com/GXTQVZd.png)**)\\n\\n*****\\n\\n#TODAY'S S&amp;P SECTORS:\\n######(**[CLICK HERE FOR TODAY'S S&amp;P SECTORS CHART!](https://i.imgur.com/2JZE6Tm.png)**)\\n\\n*****\\n\\n#TODAY'S ECONOMIC CALENDAR:\\n######(**[CLICK HERE FOR TODAY'S ECONOMIC CALENDAR!](https://i.imgur.com/PLqYFDi.png)**)\\n\\n*****\\n\\n#THIS WEEK'S ECONOMIC CALENDAR:\\n######(**[CLICK HERE FOR THIS WEEK'S ECONOMIC CALENDAR!](https://i.imgur.com/iF0hbEZ.png)**)\\n\\n*****\\n\\n#THIS WEEK'S UPCOMING IPO'S:\\n######(**[CLICK HERE FOR THIS WEEK'S UPCOMING IPO'S!](https://i.imgur.com/FwXIQ6E.png)**)\\n\\n*****\\n\\n#THIS WEEK'S EARNINGS CALENDAR:\\n######(**[CLICK HERE FOR THIS WEEK'S EARNINGS CALENDAR!](https://i.imgur.com/jciUpQX.png)**)\\n\\n*****\\n\\n#THIS MORNING'S PRE-MARKET EARNINGS CALENDAR:\\n######(**[CLICK HERE FOR THIS MORNING'S EARNINGS CALENDAR!](https://i.imgur.com/aqK6Q30.png)**)\\n\\n*****\\n\\n#EARNINGS RELEASES BEFORE THE OPEN TODAY:\\n######(**[CLICK HERE FOR THIS MORNING'S EARNINGS RELEASES!](https://i.imgur.com/lon23ob.png)**)\\n\\n*****\\n\\n#EARNINGS RELEASES AFTER THE CLOSE TODAY:\\n######(**[CLICK HERE FOR THIS AFTERNOON'S EARNINGS RELEASES!](https://i.imgur.com/gpKr8gV.png)**)\\n\\n\\n*****\\n\\n#YESTERDAY'S ANALYST UPGRADES/DOWNGRADES:\\n######(**[CLICK HERE FOR YESTERDAY'S ANALYST UPGRADES/DOWNGRADES LINK #1!](https://i.imgur.com/c3XQXzc.png)**)\\n######(**[CLICK HERE FOR YESTERDAY'S ANALYST UPGRADES/DOWNGRADES LINK #2!](https://i.imgur.com/spOJUGV.png)**)\\n######(**[CLICK HERE FOR YESTERDAY'S ANALYST UPGRADES/DOWNGRADES LINK #3!](https://i.imgur.com/GOC2O9N.png)**)\\n######(**[CLICK HERE FOR YESTERDAY'S ANALYST UPGRADES/DOWNGRADES LINK #4!](https://i.imgur.com/N4MNSXg.png)**)\\n\\n*****\\n\\n#YESTERDAY'S INSIDER TRADING FILINGS:\\n######(**[CLICK HERE FOR YESTERDAY'S INSIDER TRADING FILINGS!](https://i.imgur.com/14iGGYL.png)**)\\n\\n*****\\n\\n#TODAY'S DIVIDEND CALENDAR:\\n######(**[CLICK HERE FOR TODAY'S DIVIDEND CALENDAR LINK #1!]()**)\\n(N/A.)\\n\\n*****\\n\\n#THIS MORNING'S STOCK NEWS MOVERS:\\n\\n######(**source: [cnbc.com](https://www.cnbc.com/2021/12/16/stocks-making-the-biggest-moves-premarket-delta-air-lines-accenture-regeneron-and-others.html)**)\\n\\n*****\\n\\n&gt; **Delta Air Lines (DAL)** – Delta rose 2.3% in the premarket after projecting a $200 million fourth-quarter profit. Consensus forecasts were predicting a quarterly loss for Delta, but the carrier said it is seeing strong holiday demand and it is on the path toward exceeding pre-pandemic profit levels.\\n\\n&gt; #**STOCK SYMBOL:** DAL\\n\\n&gt; * [CLICK HERE FOR CHART!](http://elite.finviz.com/chart.ashx?t=DAL&amp;ty=c&amp;ta=st_c,sch_200p,sma_50,sma_200,sma_20,sma_100,bb_20_2,rsi_b_14,macd_b_12_26_9,stofu_b_14_3_3&amp;p=d&amp;s=l)\\n\\n&gt; ######(**[CLICK HERE FOR LIVE STOCK QUOTE!](http://data.cnbc.com/quotes/DAL)**)\\n\\n*****\\n\\n&gt; **Accenture (ACN)** – The consulting firm’s shares surged 6.7% in the premarket after it reported better-than-expected profit and revenue for its latest quarter, and raised its earnings guidance for fiscal 2022. Revenue rose by more than 20% across the four biggest industry groups in Accenture’s customer base.\\n\\n&gt; #**STOCK SYMBOL:** ACN\\n\\n&gt; * [CLICK HERE FOR CHART!](http://elite.finviz.com/chart.ashx?t=ACN&amp;ty=c&amp;ta=st_c,sch_200p,sma_50,sma_200,sma_20,sma_100,bb_20_2,rsi_b_14,macd_b_12_26_9,stofu_b_14_3_3&amp;p=d&amp;s=l)\\n\\n&gt; ######(**[CLICK HERE FOR LIVE STOCK QUOTE!](http://data.cnbc.com/quotes/ACN)**)\\n\\n*****\\n\\n&gt; **Regeneron Pharmaceuticals (REGN)** – The drugmaker’s shares declined 1% in premarket trading after it said its antibody cocktail loses potency against the omicron Covid-19 variant. Regeneron did say that the cocktail is effective against the delta variant.\\n\\n&gt; #**STOCK SYMBOL:** REGN\\n\\n&gt; * [CLICK HERE FOR CHART!](http://elite.finviz.com/chart.ashx?t=REGN&amp;ty=c&amp;ta=st_c,sch_200p,sma_50,sma_200,sma_20,sma_100,bb_20_2,rsi_b_14,macd_b_12_26_9,stofu_b_14_3_3&amp;p=d&amp;s=l)\\n\\n&gt; ######(**[CLICK HERE FOR LIVE STOCK QUOTE!](http://data.cnbc.com/quotes/REGN)**)\\n\\n*****\\n\\n&gt; **Lennar (LEN)** – Lennar reported quarterly earnings of $3.91 per share, below the $4.15 consensus estimate, and the homebuilder’s revenue also fell short of forecasts. Lennar was hurt by higher lumber costs as well as increased labor costs and shortages of raw materials, resulting in delayed home deliveries. Lennar tumbled 6.3% in premarket action.\\n\\n&gt; #**STOCK SYMBOL:** LEN\\n\\n&gt; * [CLICK HERE FOR CHART!](http://elite.finviz.com/chart.ashx?t=LEN&amp;ty=c&amp;ta=st_c,sch_200p,sma_50,sma_200,sma_20,sma_100,bb_20_2,rsi_b_14,macd_b_12_26_9,stofu_b_14_3_3&amp;p=d&amp;s=l)\\n\\n&gt; ######(**[CLICK HERE FOR LIVE STOCK QUOTE!](http://data.cnbc.com/quotes/LEN)**)\\n\\n*****\\n\\n&gt; **Novartis (NVS)** – Novartis launched a new share buyback program worth up to $15 billion, with the drug maker planning to complete those repurchases by the end of 2023. Shares jumped 4% in premarket trading.\\n\\n&gt; #**STOCK SYMBOL:** NVS\\n\\n&gt; * [CLICK HERE FOR CHART!](http://elite.finviz.com/chart.ashx?t=NVS&amp;ty=c&amp;ta=st_c,sch_200p,sma_50,sma_200,sma_20,sma_100,bb_20_2,rsi_b_14,macd_b_12_26_9,stofu_b_14_3_3&amp;p=d&amp;s=l)\\n\\n&gt; ######(**[CLICK HERE FOR LIVE STOCK QUOTE!](http://data.cnbc.com/quotes/NVS)**)\\n\\n*****\\n\\n&gt; **Visa (V)** – Visa rose 1.1% in the premarket after announcing that it added $12 billion to its share buyback program, bringing the total amount of its repurchase authority to $13.2 billion.\\n\\n&gt; #**STOCK SYMBOL:** V\\n\\n&gt; * [CLICK HERE FOR CHART!](http://elite.finviz.com/chart.ashx?t=V&amp;ty=c&amp;ta=st_c,sch_200p,sma_50,sma_200,sma_20,sma_100,bb_20_2,rsi_b_14,macd_b_12_26_9,stofu_b_14_3_3&amp;p=d&amp;s=l)\\n\\n&gt; ######(**[CLICK HERE FOR LIVE STOCK QUOTE!](http://data.cnbc.com/quotes/V)**)\\n\\n*****\\n\\n&gt; **J.M. Smucker (SJM)** – Smucker struck a deal to sell its natural beverage and grains businesses to private equity firm Nexus Capital Management for $110 million, with the food producer saying it wanted to focus more resources on its core brands.\\n\\n&gt; #**STOCK SYMBOL:** SJM\\n\\n&gt; * [CLICK HERE FOR CHART!](http://elite.finviz.com/chart.ashx?t=SJM&amp;ty=c&amp;ta=st_c,sch_200p,sma_50,sma_200,sma_20,sma_100,bb_20_2,rsi_b_14,macd_b_12_26_9,stofu_b_14_3_3&amp;p=d&amp;s=l)\\n\\n&gt; ######(**[CLICK HERE FOR LIVE STOCK QUOTE!](http://data.cnbc.com/quotes/SJM)**)\\n\\n*****\\n\\n&gt; **Intuitive Surgical (ISRG)** – Intuitive Surgical was added to the “conviction buy” list at Goldman Sachs, which points to the company’s pending launch of a new surgical system. Shares added 1.2% in the premarket.\\n\\n&gt; #**STOCK SYMBOL:** ISRG\\n\\n&gt; * [CLICK HERE FOR CHART!](http://elite.finviz.com/chart.ashx?t=ISRG&amp;ty=c&amp;ta=st_c,sch_200p,sma_50,sma_200,sma_20,sma_100,bb_20_2,rsi_b_14,macd_b_12_26_9,stofu_b_14_3_3&amp;p=d&amp;s=l)\\n\\n&gt; ######(**[CLICK HERE FOR LIVE STOCK QUOTE!](http://data.cnbc.com/quotes/ISRG)**)\\n\\n*****\\n\\n&gt; **AT&amp;T (T)** – Morgan Stanley upgraded AT&amp;T to “overweight” from “equal-weight,” saying a recent slide by the stock creates an attractive risk-reward profile. The firm said there are several other key factors driving the upgrade, including the pending completion of the WarnerMedia/Discovery merger. AT&amp;T gained 1.5% in premarket trading.\\n\\n&gt; #**STOCK SYMBOL:** T\\n\\n&gt; * [CLICK HERE FOR CHART!](http://elite.finviz.com/chart.ashx?t=T&amp;ty=c&amp;ta=st_c,sch_200p,sma_50,sma_200,sma_20,sma_100,bb_20_2,rsi_b_14,macd_b_12_26_9,stofu_b_14_3_3&amp;p=d&amp;s=l)\\n\\n&gt; ######(**[CLICK HERE FOR LIVE STOCK QUOTE!](http://data.cnbc.com/quotes/T)**)\\n\\n*****\\n\\n&gt; **Petco Health (WOOF)** – The pet products seller’s stock added 1.9% in the premarket after Needham began coverage with a “buy” rating. The firm feels Petco should outperform competitors in the pet category, given its presence in multiple channels including veterinary hospitals.\\n\\n&gt; #**STOCK SYMBOL:** WOOF\\n\\n&gt; * [CLICK HERE FOR CHART!](http://elite.finviz.com/chart.ashx?t=WOOF&amp;ty=c&amp;ta=st_c,sch_200p,sma_50,sma_200,sma_20,sma_100,bb_20_2,rsi_b_14,macd_b_12_26_9,stofu_b_14_3_3&amp;p=d&amp;s=l)\\n\\n&gt; ######(**[CLICK HERE FOR LIVE STOCK QUOTE!](http://data.cnbc.com/quotes/WOOF)**)\\n\\n*****\\n\\n&gt; **Shopify (SHOP)** – The e-commerce platform operator rallied 2.9% in premarket trading after Evercore upgraded it to “outperform” from “in line.” Evercore noted that the stock is about 20% below its year highs and that the company represents a high-quality asset in terms of growth opportunities.\\n\\n&gt; #**STOCK SYMBOL:** SHOP\\n\\n&gt; * [CLICK HERE FOR CHART!](http://elite.finviz.com/chart.ashx?t=SHOP&amp;ty=c&amp;ta=st_c,sch_200p,sma_50,sma_200,sma_20,sma_100,bb_20_2,rsi_b_14,macd_b_12_26_9,stofu_b_14_3_3&amp;p=d&amp;s=l)\\n\\n&gt; ######(**[CLICK HERE FOR LIVE STOCK QUOTE!](http://data.cnbc.com/quotes/SHOP)**)\\n\\n*****\\n\\n#**FULL DISCLOSURE:**\\n\\n&gt; /u/bigbear0083 has no positions in any stocks mentioned. Reddit, moderators, and the author do not advise making investment decisions based on discussion in these posts. Analysis is not subject to validation and users take action at their own risk.\\n\\n*****\\n\\n#**DISCUSS!**\\n\\nWhat's on everyone's radar for today's trading day ahead here at r/stocks?\\n\\n*****\\n\\n# **I hope you all have an excellent trading day ahead today on this Thursday, December 16th, 2021! :)**       1\n",
       "Name: selftext, dtype: int64"
      ]
     },
     "execution_count": 18,
     "metadata": {},
     "output_type": "execute_result"
    }
   ],
   "source": [
    "df.selftext.value_counts().head(3)"
   ]
  },
  {
   "cell_type": "code",
   "execution_count": 19,
   "id": "7527e08d-a682-4622-a231-068cd0a62e5a",
   "metadata": {},
   "outputs": [
    {
     "name": "stdout",
     "output_type": "stream",
     "text": [
      "<class 'pandas.core.frame.DataFrame'>\n",
      "Int64Index: 18791 entries, 0 to 18939\n",
      "Data columns (total 4 columns):\n",
      " #   Column       Non-Null Count  Dtype \n",
      "---  ------       --------------  ----- \n",
      " 0   subreddit    18791 non-null  object\n",
      " 1   title        18791 non-null  object\n",
      " 2   selftext     13268 non-null  object\n",
      " 3   created_utc  18791 non-null  int64 \n",
      "dtypes: int64(1), object(3)\n",
      "memory usage: 734.0+ KB\n"
     ]
    }
   ],
   "source": [
    "df.info()"
   ]
  },
  {
   "cell_type": "markdown",
   "id": "4a18b24e-ab09-4fda-8cd0-525cc3b2c644",
   "metadata": {},
   "source": [
    "### Creating all_text colummn in df"
   ]
  },
  {
   "cell_type": "markdown",
   "id": "274b4b91-ff1d-40c7-8f3c-1d9329bc5177",
   "metadata": {},
   "source": [
    "After removing all duplicate values from selftext and title, I want to join the two columns into a new 'all_text' column that ignores removed, deleted, or nan values in selftext."
   ]
  },
  {
   "cell_type": "code",
   "execution_count": 20,
   "id": "70475c2b-dfc2-424b-8f40-9a23dac290e6",
   "metadata": {},
   "outputs": [
    {
     "data": {
      "text/html": [
       "<div>\n",
       "<style scoped>\n",
       "    .dataframe tbody tr th:only-of-type {\n",
       "        vertical-align: middle;\n",
       "    }\n",
       "\n",
       "    .dataframe tbody tr th {\n",
       "        vertical-align: top;\n",
       "    }\n",
       "\n",
       "    .dataframe thead th {\n",
       "        text-align: right;\n",
       "    }\n",
       "</style>\n",
       "<table border=\"1\" class=\"dataframe\">\n",
       "  <thead>\n",
       "    <tr style=\"text-align: right;\">\n",
       "      <th></th>\n",
       "      <th>subreddit</th>\n",
       "      <th>title</th>\n",
       "      <th>selftext</th>\n",
       "      <th>created_utc</th>\n",
       "    </tr>\n",
       "  </thead>\n",
       "  <tbody>\n",
       "    <tr>\n",
       "      <th>0</th>\n",
       "      <td>wallstreetbets</td>\n",
       "      <td>Made 45k on QQQ puts in 3 days, will finally p...</td>\n",
       "      <td>NaN</td>\n",
       "      <td>1642196072</td>\n",
       "    </tr>\n",
       "    <tr>\n",
       "      <th>1</th>\n",
       "      <td>wallstreetbets</td>\n",
       "      <td>There is a mining program giving unprecedented...</td>\n",
       "      <td>NaN</td>\n",
       "      <td>1642195904</td>\n",
       "    </tr>\n",
       "    <tr>\n",
       "      <th>2</th>\n",
       "      <td>wallstreetbets</td>\n",
       "      <td>TUESDAY = $ B B I G 🚀🚀🚀LFG 🚀🚀🚀</td>\n",
       "      <td>[removed]</td>\n",
       "      <td>1642195841</td>\n",
       "    </tr>\n",
       "    <tr>\n",
       "      <th>3</th>\n",
       "      <td>wallstreetbets</td>\n",
       "      <td>PTN almost at the double Botham 🥳🍾💵💵💵💵💵💵</td>\n",
       "      <td>NaN</td>\n",
       "      <td>1642195792</td>\n",
       "    </tr>\n",
       "    <tr>\n",
       "      <th>4</th>\n",
       "      <td>wallstreetbets</td>\n",
       "      <td>I love weeklies. Fuck AMC</td>\n",
       "      <td>NaN</td>\n",
       "      <td>1642195724</td>\n",
       "    </tr>\n",
       "  </tbody>\n",
       "</table>\n",
       "</div>"
      ],
      "text/plain": [
       "        subreddit                                              title  \\\n",
       "0  wallstreetbets  Made 45k on QQQ puts in 3 days, will finally p...   \n",
       "1  wallstreetbets  There is a mining program giving unprecedented...   \n",
       "2  wallstreetbets                     TUESDAY = $ B B I G 🚀🚀🚀LFG 🚀🚀🚀   \n",
       "3  wallstreetbets           PTN almost at the double Botham 🥳🍾💵💵💵💵💵💵   \n",
       "4  wallstreetbets                          I love weeklies. Fuck AMC   \n",
       "\n",
       "    selftext  created_utc  \n",
       "0        NaN   1642196072  \n",
       "1        NaN   1642195904  \n",
       "2  [removed]   1642195841  \n",
       "3        NaN   1642195792  \n",
       "4        NaN   1642195724  "
      ]
     },
     "execution_count": 20,
     "metadata": {},
     "output_type": "execute_result"
    }
   ],
   "source": [
    "#This is the subset of the dataframe for which I need to set all_text = df.title:\n",
    "df[(df['selftext'] == '[removed]') | (df['selftext'] == '[deleted]') | (df['selftext'].isna())].head()\n"
   ]
  },
  {
   "cell_type": "code",
   "execution_count": 27,
   "id": "e4638d42-17a0-4c62-8907-3d1e794adf2c",
   "metadata": {
    "tags": []
   },
   "outputs": [],
   "source": [
    "#first I set all_text = the sum of title and selftext columns for the whole df:\n",
    "df['all_text'] = df['title'] + ' ' + df['selftext']\n"
   ]
  },
  {
   "cell_type": "code",
   "execution_count": 28,
   "id": "bb4f3176-8b74-458e-9265-1c849ea6653d",
   "metadata": {},
   "outputs": [],
   "source": [
    "#for selftext = nan,, all_text is = nan, to fix:\n",
    "df['all_text'].loc[df['selftext'].isna()] = df['title']\n"
   ]
  },
  {
   "cell_type": "code",
   "execution_count": 29,
   "id": "4498389a-d1a6-4a52-9578-5e4a260264d3",
   "metadata": {},
   "outputs": [],
   "source": [
    "#for selftext = '[removed]', all_text tags the '[removed]' string to the end of title, to fix:\n",
    "df['all_text'].loc[df['selftext'] == '[removed]'] = df['title']\n"
   ]
  },
  {
   "cell_type": "code",
   "execution_count": 30,
   "id": "2ed6d970-9bd9-46bf-8c8d-0b0537be712a",
   "metadata": {
    "tags": []
   },
   "outputs": [],
   "source": [
    "#for selftext = '[deleted]', all_text tags the '[deleted]' string to the end of title, to fix:\n",
    "df['all_text'].loc[df['selftext'] == '[deleted]']  = df['title']\n"
   ]
  },
  {
   "cell_type": "code",
   "execution_count": 31,
   "id": "4819b2ef-c05c-4fe5-b5ec-9a83483aab4c",
   "metadata": {},
   "outputs": [
    {
     "data": {
      "text/html": [
       "<div>\n",
       "<style scoped>\n",
       "    .dataframe tbody tr th:only-of-type {\n",
       "        vertical-align: middle;\n",
       "    }\n",
       "\n",
       "    .dataframe tbody tr th {\n",
       "        vertical-align: top;\n",
       "    }\n",
       "\n",
       "    .dataframe thead th {\n",
       "        text-align: right;\n",
       "    }\n",
       "</style>\n",
       "<table border=\"1\" class=\"dataframe\">\n",
       "  <thead>\n",
       "    <tr style=\"text-align: right;\">\n",
       "      <th></th>\n",
       "      <th>subreddit</th>\n",
       "      <th>title</th>\n",
       "      <th>selftext</th>\n",
       "      <th>created_utc</th>\n",
       "      <th>all_text</th>\n",
       "    </tr>\n",
       "  </thead>\n",
       "  <tbody>\n",
       "    <tr>\n",
       "      <th>0</th>\n",
       "      <td>wallstreetbets</td>\n",
       "      <td>Made 45k on QQQ puts in 3 days, will finally p...</td>\n",
       "      <td>NaN</td>\n",
       "      <td>1642196072</td>\n",
       "      <td>Made 45k on QQQ puts in 3 days, will finally p...</td>\n",
       "    </tr>\n",
       "    <tr>\n",
       "      <th>1</th>\n",
       "      <td>wallstreetbets</td>\n",
       "      <td>There is a mining program giving unprecedented...</td>\n",
       "      <td>NaN</td>\n",
       "      <td>1642195904</td>\n",
       "      <td>There is a mining program giving unprecedented...</td>\n",
       "    </tr>\n",
       "    <tr>\n",
       "      <th>2</th>\n",
       "      <td>wallstreetbets</td>\n",
       "      <td>TUESDAY = $ B B I G 🚀🚀🚀LFG 🚀🚀🚀</td>\n",
       "      <td>[removed]</td>\n",
       "      <td>1642195841</td>\n",
       "      <td>TUESDAY = $ B B I G 🚀🚀🚀LFG 🚀🚀🚀</td>\n",
       "    </tr>\n",
       "    <tr>\n",
       "      <th>3</th>\n",
       "      <td>wallstreetbets</td>\n",
       "      <td>PTN almost at the double Botham 🥳🍾💵💵💵💵💵💵</td>\n",
       "      <td>NaN</td>\n",
       "      <td>1642195792</td>\n",
       "      <td>PTN almost at the double Botham 🥳🍾💵💵💵💵💵💵</td>\n",
       "    </tr>\n",
       "    <tr>\n",
       "      <th>4</th>\n",
       "      <td>wallstreetbets</td>\n",
       "      <td>I love weeklies. Fuck AMC</td>\n",
       "      <td>NaN</td>\n",
       "      <td>1642195724</td>\n",
       "      <td>I love weeklies. Fuck AMC</td>\n",
       "    </tr>\n",
       "    <tr>\n",
       "      <th>5</th>\n",
       "      <td>wallstreetbets</td>\n",
       "      <td>How will SPY close on Jan 17?</td>\n",
       "      <td>\\n\\n[View Poll](https://www.reddit.com/poll/s4...</td>\n",
       "      <td>1642195595</td>\n",
       "      <td>How will SPY close on Jan 17? \\n\\n[View Poll](...</td>\n",
       "    </tr>\n",
       "  </tbody>\n",
       "</table>\n",
       "</div>"
      ],
      "text/plain": [
       "        subreddit                                              title  \\\n",
       "0  wallstreetbets  Made 45k on QQQ puts in 3 days, will finally p...   \n",
       "1  wallstreetbets  There is a mining program giving unprecedented...   \n",
       "2  wallstreetbets                     TUESDAY = $ B B I G 🚀🚀🚀LFG 🚀🚀🚀   \n",
       "3  wallstreetbets           PTN almost at the double Botham 🥳🍾💵💵💵💵💵💵   \n",
       "4  wallstreetbets                          I love weeklies. Fuck AMC   \n",
       "5  wallstreetbets                      How will SPY close on Jan 17?   \n",
       "\n",
       "                                            selftext  created_utc  \\\n",
       "0                                                NaN   1642196072   \n",
       "1                                                NaN   1642195904   \n",
       "2                                          [removed]   1642195841   \n",
       "3                                                NaN   1642195792   \n",
       "4                                                NaN   1642195724   \n",
       "5  \\n\\n[View Poll](https://www.reddit.com/poll/s4...   1642195595   \n",
       "\n",
       "                                            all_text  \n",
       "0  Made 45k on QQQ puts in 3 days, will finally p...  \n",
       "1  There is a mining program giving unprecedented...  \n",
       "2                     TUESDAY = $ B B I G 🚀🚀🚀LFG 🚀🚀🚀  \n",
       "3           PTN almost at the double Botham 🥳🍾💵💵💵💵💵💵  \n",
       "4                          I love weeklies. Fuck AMC  \n",
       "5  How will SPY close on Jan 17? \\n\\n[View Poll](...  "
      ]
     },
     "execution_count": 31,
     "metadata": {},
     "output_type": "execute_result"
    }
   ],
   "source": [
    "df.head(6)"
   ]
  },
  {
   "cell_type": "markdown",
   "id": "cade5c53-b21f-485f-a878-621b244489cb",
   "metadata": {},
   "source": [
    "#### Creating post_length column to look at longest and shortest posts by word count"
   ]
  },
  {
   "cell_type": "code",
   "execution_count": 40,
   "id": "09556043-c632-4ae7-b205-2d5e0e149d42",
   "metadata": {},
   "outputs": [
    {
     "data": {
      "text/html": [
       "<div>\n",
       "<style scoped>\n",
       "    .dataframe tbody tr th:only-of-type {\n",
       "        vertical-align: middle;\n",
       "    }\n",
       "\n",
       "    .dataframe tbody tr th {\n",
       "        vertical-align: top;\n",
       "    }\n",
       "\n",
       "    .dataframe thead th {\n",
       "        text-align: right;\n",
       "    }\n",
       "</style>\n",
       "<table border=\"1\" class=\"dataframe\">\n",
       "  <thead>\n",
       "    <tr style=\"text-align: right;\">\n",
       "      <th></th>\n",
       "      <th>subreddit</th>\n",
       "      <th>title</th>\n",
       "      <th>selftext</th>\n",
       "      <th>created_utc</th>\n",
       "      <th>all_text</th>\n",
       "      <th>post_length</th>\n",
       "    </tr>\n",
       "  </thead>\n",
       "  <tbody>\n",
       "    <tr>\n",
       "      <th>0</th>\n",
       "      <td>wallstreetbets</td>\n",
       "      <td>Made 45k on QQQ puts in 3 days, will finally p...</td>\n",
       "      <td>NaN</td>\n",
       "      <td>1642196072</td>\n",
       "      <td>Made 45k on QQQ puts in 3 days, will finally p...</td>\n",
       "      <td>16</td>\n",
       "    </tr>\n",
       "    <tr>\n",
       "      <th>1</th>\n",
       "      <td>wallstreetbets</td>\n",
       "      <td>There is a mining program giving unprecedented...</td>\n",
       "      <td>NaN</td>\n",
       "      <td>1642195904</td>\n",
       "      <td>There is a mining program giving unprecedented...</td>\n",
       "      <td>26</td>\n",
       "    </tr>\n",
       "    <tr>\n",
       "      <th>2</th>\n",
       "      <td>wallstreetbets</td>\n",
       "      <td>TUESDAY = $ B B I G 🚀🚀🚀LFG 🚀🚀🚀</td>\n",
       "      <td>[removed]</td>\n",
       "      <td>1642195841</td>\n",
       "      <td>TUESDAY = $ B B I G 🚀🚀🚀LFG 🚀🚀🚀</td>\n",
       "      <td>9</td>\n",
       "    </tr>\n",
       "    <tr>\n",
       "      <th>3</th>\n",
       "      <td>wallstreetbets</td>\n",
       "      <td>PTN almost at the double Botham 🥳🍾💵💵💵💵💵💵</td>\n",
       "      <td>NaN</td>\n",
       "      <td>1642195792</td>\n",
       "      <td>PTN almost at the double Botham 🥳🍾💵💵💵💵💵💵</td>\n",
       "      <td>7</td>\n",
       "    </tr>\n",
       "    <tr>\n",
       "      <th>4</th>\n",
       "      <td>wallstreetbets</td>\n",
       "      <td>I love weeklies. Fuck AMC</td>\n",
       "      <td>NaN</td>\n",
       "      <td>1642195724</td>\n",
       "      <td>I love weeklies. Fuck AMC</td>\n",
       "      <td>5</td>\n",
       "    </tr>\n",
       "  </tbody>\n",
       "</table>\n",
       "</div>"
      ],
      "text/plain": [
       "        subreddit                                              title  \\\n",
       "0  wallstreetbets  Made 45k on QQQ puts in 3 days, will finally p...   \n",
       "1  wallstreetbets  There is a mining program giving unprecedented...   \n",
       "2  wallstreetbets                     TUESDAY = $ B B I G 🚀🚀🚀LFG 🚀🚀🚀   \n",
       "3  wallstreetbets           PTN almost at the double Botham 🥳🍾💵💵💵💵💵💵   \n",
       "4  wallstreetbets                          I love weeklies. Fuck AMC   \n",
       "\n",
       "    selftext  created_utc                                           all_text  \\\n",
       "0        NaN   1642196072  Made 45k on QQQ puts in 3 days, will finally p...   \n",
       "1        NaN   1642195904  There is a mining program giving unprecedented...   \n",
       "2  [removed]   1642195841                     TUESDAY = $ B B I G 🚀🚀🚀LFG 🚀🚀🚀   \n",
       "3        NaN   1642195792           PTN almost at the double Botham 🥳🍾💵💵💵💵💵💵   \n",
       "4        NaN   1642195724                          I love weeklies. Fuck AMC   \n",
       "\n",
       "   post_length  \n",
       "0           16  \n",
       "1           26  \n",
       "2            9  \n",
       "3            7  \n",
       "4            5  "
      ]
     },
     "execution_count": 40,
     "metadata": {},
     "output_type": "execute_result"
    }
   ],
   "source": [
    "df['post_length'] = [len(s.split()) for s in df['all_text']]\n",
    "df.head()"
   ]
  },
  {
   "cell_type": "code",
   "execution_count": 42,
   "id": "5d1465a3-6756-4040-b766-b5df004a3201",
   "metadata": {},
   "outputs": [
    {
     "data": {
      "text/html": [
       "<div>\n",
       "<style scoped>\n",
       "    .dataframe tbody tr th:only-of-type {\n",
       "        vertical-align: middle;\n",
       "    }\n",
       "\n",
       "    .dataframe tbody tr th {\n",
       "        vertical-align: top;\n",
       "    }\n",
       "\n",
       "    .dataframe thead th {\n",
       "        text-align: right;\n",
       "    }\n",
       "</style>\n",
       "<table border=\"1\" class=\"dataframe\">\n",
       "  <thead>\n",
       "    <tr style=\"text-align: right;\">\n",
       "      <th></th>\n",
       "      <th>subreddit</th>\n",
       "      <th>title</th>\n",
       "      <th>selftext</th>\n",
       "      <th>created_utc</th>\n",
       "      <th>all_text</th>\n",
       "      <th>post_length</th>\n",
       "    </tr>\n",
       "  </thead>\n",
       "  <tbody>\n",
       "    <tr>\n",
       "      <th>2730</th>\n",
       "      <td>wallstreetbets</td>\n",
       "      <td>Sad</td>\n",
       "      <td>NaN</td>\n",
       "      <td>1641883153</td>\n",
       "      <td>Sad</td>\n",
       "      <td>1</td>\n",
       "    </tr>\n",
       "    <tr>\n",
       "      <th>3810</th>\n",
       "      <td>wallstreetbets</td>\n",
       "      <td>🤪🤪🤪🤪</td>\n",
       "      <td>NaN</td>\n",
       "      <td>1641752111</td>\n",
       "      <td>🤪🤪🤪🤪</td>\n",
       "      <td>1</td>\n",
       "    </tr>\n",
       "    <tr>\n",
       "      <th>3809</th>\n",
       "      <td>wallstreetbets</td>\n",
       "      <td>ouch...</td>\n",
       "      <td>NaN</td>\n",
       "      <td>1641752173</td>\n",
       "      <td>ouch...</td>\n",
       "      <td>1</td>\n",
       "    </tr>\n",
       "    <tr>\n",
       "      <th>1491</th>\n",
       "      <td>wallstreetbets</td>\n",
       "      <td>Bullish</td>\n",
       "      <td>NaN</td>\n",
       "      <td>1642025046</td>\n",
       "      <td>Bullish</td>\n",
       "      <td>1</td>\n",
       "    </tr>\n",
       "    <tr>\n",
       "      <th>3804</th>\n",
       "      <td>wallstreetbets</td>\n",
       "      <td>This.</td>\n",
       "      <td>NaN</td>\n",
       "      <td>1641753064</td>\n",
       "      <td>This.</td>\n",
       "      <td>1</td>\n",
       "    </tr>\n",
       "    <tr>\n",
       "      <th>6673</th>\n",
       "      <td>wallstreetbets</td>\n",
       "      <td>Guh?!</td>\n",
       "      <td>NaN</td>\n",
       "      <td>1641416603</td>\n",
       "      <td>Guh?!</td>\n",
       "      <td>1</td>\n",
       "    </tr>\n",
       "    <tr>\n",
       "      <th>8321</th>\n",
       "      <td>wallstreetbets</td>\n",
       "      <td>MRVI</td>\n",
       "      <td>[removed]</td>\n",
       "      <td>1641226629</td>\n",
       "      <td>MRVI</td>\n",
       "      <td>1</td>\n",
       "    </tr>\n",
       "    <tr>\n",
       "      <th>8039</th>\n",
       "      <td>wallstreetbets</td>\n",
       "      <td>👏👏👏👏</td>\n",
       "      <td>NaN</td>\n",
       "      <td>1641251654</td>\n",
       "      <td>👏👏👏👏</td>\n",
       "      <td>1</td>\n",
       "    </tr>\n",
       "    <tr>\n",
       "      <th>9389</th>\n",
       "      <td>wallstreetbets</td>\n",
       "      <td>SAFEMOON</td>\n",
       "      <td>[removed]</td>\n",
       "      <td>1641019637</td>\n",
       "      <td>SAFEMOON</td>\n",
       "      <td>1</td>\n",
       "    </tr>\n",
       "    <tr>\n",
       "      <th>4801</th>\n",
       "      <td>wallstreetbets</td>\n",
       "      <td>😬🥴</td>\n",
       "      <td>NaN</td>\n",
       "      <td>1641586805</td>\n",
       "      <td>😬🥴</td>\n",
       "      <td>1</td>\n",
       "    </tr>\n",
       "  </tbody>\n",
       "</table>\n",
       "</div>"
      ],
      "text/plain": [
       "           subreddit     title   selftext  created_utc  all_text  post_length\n",
       "2730  wallstreetbets       Sad        NaN   1641883153       Sad            1\n",
       "3810  wallstreetbets      🤪🤪🤪🤪        NaN   1641752111      🤪🤪🤪🤪            1\n",
       "3809  wallstreetbets   ouch...        NaN   1641752173   ouch...            1\n",
       "1491  wallstreetbets   Bullish        NaN   1642025046   Bullish            1\n",
       "3804  wallstreetbets     This.        NaN   1641753064     This.            1\n",
       "6673  wallstreetbets     Guh?!        NaN   1641416603     Guh?!            1\n",
       "8321  wallstreetbets      MRVI  [removed]   1641226629      MRVI            1\n",
       "8039  wallstreetbets      👏👏👏👏        NaN   1641251654      👏👏👏👏            1\n",
       "9389  wallstreetbets  SAFEMOON  [removed]   1641019637  SAFEMOON            1\n",
       "4801  wallstreetbets        😬🥴        NaN   1641586805        😬🥴            1"
      ]
     },
     "execution_count": 42,
     "metadata": {},
     "output_type": "execute_result"
    }
   ],
   "source": [
    "df.sort_values(by='post_length').head(10)"
   ]
  },
  {
   "cell_type": "code",
   "execution_count": 56,
   "id": "d797209a-dd6a-4b68-b65e-70507e914501",
   "metadata": {},
   "outputs": [
    {
     "data": {
      "text/html": [
       "<div>\n",
       "<style scoped>\n",
       "    .dataframe tbody tr th:only-of-type {\n",
       "        vertical-align: middle;\n",
       "    }\n",
       "\n",
       "    .dataframe tbody tr th {\n",
       "        vertical-align: top;\n",
       "    }\n",
       "\n",
       "    .dataframe thead th {\n",
       "        text-align: right;\n",
       "    }\n",
       "</style>\n",
       "<table border=\"1\" class=\"dataframe\">\n",
       "  <thead>\n",
       "    <tr style=\"text-align: right;\">\n",
       "      <th></th>\n",
       "      <th>subreddit</th>\n",
       "      <th>title</th>\n",
       "      <th>selftext</th>\n",
       "      <th>created_utc</th>\n",
       "      <th>all_text</th>\n",
       "      <th>post_length</th>\n",
       "    </tr>\n",
       "  </thead>\n",
       "  <tbody>\n",
       "    <tr>\n",
       "      <th>10359</th>\n",
       "      <td>stocks</td>\n",
       "      <td>Wall Street Week Ahead for the trading week be...</td>\n",
       "      <td>Good Saturday afternoon to all of you here on ...</td>\n",
       "      <td>1641659209</td>\n",
       "      <td>Wall Street Week Ahead for the trading week be...</td>\n",
       "      <td>5902</td>\n",
       "    </tr>\n",
       "    <tr>\n",
       "      <th>11553</th>\n",
       "      <td>stocks</td>\n",
       "      <td>Wall Street Week Ahead for the trading week be...</td>\n",
       "      <td>Good Saturday afternoon to all of you here on ...</td>\n",
       "      <td>1641059082</td>\n",
       "      <td>Wall Street Week Ahead for the trading week be...</td>\n",
       "      <td>5054</td>\n",
       "    </tr>\n",
       "    <tr>\n",
       "      <th>18507</th>\n",
       "      <td>stocks</td>\n",
       "      <td>Wall Street Week Ahead for the trading week be...</td>\n",
       "      <td>Good Saturday morning to all of you here on r/...</td>\n",
       "      <td>1636809411</td>\n",
       "      <td>Wall Street Week Ahead for the trading week be...</td>\n",
       "      <td>4667</td>\n",
       "    </tr>\n",
       "    <tr>\n",
       "      <th>18372</th>\n",
       "      <td>stocks</td>\n",
       "      <td>Why I believe $MAPS WM Holdings is undervalued</td>\n",
       "      <td>WM Holdings is in my opinion is misunderstood ...</td>\n",
       "      <td>1636903112</td>\n",
       "      <td>Why I believe $MAPS WM Holdings is undervalued...</td>\n",
       "      <td>3968</td>\n",
       "    </tr>\n",
       "    <tr>\n",
       "      <th>15407</th>\n",
       "      <td>stocks</td>\n",
       "      <td>TDOC holder, trying to calm myself...</td>\n",
       "      <td>**Trying to wrap my mind around this: About a...</td>\n",
       "      <td>1638455211</td>\n",
       "      <td>TDOC holder, trying to calm myself...  **Tryin...</td>\n",
       "      <td>3643</td>\n",
       "    </tr>\n",
       "    <tr>\n",
       "      <th>12347</th>\n",
       "      <td>stocks</td>\n",
       "      <td>Wall Street Week Ahead for the trading week be...</td>\n",
       "      <td>Good Sunday afternoon to all of you here on r/...</td>\n",
       "      <td>1640540466</td>\n",
       "      <td>Wall Street Week Ahead for the trading week be...</td>\n",
       "      <td>3608</td>\n",
       "    </tr>\n",
       "    <tr>\n",
       "      <th>9077</th>\n",
       "      <td>wallstreetbets</td>\n",
       "      <td>Automotive Roundup 2021 Part 2: 4 new SPACS fo...</td>\n",
       "      <td>Reposting due to over officious bot\\n\\n# 4 New...</td>\n",
       "      <td>1641086257</td>\n",
       "      <td>Automotive Roundup 2021 Part 2: 4 new SPACS fo...</td>\n",
       "      <td>3391</td>\n",
       "    </tr>\n",
       "    <tr>\n",
       "      <th>14713</th>\n",
       "      <td>stocks</td>\n",
       "      <td>Nassim Taleb Fooled by Randomness, The Black S...</td>\n",
       "      <td>Nassim Taleb**\\n\\n# **Fooled by Randomness**\\n...</td>\n",
       "      <td>1638857654</td>\n",
       "      <td>Nassim Taleb Fooled by Randomness, The Black S...</td>\n",
       "      <td>3206</td>\n",
       "    </tr>\n",
       "    <tr>\n",
       "      <th>16323</th>\n",
       "      <td>stocks</td>\n",
       "      <td>Wall Street Week Ahead for the trading week be...</td>\n",
       "      <td>Good Friday afternoon to all of you here on r/...</td>\n",
       "      <td>1637961249</td>\n",
       "      <td>Wall Street Week Ahead for the trading week be...</td>\n",
       "      <td>3046</td>\n",
       "    </tr>\n",
       "    <tr>\n",
       "      <th>13245</th>\n",
       "      <td>stocks</td>\n",
       "      <td>Wall Street Week Ahead for the trading week be...</td>\n",
       "      <td>Good Saturday morning to all of you here on r/...</td>\n",
       "      <td>1639828068</td>\n",
       "      <td>Wall Street Week Ahead for the trading week be...</td>\n",
       "      <td>3029</td>\n",
       "    </tr>\n",
       "  </tbody>\n",
       "</table>\n",
       "</div>"
      ],
      "text/plain": [
       "            subreddit                                              title  \\\n",
       "10359          stocks  Wall Street Week Ahead for the trading week be...   \n",
       "11553          stocks  Wall Street Week Ahead for the trading week be...   \n",
       "18507          stocks  Wall Street Week Ahead for the trading week be...   \n",
       "18372          stocks     Why I believe $MAPS WM Holdings is undervalued   \n",
       "15407          stocks              TDOC holder, trying to calm myself...   \n",
       "12347          stocks  Wall Street Week Ahead for the trading week be...   \n",
       "9077   wallstreetbets  Automotive Roundup 2021 Part 2: 4 new SPACS fo...   \n",
       "14713          stocks  Nassim Taleb Fooled by Randomness, The Black S...   \n",
       "16323          stocks  Wall Street Week Ahead for the trading week be...   \n",
       "13245          stocks  Wall Street Week Ahead for the trading week be...   \n",
       "\n",
       "                                                selftext  created_utc  \\\n",
       "10359  Good Saturday afternoon to all of you here on ...   1641659209   \n",
       "11553  Good Saturday afternoon to all of you here on ...   1641059082   \n",
       "18507  Good Saturday morning to all of you here on r/...   1636809411   \n",
       "18372  WM Holdings is in my opinion is misunderstood ...   1636903112   \n",
       "15407   **Trying to wrap my mind around this: About a...   1638455211   \n",
       "12347  Good Sunday afternoon to all of you here on r/...   1640540466   \n",
       "9077   Reposting due to over officious bot\\n\\n# 4 New...   1641086257   \n",
       "14713  Nassim Taleb**\\n\\n# **Fooled by Randomness**\\n...   1638857654   \n",
       "16323  Good Friday afternoon to all of you here on r/...   1637961249   \n",
       "13245  Good Saturday morning to all of you here on r/...   1639828068   \n",
       "\n",
       "                                                all_text  post_length  \n",
       "10359  Wall Street Week Ahead for the trading week be...         5902  \n",
       "11553  Wall Street Week Ahead for the trading week be...         5054  \n",
       "18507  Wall Street Week Ahead for the trading week be...         4667  \n",
       "18372  Why I believe $MAPS WM Holdings is undervalued...         3968  \n",
       "15407  TDOC holder, trying to calm myself...  **Tryin...         3643  \n",
       "12347  Wall Street Week Ahead for the trading week be...         3608  \n",
       "9077   Automotive Roundup 2021 Part 2: 4 new SPACS fo...         3391  \n",
       "14713  Nassim Taleb Fooled by Randomness, The Black S...         3206  \n",
       "16323  Wall Street Week Ahead for the trading week be...         3046  \n",
       "13245  Wall Street Week Ahead for the trading week be...         3029  "
      ]
     },
     "execution_count": 56,
     "metadata": {},
     "output_type": "execute_result"
    }
   ],
   "source": [
    "df.sort_values(by='post_length', ascending=False).head(10)"
   ]
  },
  {
   "cell_type": "markdown",
   "id": "3710ccf3-f161-4548-9be8-ab32583aa377",
   "metadata": {},
   "source": [
    "#### Exporting df to csv for text processing and EDA"
   ]
  },
  {
   "cell_type": "code",
   "execution_count": 62,
   "id": "691dba02-e7b4-43d1-a9a1-ce7efb79b8c6",
   "metadata": {},
   "outputs": [],
   "source": [
    "df.to_csv('./datasets/data.csv')"
   ]
  },
  {
   "cell_type": "code",
   "execution_count": 63,
   "id": "fdabdde3-9a6f-4dc6-9f6b-ffcd2abb91f7",
   "metadata": {},
   "outputs": [
    {
     "name": "stdout",
     "output_type": "stream",
     "text": [
      "<class 'pandas.core.frame.DataFrame'>\n",
      "Int64Index: 18791 entries, 0 to 18939\n",
      "Data columns (total 6 columns):\n",
      " #   Column       Non-Null Count  Dtype \n",
      "---  ------       --------------  ----- \n",
      " 0   subreddit    18791 non-null  object\n",
      " 1   title        18791 non-null  object\n",
      " 2   selftext     13268 non-null  object\n",
      " 3   created_utc  18791 non-null  int64 \n",
      " 4   all_text     18791 non-null  object\n",
      " 5   post_length  18791 non-null  int64 \n",
      "dtypes: int64(2), object(4)\n",
      "memory usage: 1.5+ MB\n"
     ]
    }
   ],
   "source": [
    "df.info()"
   ]
  },
  {
   "cell_type": "code",
   "execution_count": null,
   "id": "80c0b1ca-7ca1-4220-b56c-fbf27a038c7d",
   "metadata": {},
   "outputs": [],
   "source": []
  }
 ],
 "metadata": {
  "kernelspec": {
   "display_name": "Python 3 (ipykernel)",
   "language": "python",
   "name": "python3"
  },
  "language_info": {
   "codemirror_mode": {
    "name": "ipython",
    "version": 3
   },
   "file_extension": ".py",
   "mimetype": "text/x-python",
   "name": "python",
   "nbconvert_exporter": "python",
   "pygments_lexer": "ipython3",
   "version": "3.9.7"
  }
 },
 "nbformat": 4,
 "nbformat_minor": 5
}
