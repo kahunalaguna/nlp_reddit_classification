{
 "cells": [
  {
   "cell_type": "markdown",
   "id": "97c77287-e662-4481-a320-999206e7f685",
   "metadata": {},
   "source": [
    "### Importing Libaries"
   ]
  },
  {
   "cell_type": "code",
   "execution_count": 1,
   "id": "55256cfd-1a3b-4df3-849f-5ec107d87af7",
   "metadata": {},
   "outputs": [],
   "source": [
    "import pandas as pd\n",
    "import requests\n",
    "import time\n",
    "import random"
   ]
  },
  {
   "cell_type": "markdown",
   "id": "0028b2e7-ca62-4c24-b94f-c51ac497d1a6",
   "metadata": {
    "jupyter": {
     "source_hidden": true
    },
    "tags": []
   },
   "source": [
    "### Collecting First Data"
   ]
  },
  {
   "cell_type": "code",
   "execution_count": 2,
   "id": "97ee6fc5-3dbb-4c66-8029-72cb05989b65",
   "metadata": {},
   "outputs": [
    {
     "data": {
      "text/plain": [
       "200"
      ]
     },
     "execution_count": 2,
     "metadata": {},
     "output_type": "execute_result"
    }
   ],
   "source": [
    "#default sort type is descending by created_utc\n",
    "\n",
    "url= 'https://api.pushshift.io/reddit/search/submission?subreddit=wallstreetbets'\n",
    "params= {\n",
    "    'subreddit': 'wallstreetbets',\n",
    "    'size': 100\n",
    "}\n",
    "\n",
    "res= requests.get(url, params)\n",
    "res.status_code"
   ]
  },
  {
   "cell_type": "code",
   "execution_count": 3,
   "id": "2658fdb9-e300-418c-8dfd-e53560d5153a",
   "metadata": {},
   "outputs": [
    {
     "data": {
      "text/plain": [
       "100"
      ]
     },
     "execution_count": 3,
     "metadata": {},
     "output_type": "execute_result"
    }
   ],
   "source": [
    "len(res.json()['data'])"
   ]
  },
  {
   "cell_type": "code",
   "execution_count": 6,
   "id": "55e142d5-14bd-46e0-9f62-c3d0553308e9",
   "metadata": {
    "tags": []
   },
   "outputs": [
    {
     "name": "stdout",
     "output_type": "stream",
     "text": [
      "1642195442\n",
      "1642187427\n"
     ]
    }
   ],
   "source": [
    "#because default sort type is descending and sorted by created_utc, the [-1] post is the the earliest\n",
    "print(res.json()['data'][0]['created_utc'])\n",
    "print(res.json()['data'][-1]['created_utc'])"
   ]
  },
  {
   "cell_type": "code",
   "execution_count": 8,
   "id": "0c764992-77d1-41c0-8140-43aa02f969f5",
   "metadata": {
    "tags": []
   },
   "outputs": [],
   "source": [
    "posts= res.json()['data']"
   ]
  },
  {
   "cell_type": "code",
   "execution_count": 9,
   "id": "0a444a22-5519-4cee-862a-a8abc14f12c4",
   "metadata": {},
   "outputs": [
    {
     "data": {
      "text/plain": [
       "list"
      ]
     },
     "execution_count": 9,
     "metadata": {},
     "output_type": "execute_result"
    }
   ],
   "source": [
    "type(posts)"
   ]
  },
  {
   "cell_type": "markdown",
   "id": "ddcef52b-13f6-4004-897c-c2b9d7913e31",
   "metadata": {},
   "source": [
    "### Creating Sample wallstreetbets Dataframe"
   ]
  },
  {
   "cell_type": "code",
   "execution_count": 10,
   "id": "44958483-a43d-4e41-9465-50318703f1b1",
   "metadata": {
    "tags": []
   },
   "outputs": [
    {
     "data": {
      "text/html": [
       "<div>\n",
       "<style scoped>\n",
       "    .dataframe tbody tr th:only-of-type {\n",
       "        vertical-align: middle;\n",
       "    }\n",
       "\n",
       "    .dataframe tbody tr th {\n",
       "        vertical-align: top;\n",
       "    }\n",
       "\n",
       "    .dataframe thead th {\n",
       "        text-align: right;\n",
       "    }\n",
       "</style>\n",
       "<table border=\"1\" class=\"dataframe\">\n",
       "  <thead>\n",
       "    <tr style=\"text-align: right;\">\n",
       "      <th></th>\n",
       "      <th>subreddit</th>\n",
       "      <th>title</th>\n",
       "      <th>selftext</th>\n",
       "      <th>created_utc</th>\n",
       "    </tr>\n",
       "  </thead>\n",
       "  <tbody>\n",
       "    <tr>\n",
       "      <th>0</th>\n",
       "      <td>wallstreetbets</td>\n",
       "      <td>Here you go you animals</td>\n",
       "      <td></td>\n",
       "      <td>1642195442</td>\n",
       "    </tr>\n",
       "    <tr>\n",
       "      <th>1</th>\n",
       "      <td>wallstreetbets</td>\n",
       "      <td>What will JPM close at on Jan 17?</td>\n",
       "      <td>JPM was the #6 talked about company on WSB on ...</td>\n",
       "      <td>1642195393</td>\n",
       "    </tr>\n",
       "    <tr>\n",
       "      <th>2</th>\n",
       "      <td>wallstreetbets</td>\n",
       "      <td>What a year on this sub does to a mf</td>\n",
       "      <td></td>\n",
       "      <td>1642195344</td>\n",
       "    </tr>\n",
       "    <tr>\n",
       "      <th>3</th>\n",
       "      <td>wallstreetbets</td>\n",
       "      <td>🍔 Beyond’s big short - Robinhood Snacks</td>\n",
       "      <td></td>\n",
       "      <td>1642195280</td>\n",
       "    </tr>\n",
       "    <tr>\n",
       "      <th>4</th>\n",
       "      <td>wallstreetbets</td>\n",
       "      <td>What will MSFT close at on Jan 17?</td>\n",
       "      <td>MSFT was the #3 talked about company on WSB on...</td>\n",
       "      <td>1642195236</td>\n",
       "    </tr>\n",
       "  </tbody>\n",
       "</table>\n",
       "</div>"
      ],
      "text/plain": [
       "        subreddit                                    title  \\\n",
       "0  wallstreetbets                  Here you go you animals   \n",
       "1  wallstreetbets        What will JPM close at on Jan 17?   \n",
       "2  wallstreetbets     What a year on this sub does to a mf   \n",
       "3  wallstreetbets  🍔 Beyond’s big short - Robinhood Snacks   \n",
       "4  wallstreetbets       What will MSFT close at on Jan 17?   \n",
       "\n",
       "                                            selftext  created_utc  \n",
       "0                                                      1642195442  \n",
       "1  JPM was the #6 talked about company on WSB on ...   1642195393  \n",
       "2                                                      1642195344  \n",
       "3                                                      1642195280  \n",
       "4  MSFT was the #3 talked about company on WSB on...   1642195236  "
      ]
     },
     "execution_count": 10,
     "metadata": {},
     "output_type": "execute_result"
    }
   ],
   "source": [
    "wsb= pd.DataFrame(posts)[['subreddit', 'title', 'selftext', 'created_utc']]\n",
    "wsb.sort_values(by='created_utc', ascending=False).head()"
   ]
  },
  {
   "cell_type": "code",
   "execution_count": 12,
   "id": "b553c510-584d-4150-bb33-ee51fa42f615",
   "metadata": {},
   "outputs": [
    {
     "data": {
      "text/plain": [
       "1642187427"
      ]
     },
     "execution_count": 12,
     "metadata": {},
     "output_type": "execute_result"
    }
   ],
   "source": [
    "#retrieving the earliest epoch time value with min() to check against the [-1] val from above\n",
    "wsb['created_utc'].min()"
   ]
  },
  {
   "cell_type": "code",
   "execution_count": 14,
   "id": "f10ca0f9-62a2-4d12-9ab7-4c2585850faf",
   "metadata": {},
   "outputs": [
    {
     "data": {
      "text/plain": [
       "                                                                                                                                                                         66\n",
       "[removed]                                                                                                                                                                 6\n",
       "JPM was the #6 talked about company on WSB on Jan 14th\\n\\nSkipping #4 / #5 because they've already had predictions\\n\\n[View Poll](https://www.reddit.com/poll/s4300r)     1\n",
       "Name: selftext, dtype: int64"
      ]
     },
     "execution_count": 14,
     "metadata": {},
     "output_type": "execute_result"
    }
   ],
   "source": [
    "#taking a look at [removed] posts for future cleaning, some posts are duplicated:\n",
    "wsb['selftext'].value_counts().head(3)"
   ]
  },
  {
   "cell_type": "markdown",
   "id": "8af03171-3e7b-43c9-887d-f2aa70b48e5f",
   "metadata": {},
   "source": [
    "### Making a function to collect data en mass"
   ]
  },
  {
   "cell_type": "code",
   "execution_count": 15,
   "id": "abb3da6c-c2ab-4990-b70e-e4f582089116",
   "metadata": {
    "jupyter": {
     "source_hidden": true
    },
    "tags": []
   },
   "outputs": [],
   "source": [
    "# wallstreetbets='https://api.pushshift.io/reddit/search/submission?subreddit=wallstreetbets'\n",
    "# stocks='https://api.pushshift.io/reddit/search/submission?subreddit=stocks'\n",
    "\n",
    "# def reddit_scrape(url, subreddit, df_name, n_posts):\n",
    "# #setting params and making request for first 100 posts:\n",
    "#     params={\n",
    "#         'subreddit': subreddit,\n",
    "#         'size': 100,\n",
    "#     }\n",
    "#     res= requests.get(url, params)\n",
    "#     print(res.status_code)\n",
    "    \n",
    "# #storing post data in posts variable, retrieving ealiest created_utc value:\n",
    "#     posts= res.json()['data']\n",
    "#     earliest_post= res.json()['data'][-1]\n",
    "    \n",
    "# #creating loop to retrieve n_posts and store data in posts variable:\n",
    "#     x= n_posts/100\n",
    "#     while x>0:\n",
    "#         params={\n",
    "#             'subreddit': subreddit,\n",
    "#             'size': 100,\n",
    "#             'before': earliest_post\n",
    "#         }\n",
    "#         res= requests.get(url, params)\n",
    "#         print(res.status_code)\n",
    "        \n",
    "#         prior_posts= res.json()['data']\n",
    "#         posts+= prior_posts\n",
    "#         earliest_post=res.json()['data'][-1]\n",
    "        \n",
    "#         x= x-1\n",
    "#         time.sleep(random.randint(0, 3))\n",
    "        \n",
    "#     df_name= pd.DataFrame(posts)[['subreddit', 'title', 'selftext', 'created_utc']]\n",
    "#     return df_name"
   ]
  },
  {
   "cell_type": "code",
   "execution_count": 17,
   "id": "a7dd46d9-98bc-4bf7-a49b-74ecd070d547",
   "metadata": {},
   "outputs": [],
   "source": [
    "#urls of subrreddits in question\n",
    "wallstreetbets='https://api.pushshift.io/reddit/search/submission?subreddit=wallstreetbets'\n",
    "stocks='https://api.pushshift.io/reddit/search/submission?subreddit=stocks'"
   ]
  },
  {
   "cell_type": "code",
   "execution_count": null,
   "id": "2d836b9c-6a85-433d-a9b5-e8121a04b79a",
   "metadata": {},
   "outputs": [],
   "source": [
    "def reddit_scraper(url, subreddit, n_posts):\n",
    "    #setting num of iterations and creating blank posts list\n",
    "    x= n_posts/100\n",
    "    posts= []\n",
    "    \n",
    "    #setting params \n",
    "    params={\n",
    "            'subreddit': subreddit,\n",
    "            'size': 100,\n",
    "        }\n",
    "    #creating loop\n",
    "    while x>0:\n",
    "        \n",
    "        res= requests.get(url, params)\n",
    "        \n",
    "        if res.status_code != 200:\n",
    "            print(res.status_code)\n",
    "        else:\n",
    "            pass\n",
    "        \n",
    "        #adding posts to post list\n",
    "        posts+=res.json()['data']\n",
    "        \n",
    "        #grabbing earliest post and setting cree=ated_utc value to 'before' param to direct scarpe to earlier chunk of posts\n",
    "        earliest_post=res.json()['data'][-1]['created_utc']\n",
    "        params['before']=earliest_post\n",
    "        \n",
    "        #printing 'before' parameter to triple check correct functioning\n",
    "        print(params['before'])\n",
    "        \n",
    "        #reducing count and dictating sleep time between requests\n",
    "        x= x-1\n",
    "        time.sleep(random.randint(0, 1))\n",
    "        \n",
    "    return pd.DataFrame(posts)[['subreddit', 'title', 'selftext', 'created_utc']]#'author',"
   ]
  },
  {
   "cell_type": "code",
   "execution_count": 19,
   "id": "fb575c00-b790-4df8-8c45-83138e5d7a0e",
   "metadata": {
    "collapsed": true,
    "jupyter": {
     "outputs_hidden": true
    },
    "tags": []
   },
   "outputs": [
    {
     "name": "stdout",
     "output_type": "stream",
     "text": [
      "1642188341\n",
      "1642182039\n",
      "1642175302\n",
      "1642166227\n",
      "1642143559\n",
      "1642128871\n",
      "1642119992\n",
      "1642109340\n",
      "1642102462\n",
      "1642093012\n",
      "1642083611\n",
      "1642066290\n",
      "1642047821\n",
      "1642037322\n",
      "1642028940\n",
      "1642021361\n",
      "1642014228\n",
      "1642006883\n",
      "1641999494\n",
      "1641990968\n",
      "1641969322\n",
      "1641953884\n",
      "1641942897\n",
      "1641933948\n",
      "1641926739\n",
      "1641917694\n",
      "1641909481\n",
      "1641887262\n",
      "1641871404\n",
      "1641860881\n",
      "1641852216\n",
      "1641845758\n",
      "1641836992\n",
      "1641830926\n",
      "1641824636\n",
      "1641810184\n",
      "1641787453\n",
      "1641770261\n",
      "1641757983\n",
      "1641744056\n",
      "1641724209\n",
      "1641704611\n",
      "1641689435\n",
      "1641674501\n",
      "1641659149\n",
      "1641641633\n",
      "1641616105\n",
      "1641601198\n",
      "1641591670\n",
      "1641584907\n",
      "1641579219\n",
      "1641572930\n",
      "1641567393\n",
      "1641560010\n",
      "1641547825\n",
      "1641536234\n",
      "1641528565\n",
      "1641520526\n",
      "1641512185\n",
      "1641506734\n",
      "1641502893\n",
      "1641495718\n",
      "1641489472\n",
      "1641482806\n",
      "1641473826\n",
      "1641455424\n",
      "1641440269\n",
      "1641430156\n",
      "1641422431\n",
      "1641416394\n",
      "1641411246\n",
      "1641404761\n",
      "1641399226\n",
      "1641391606\n",
      "1641366512\n",
      "1641350470\n",
      "1641339481\n",
      "1641330339\n",
      "1641323659\n",
      "1641315003\n",
      "1641307257\n",
      "1641289477\n",
      "1641270025\n",
      "1641259849\n",
      "1641249639\n",
      "1641242348\n",
      "1641234348\n",
      "1641226014\n",
      "1641217010\n",
      "1641190448\n",
      "1641173144\n",
      "1641164145\n",
      "1641150100\n",
      "1641139861\n",
      "1641117605\n",
      "1641089082\n",
      "1641072695\n",
      "1641060299\n",
      "1641039932\n",
      "1641005642\n"
     ]
    }
   ],
   "source": [
    "wsb = reddit_scraper(wallstreetbets, 'wallstreetbets', 10000)"
   ]
  },
  {
   "cell_type": "code",
   "execution_count": 20,
   "id": "3afd33e6-f482-45b0-ae9d-d4384d469233",
   "metadata": {
    "collapsed": true,
    "jupyter": {
     "outputs_hidden": true
    },
    "tags": []
   },
   "outputs": [
    {
     "name": "stdout",
     "output_type": "stream",
     "text": [
      "1642151674\n",
      "1642095834\n",
      "1642034587\n",
      "1641979729\n",
      "1641922971\n",
      "1641860274\n",
      "1641828459\n",
      "1641764222\n",
      "1641690373\n",
      "1641646445\n",
      "1641580706\n",
      "1641515972\n",
      "1641484830\n",
      "1641431417\n",
      "1641404582\n",
      "1641354754\n",
      "1641321685\n",
      "1641286201\n",
      "1641245625\n",
      "1641215970\n",
      "1641150106\n",
      "1641081755\n",
      "1640998931\n",
      "1640943473\n",
      "1640880838\n",
      "1640814393\n",
      "1640765320\n",
      "1640703873\n",
      "1640643311\n",
      "1640593734\n",
      "1640524171\n",
      "1640412069\n",
      "1640311823\n",
      "1640253755\n",
      "1640189867\n",
      "1640117849\n",
      "1640062287\n",
      "1640011053\n",
      "1639943134\n",
      "1639836434\n",
      "1639760896\n",
      "1639693384\n",
      "1639635678\n",
      "1639581231\n",
      "1639515002\n",
      "1639448035\n",
      "1639407314\n",
      "1639314651\n",
      "1639231548\n",
      "1639160922\n",
      "1639103018\n",
      "1639055416\n",
      "1638985901\n",
      "1638923702\n",
      "1638889024\n",
      "1638830373\n",
      "1638794752\n",
      "1638728144\n",
      "1638640666\n",
      "1638566841\n",
      "1638543086\n",
      "1638478110\n",
      "1638449707\n",
      "1638401510\n",
      "1638373859\n",
      "1638320476\n",
      "1638288284\n",
      "1638232896\n",
      "1638197549\n",
      "1638137008\n",
      "1638066745\n",
      "1637988318\n",
      "1637939563\n",
      "1637875303\n",
      "1637803959\n",
      "1637765226\n",
      "1637700357\n",
      "1637663077\n",
      "1637607784\n",
      "1637569996\n",
      "1637506474\n",
      "1637425029\n",
      "1637366573\n",
      "1637327718\n",
      "1637272131\n",
      "1637247561\n",
      "1637189588\n",
      "1637160859\n",
      "1637110693\n",
      "1637079802\n",
      "1637022722\n",
      "1636992779\n",
      "1636946699\n",
      "1636901328\n",
      "1636833492\n",
      "1636759646\n",
      "1636733828\n",
      "1636676925\n",
      "1636648367\n",
      "1636601197\n"
     ]
    }
   ],
   "source": [
    "stocks = reddit_scraper(stocks, 'stocks', 10000)"
   ]
  },
  {
   "cell_type": "code",
   "execution_count": 21,
   "id": "e18bd507-6b20-41a8-8f66-73ed0d735f16",
   "metadata": {},
   "outputs": [
    {
     "data": {
      "text/html": [
       "<div>\n",
       "<style scoped>\n",
       "    .dataframe tbody tr th:only-of-type {\n",
       "        vertical-align: middle;\n",
       "    }\n",
       "\n",
       "    .dataframe tbody tr th {\n",
       "        vertical-align: top;\n",
       "    }\n",
       "\n",
       "    .dataframe thead th {\n",
       "        text-align: right;\n",
       "    }\n",
       "</style>\n",
       "<table border=\"1\" class=\"dataframe\">\n",
       "  <thead>\n",
       "    <tr style=\"text-align: right;\">\n",
       "      <th></th>\n",
       "      <th>subreddit</th>\n",
       "      <th>title</th>\n",
       "      <th>selftext</th>\n",
       "      <th>created_utc</th>\n",
       "    </tr>\n",
       "  </thead>\n",
       "  <tbody>\n",
       "    <tr>\n",
       "      <th>0</th>\n",
       "      <td>wallstreetbets</td>\n",
       "      <td>Made 45k on QQQ puts in 3 days, will finally p...</td>\n",
       "      <td></td>\n",
       "      <td>1642196072</td>\n",
       "    </tr>\n",
       "    <tr>\n",
       "      <th>1</th>\n",
       "      <td>wallstreetbets</td>\n",
       "      <td>There is a mining program giving unprecedented...</td>\n",
       "      <td></td>\n",
       "      <td>1642195904</td>\n",
       "    </tr>\n",
       "    <tr>\n",
       "      <th>2</th>\n",
       "      <td>wallstreetbets</td>\n",
       "      <td>TUESDAY = $ B B I G 🚀🚀🚀LFG 🚀🚀🚀</td>\n",
       "      <td>[removed]</td>\n",
       "      <td>1642195841</td>\n",
       "    </tr>\n",
       "    <tr>\n",
       "      <th>3</th>\n",
       "      <td>wallstreetbets</td>\n",
       "      <td>PTN almost at the double Botham 🥳🍾💵💵💵💵💵💵</td>\n",
       "      <td></td>\n",
       "      <td>1642195792</td>\n",
       "    </tr>\n",
       "    <tr>\n",
       "      <th>4</th>\n",
       "      <td>wallstreetbets</td>\n",
       "      <td>I love weeklies. Fuck AMC</td>\n",
       "      <td></td>\n",
       "      <td>1642195724</td>\n",
       "    </tr>\n",
       "  </tbody>\n",
       "</table>\n",
       "</div>"
      ],
      "text/plain": [
       "        subreddit                                              title  \\\n",
       "0  wallstreetbets  Made 45k on QQQ puts in 3 days, will finally p...   \n",
       "1  wallstreetbets  There is a mining program giving unprecedented...   \n",
       "2  wallstreetbets                     TUESDAY = $ B B I G 🚀🚀🚀LFG 🚀🚀🚀   \n",
       "3  wallstreetbets           PTN almost at the double Botham 🥳🍾💵💵💵💵💵💵   \n",
       "4  wallstreetbets                          I love weeklies. Fuck AMC   \n",
       "\n",
       "    selftext  created_utc  \n",
       "0              1642196072  \n",
       "1              1642195904  \n",
       "2  [removed]   1642195841  \n",
       "3              1642195792  \n",
       "4              1642195724  "
      ]
     },
     "execution_count": 21,
     "metadata": {},
     "output_type": "execute_result"
    }
   ],
   "source": [
    "wsb.head()"
   ]
  },
  {
   "cell_type": "code",
   "execution_count": 22,
   "id": "24bc3f96-9e7f-40c9-8db2-f46e04c3c873",
   "metadata": {},
   "outputs": [
    {
     "data": {
      "text/plain": [
       "                                                                                                                                                                                                                                                                                                                                                                                                                                                                                                                                                                                                                                                                                                                                                                                                                                                                                                                                                                                                                                                                                                                                                                                                                                                                                                                                                                                                                                                                                                                                                                                                                                                                                                                                                                                                                                                                                                                                                                                                                                                                                                                                                                                                                                                                                                                                                                                                                                                                                                                                                                                                                                                                                                                                                                                                                                                                                                                                                                                                                                                                                                                                                                                       5766\n",
       "[removed]                                                                                                                                                                                                                                                                                                                                                                                                                                                                                                                                                                                                                                                                                                                                                                                                                                                                                                                                                                                                                                                                                                                                                                                                                                                                                                                                                                                                                                                                                                                                                                                                                                                                                                                                                                                                                                                                                                                                                                                                                                                                                                                                                                                                                                                                                                                                                                                                                                                                                                                                                                                                                                                                                                                                                                                                                                                                                                                                                                                                                                                                                                                                                                              1465\n",
       "[deleted]                                                                                                                                                                                                                                                                                                                                                                                                                                                                                                                                                                                                                                                                                                                                                                                                                                                                                                                                                                                                                                                                                                                                                                                                                                                                                                                                                                                                                                                                                                                                                                                                                                                                                                                                                                                                                                                                                                                                                                                                                                                                                                                                                                                                                                                                                                                                                                                                                                                                                                                                                                                                                                                                                                                                                                                                                                                                                                                                                                                                                                                                                                                                                                                11\n",
       "Your daily trading discussion thread. Please keep the shitposting to a minimum. \\n\\n**Read [rules](https://www.reddit.com/r/wallstreetbets/wiki/contentguide), follow [Twitter](https://twitter.com/Official_WSB) and [IG](https://www.instagram.com/official_wallstreetbets/), browse [Discord](https://discord.gg/wallstreetbets), see [ban bets](https://www.reddit.com/r/wallstreetbets/wiki/banbets)!**                                                                                                                                                                                                                                                                                                                                                                                                                                                                                                                                                                                                                                                                                                                                                                                                                                                                                                                                                                                                                                                                                                                                                                                                                                                                                                                                                                                                                                                                                                                                                                                                                                                                                                                                                                                                                                                                                                                                                                                                                                                                                                                                                                                                                                                                                                                                                                                                                                                                                                                                                                                                                                                                                                                                                                              8\n",
       "Your daily trading discussion thread. Please keep the shitposting to a minimum. \\n\\n^Navigate ^WSB|^We ^recommend ^best ^daily ^DD\\n:--|:--\\n**Discussion** | [All](https://reddit.com/r/wallstreetbets/search?sort=new&amp;restrict_sr=on&amp;q=flair%3ADiscussion) / [**Best Daily**](https://www.reddit.com/r/wallstreetbets/search?sort=top&amp;q=flair%3ADiscussion&amp;restrict_sr=on&amp;t=day) / [Best Weekly](https://www.reddit.com/r/wallstreetbets/search?sort=top&amp;q=flair%3ADiscussion&amp;restrict_sr=on&amp;t=week)\\n**DD** | [All](https://reddit.com/r/wallstreetbets/search?sort=new&amp;restrict_sr=on&amp;q=flair%3ADD) / [**Best Daily**](https://www.reddit.com/r/wallstreetbets/search?sort=top&amp;q=flair%3ADD&amp;restrict_sr=on&amp;t=day) / [Best Weekly](https://www.reddit.com/r/wallstreetbets/search?sort=top&amp;q=flair%3ADD&amp;restrict_sr=on&amp;t=week)\\n**YOLO** | [All](https://reddit.com/r/wallstreetbets/search?sort=new&amp;restrict_sr=on&amp;q=flair%3AYOLO) / [**Best Daily**](https://www.reddit.com/r/wallstreetbets/search?sort=top&amp;q=flair%3AYOLO&amp;restrict_sr=on&amp;t=day) / [Best Weekly](https://www.reddit.com/r/wallstreetbets/search?sort=top&amp;q=flair%3AYOLO&amp;restrict_sr=on&amp;t=week)\\n**Gain** | [All](https://reddit.com/r/wallstreetbets/search?sort=new&amp;restrict_sr=on&amp;q=flair%3AGain) / [**Best Daily**](https://www.reddit.com/r/wallstreetbets/search?sort=top&amp;q=flair%3AGain&amp;restrict_sr=on&amp;t=day) / [Best Weekly](https://www.reddit.com/r/wallstreetbets/search?sort=top&amp;q=flair%3AGain&amp;restrict_sr=on&amp;t=week)\\n**Loss** | [All](https://reddit.com/r/wallstreetbets/search?sort=new&amp;restrict_sr=on&amp;q=flair%3ALoss) / [**Best Daily**](https://www.reddit.com/r/wallstreetbets/search?sort=top&amp;q=flair%3ALoss&amp;restrict_sr=on&amp;t=day) / [Best Weekly](https://www.reddit.com/r/wallstreetbets/search?sort=top&amp;q=flair%3ALoss&amp;restrict_sr=on&amp;t=week)\\n**Memes** | [All](https://reddit.com/r/wallstreetbets/search?sort=new&amp;restrict_sr=on&amp;q=flair%3AMeme) / [**Best Daily**](https://www.reddit.com/r/wallstreetbets/search?sort=top&amp;q=flair%3AMeme&amp;restrict_sr=on&amp;t=day) / [Best Weekly](https://www.reddit.com/r/wallstreetbets/search?sort=top&amp;q=flair%3AMeme&amp;restrict_sr=on&amp;t=week)\\n\\n**Read the [rules](https://www.reddit.com/r/wallstreetbets/wiki/contentguide) and make sure other people follow them.**\\n\\nTry [No Meme Mode](https://www.reddit.com/r/wallstreetbets/search/?q=-flair%3AMeme%20-flair%3ASatire%20-flair%3AShitpost&amp;restrict_sr=1&amp;t=day&amp;sort=hot).\\n\\nFollow [@Official_WSB](https://twitter.com/Official_WSB) on Twitter and [official_wallstreetbets](https://www.instagram.com/official_wallstreetbets/) on Instagram.\\n\\nCheck out our [Discord](https://discord.gg/wallstreetbets)\\n  \\n[Apply to mod /r/wallstreetbets](https://forms.gle/MeXTX1UtJn6St4vLA) or [apply to mod /r/wallstreetbetscrypto](https://forms.gle/jg1KjehvqsgZafcs9)\\n\\n[Check out ongoing and expired \"ban bets\"](https://www.reddit.com/r/wallstreetbets/wiki/banbets)       7\n",
       "Name: selftext, dtype: int64"
      ]
     },
     "execution_count": 22,
     "metadata": {},
     "output_type": "execute_result"
    }
   ],
   "source": [
    "wsb['selftext'].value_counts().head()"
   ]
  },
  {
   "cell_type": "code",
   "execution_count": 23,
   "id": "1d9d3236-d363-46ec-b1e1-3017b9968127",
   "metadata": {},
   "outputs": [
    {
     "name": "stdout",
     "output_type": "stream",
     "text": [
      "<class 'pandas.core.frame.DataFrame'>\n",
      "RangeIndex: 9999 entries, 0 to 9998\n",
      "Data columns (total 4 columns):\n",
      " #   Column       Non-Null Count  Dtype \n",
      "---  ------       --------------  ----- \n",
      " 0   subreddit    9999 non-null   object\n",
      " 1   title        9999 non-null   object\n",
      " 2   selftext     9993 non-null   object\n",
      " 3   created_utc  9999 non-null   int64 \n",
      "dtypes: int64(1), object(3)\n",
      "memory usage: 312.6+ KB\n"
     ]
    }
   ],
   "source": [
    "wsb.info()"
   ]
  },
  {
   "cell_type": "code",
   "execution_count": 24,
   "id": "ac861fb6-650f-4617-84c6-4a61e84bd8f8",
   "metadata": {},
   "outputs": [
    {
     "data": {
      "text/html": [
       "<div>\n",
       "<style scoped>\n",
       "    .dataframe tbody tr th:only-of-type {\n",
       "        vertical-align: middle;\n",
       "    }\n",
       "\n",
       "    .dataframe tbody tr th {\n",
       "        vertical-align: top;\n",
       "    }\n",
       "\n",
       "    .dataframe thead th {\n",
       "        text-align: right;\n",
       "    }\n",
       "</style>\n",
       "<table border=\"1\" class=\"dataframe\">\n",
       "  <thead>\n",
       "    <tr style=\"text-align: right;\">\n",
       "      <th></th>\n",
       "      <th>subreddit</th>\n",
       "      <th>title</th>\n",
       "      <th>selftext</th>\n",
       "      <th>created_utc</th>\n",
       "    </tr>\n",
       "  </thead>\n",
       "  <tbody>\n",
       "    <tr>\n",
       "      <th>0</th>\n",
       "      <td>stocks</td>\n",
       "      <td>There is a mining program giving unprecedented...</td>\n",
       "      <td>[removed]</td>\n",
       "      <td>1642195633</td>\n",
       "    </tr>\n",
       "    <tr>\n",
       "      <th>1</th>\n",
       "      <td>stocks</td>\n",
       "      <td>TQQ - not for long term?</td>\n",
       "      <td>[removed]</td>\n",
       "      <td>1642194978</td>\n",
       "    </tr>\n",
       "    <tr>\n",
       "      <th>2</th>\n",
       "      <td>stocks</td>\n",
       "      <td>There is a mining program giving unprecedented...</td>\n",
       "      <td>[removed]</td>\n",
       "      <td>1642194422</td>\n",
       "    </tr>\n",
       "    <tr>\n",
       "      <th>3</th>\n",
       "      <td>stocks</td>\n",
       "      <td>If you have an option that is deep in the mone...</td>\n",
       "      <td>**If you have an option that is deep in the mo...</td>\n",
       "      <td>1642194421</td>\n",
       "    </tr>\n",
       "    <tr>\n",
       "      <th>4</th>\n",
       "      <td>stocks</td>\n",
       "      <td>There is a mining program giving unprecedented...</td>\n",
       "      <td>[removed]</td>\n",
       "      <td>1642194270</td>\n",
       "    </tr>\n",
       "  </tbody>\n",
       "</table>\n",
       "</div>"
      ],
      "text/plain": [
       "  subreddit                                              title  \\\n",
       "0    stocks  There is a mining program giving unprecedented...   \n",
       "1    stocks                           TQQ - not for long term?   \n",
       "2    stocks  There is a mining program giving unprecedented...   \n",
       "3    stocks  If you have an option that is deep in the mone...   \n",
       "4    stocks  There is a mining program giving unprecedented...   \n",
       "\n",
       "                                            selftext  created_utc  \n",
       "0                                          [removed]   1642195633  \n",
       "1                                          [removed]   1642194978  \n",
       "2                                          [removed]   1642194422  \n",
       "3  **If you have an option that is deep in the mo...   1642194421  \n",
       "4                                          [removed]   1642194270  "
      ]
     },
     "execution_count": 24,
     "metadata": {},
     "output_type": "execute_result"
    }
   ],
   "source": [
    "stocks.head()"
   ]
  },
  {
   "cell_type": "code",
   "execution_count": 25,
   "id": "e65ebf5c-3aa7-4ff1-a581-68e7454436a4",
   "metadata": {},
   "outputs": [
    {
     "data": {
      "text/plain": [
       "[removed]                                                                                                                                                                                                                                                                                                                                                                                                                                                                                                                                                                                                                                                                                                                                                                                                                                                                                                                                                                                                                                                                                                                                                                                                                                                                                                                                                                                                                                                                                                                                                                                                                                                                                                                                                                                                                                                                                                                                                                                                                                                                                                                                                                                                                                                                                                                                                                                                                                                                                                                                                                                                                                                                                                                                                                                                                                                                                                                                                                                                                                                                                                                                                                                                                                                                                                                                                                                                                                                                   5998\n",
       "The meme stock scheduled posts will run Mon to Fri and won't be a sticky; you're probably seeing this because automod sent you here or you woke up early Wall St time; good morning!\\n\\n------\\n\\nWelcome traders who just can't help them selves discuss the same exact stock that's been discussed 100s of times a day.  I get it, you want to talk about what's popular, what's hot, and that 1.. single.. stock you like.. well here you go!  Some helpful links just for you:\\n\\n* [Previous meme stock threads](https://www.reddit.com/r/stocks/search?q=author%3Aautomoderator+title%3A%28common+OR+meme%29&amp;restrict_sr=on&amp;include_over_18=on&amp;sort=new&amp;t=all)\\n* [Previous discussions on overlooked (and possibly undervalued) stocks](https://www.reddit.com/r/stocks/search?q=author%3Aautomoderator+title%3Aoverlooked&amp;restrict_sr=on&amp;include_over_18=on&amp;sort=new&amp;t=all)\\n* [General discussions](https://www.reddit.com/r/stocks/search?q=author%3Aautomoderator+title%3Adiscussion&amp;restrict_sr=on&amp;include_over_18=on&amp;sort=new&amp;t=all)\\n* [The **original GME megathread**](https://www.reddit.com/r/stocks/comments/layb68/rstocks_gme_megathread/) with a ton of useful information\\n* [Use Finviz for aggregated news on your favorite stock](https://finviz.com/quote.ashx?t=gme)\\n\\nAn important message from our mod u/TCGYT [regarding meme stocks.](https://www.reddit.com/r/stocks/wiki/meme-stocks-warning)\\n\\nLastly if you need professional help:\\n\\n* Problem Gambling:  Call/Text: 1-800-522-4700 or [chat online now.](https://WWW.NCPGAMBLING.ORG/CHAT)\\n* Crisis Hotline (24/7): 1-800-273-TALK (8255) (Veterans, press 1) or Text “HOME” to 741-741                                                                                                                                                                                                                                                                                                                                                                                                                                                                                                                                                                                                                                                                                                                                                                                                                                                                                                                                                                                                                                                                                                                                                                                                                                                                                                                                                                                                                                                                                                                                                                                                                                                                                                                                             46\n",
       "These daily discussions run from Monday to Friday including during our themed posts.\\n\\nSome helpful links:\\n\\n* [Finviz](https://finviz.com/quote.ashx?t=spy) for charts, fundamentals, and aggregated news on individual stocks\\n* [Bloomberg market news](https://www.bloomberg.com/markets)\\n* StreetInsider news:\\n  * [Market Check](https://www.streetinsider.com/Market+Check) - Possibly why the market is doing what it's doing including sudden spikes/dips\\n  * [Reuters aggregated](https://www.streetinsider.com/Reuters) - Global news\\n\\nIf you have a basic question, for example \"what is EPS,\" then google \"investopedia EPS\" and click the investopedia article on it; do this for everything until you have a more in depth question or just want to share what you learned.\\n\\nPlease discuss your portfolios in the [Rate My Portfolio sticky.](https://www.reddit.com/r/stocks/search?sort=new&amp;q=Rate+My+Portfolio+-+r%2FStocks+Quarterly+Thread&amp;t=all&amp;restrict_sr=on).\\n\\nSee our past [daily discussions here.](https://www.reddit.com/r/stocks/search?q=author%3Aautomoderator+%22r%2Fstocks+daily+discussion%22&amp;restrict_sr=on&amp;sort=new&amp;t=all)  Also links for:  [Technicals](https://www.reddit.com/r/stocks/search?q=author%3Aautomoderator+title%3Atechnicals&amp;restrict_sr=on&amp;include_over_18=on&amp;sort=new&amp;t=all) Tuesday, [Options Trading](https://www.reddit.com/r/stocks/search?q=author%3Aautomoderator+title%3Aoptions&amp;restrict_sr=on&amp;include_over_18=on&amp;sort=new&amp;t=all) Thursday, and [Fundamentals](https://www.reddit.com/r/stocks/search?q=author%3Aautomoderator+title%3Afundamentals&amp;restrict_sr=on&amp;include_over_18=on&amp;sort=new&amp;t=all) Friday.                                                                                                                                                                                                                                                                                                                                                                                                                                                                                                                                                                                                                                                                                                                                                                                                                                                                                                                                                                                                                                                                                                                                                                                                                                                                                                                                                                                                                                                                                                                                                                                                                                                                                                               18\n",
       "[deleted]                                                                                                                                                                                                                                                                                                                                                                                                                                                                                                                                                                                                                                                                                                                                                                                                                                                                                                                                                                                                                                                                                                                                                                                                                                                                                                                                                                                                                                                                                                                                                                                                                                                                                                                                                                                                                                                                                                                                                                                                                                                                                                                                                                                                                                                                                                                                                                                                                                                                                                                                                                                                                                                                                                                                                                                                                                                                                                                                                                                                                                                                                                                                                                                                                                                                                                                                                                                                                                                                     12\n",
       "This is the daily discussion, so anything stocks related is fine, but the theme for today is on fundamentals, but if fundamentals aren't your thing then just ignore the theme and/or [post your arguments against fundamentals here](https://www.reddit.com/r/stocks/search?q=author%3Aautomoderator+%22r%2Fstocks+semiannual+arguments+against+TA%22&amp;restrict_sr=on&amp;include_over_18=on&amp;sort=new&amp;t=all) and not in the current post.\\n\\nSome helpful day to day links, including news:\\n\\n* [Finviz](https://finviz.com/quote.ashx?t=spy) for charts, fundamentals, and aggregated news on individual stocks\\n* [Bloomberg market news](https://www.bloomberg.com/markets)\\n* StreetInsider news:\\n  * [Market Check](https://www.streetinsider.com/Market+Check) - Possibly why the market is doing what it's doing including sudden spikes/dips\\n  * [Reuters aggregated](https://www.streetinsider.com/Reuters) - Global news\\n\\n-----\\n\\nMost fundamentals are updated every 3 months due to the fact that corporations release earnings reports every quarter, so traders are always speculating at what those earnings will say, and investors may change the size of their holdings based on those reports.  Expect a lot of volatility around earnings, but it usually doesn't matter if you're holding long term, but keep in mind the importance of earnings reports because a trend of declining earnings or a decline in some other fundamental will drive the stock down over the long term as well.\\n\\nSee the following word cloud and click through for the wiki:\\n\\n[Market Cap - Shares Outstanding - Volume - Dividend - EPS - P/E Ratio - EPS Q/Q - PEG - Sales Q/Q - Return on Assets (ROA) - Return on Equity (ROE) - BETA - SMA - quarterly earnings](https://www.reddit.com/r/stocks/wiki/fundamentals-themed-post)\\n\\nIf you have a basic question, for example \"what is EBITDA,\" then google \"investopedia EBITDA\" and click the Investopedia article on it; do this for everything until you have a more in depth question or just want to share what you learned.\\n\\nUseful links:\\n\\n* [Investopedia page](https://www.investopedia.com/fundamental-analysis-4689757/) on fundamental analysis including [Discounted Cash Flow](https://www.investopedia.com/university/dcf/) analysis; see [definition here](https://www.investopedia.com/terms/d/dcf.asp) and read [their PDF on the topic.](http://i.investopedia.com/inv/pdf/tutorials/fundamentalanalysis_intro.pdf)\\n* [FINVIZ](https://finviz.com/quote.ashx?t=aapl) for fundamental data, charts, and aggregated news\\n* [Earnings Whisper](https://www.earningswhispers.com/stocks/aapl) for earnings details\\n\\nSee our past [daily discussions here.](https://www.reddit.com/r/stocks/search?q=author%3Aautomoderator+%22r%2Fstocks+daily+discussion%22&amp;restrict_sr=on&amp;sort=new&amp;t=all)  Also links for:  [Technicals](https://www.reddit.com/r/stocks/search?q=author%3Aautomoderator+title%3Atechnicals&amp;restrict_sr=on&amp;include_over_18=on&amp;sort=new&amp;t=all) Tuesday, [Options Trading](https://www.reddit.com/r/stocks/search?q=author%3Aautomoderator+title%3Aoptions&amp;restrict_sr=on&amp;include_over_18=on&amp;sort=new&amp;t=all) Thursday, and [Fundamentals](https://www.reddit.com/r/stocks/search?q=author%3Aautomoderator+title%3Afundamentals&amp;restrict_sr=on&amp;include_over_18=on&amp;sort=new&amp;t=all) Friday.      10\n",
       "Name: selftext, dtype: int64"
      ]
     },
     "execution_count": 25,
     "metadata": {},
     "output_type": "execute_result"
    }
   ],
   "source": [
    "stocks['selftext'].value_counts().head()"
   ]
  },
  {
   "cell_type": "code",
   "execution_count": 26,
   "id": "b5bba6f9-89a9-429b-925d-54931c18c560",
   "metadata": {},
   "outputs": [
    {
     "name": "stdout",
     "output_type": "stream",
     "text": [
      "<class 'pandas.core.frame.DataFrame'>\n",
      "RangeIndex: 9998 entries, 0 to 9997\n",
      "Data columns (total 4 columns):\n",
      " #   Column       Non-Null Count  Dtype \n",
      "---  ------       --------------  ----- \n",
      " 0   subreddit    9998 non-null   object\n",
      " 1   title        9998 non-null   object\n",
      " 2   selftext     9952 non-null   object\n",
      " 3   created_utc  9998 non-null   int64 \n",
      "dtypes: int64(1), object(3)\n",
      "memory usage: 312.6+ KB\n"
     ]
    }
   ],
   "source": [
    "stocks.info()"
   ]
  },
  {
   "cell_type": "code",
   "execution_count": 27,
   "id": "72f09b5b-5e5c-4b99-9ee1-b8875c3b043a",
   "metadata": {},
   "outputs": [],
   "source": [
    "wsb.to_csv('./datasets/wsb_dirty.csv')\n",
    "stocks.to_csv('./datasets/stocks_dirty.csv')"
   ]
  },
  {
   "cell_type": "code",
   "execution_count": 30,
   "id": "03a51a5f-f1a5-456f-b94a-569f1ee87759",
   "metadata": {},
   "outputs": [
    {
     "name": "stdout",
     "output_type": "stream",
     "text": [
      "<class 'pandas.core.frame.DataFrame'>\n",
      "RangeIndex: 9999 entries, 0 to 9998\n",
      "Data columns (total 4 columns):\n",
      " #   Column       Non-Null Count  Dtype \n",
      "---  ------       --------------  ----- \n",
      " 0   subreddit    9999 non-null   object\n",
      " 1   title        9999 non-null   object\n",
      " 2   selftext     9993 non-null   object\n",
      " 3   created_utc  9999 non-null   int64 \n",
      "dtypes: int64(1), object(3)\n",
      "memory usage: 312.6+ KB\n"
     ]
    }
   ],
   "source": [
    "wsb.info()"
   ]
  },
  {
   "cell_type": "code",
   "execution_count": 31,
   "id": "5b44dc8c-8980-416f-9d22-7cf6821c3737",
   "metadata": {},
   "outputs": [
    {
     "name": "stdout",
     "output_type": "stream",
     "text": [
      "<class 'pandas.core.frame.DataFrame'>\n",
      "RangeIndex: 9998 entries, 0 to 9997\n",
      "Data columns (total 4 columns):\n",
      " #   Column       Non-Null Count  Dtype \n",
      "---  ------       --------------  ----- \n",
      " 0   subreddit    9998 non-null   object\n",
      " 1   title        9998 non-null   object\n",
      " 2   selftext     9952 non-null   object\n",
      " 3   created_utc  9998 non-null   int64 \n",
      "dtypes: int64(1), object(3)\n",
      "memory usage: 312.6+ KB\n"
     ]
    }
   ],
   "source": [
    "stocks.info()"
   ]
  },
  {
   "cell_type": "code",
   "execution_count": null,
   "id": "2ce27437-b351-44d6-9be3-4fb537c5203b",
   "metadata": {},
   "outputs": [],
   "source": []
  }
 ],
 "metadata": {
  "kernelspec": {
   "display_name": "Python 3 (ipykernel)",
   "language": "python",
   "name": "python3"
  },
  "language_info": {
   "codemirror_mode": {
    "name": "ipython",
    "version": 3
   },
   "file_extension": ".py",
   "mimetype": "text/x-python",
   "name": "python",
   "nbconvert_exporter": "python",
   "pygments_lexer": "ipython3",
   "version": "3.9.7"
  }
 },
 "nbformat": 4,
 "nbformat_minor": 5
}
