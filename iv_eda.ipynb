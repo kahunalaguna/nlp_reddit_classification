{
 "cells": [
  {
   "cell_type": "markdown",
   "id": "1c66c4e8-91d4-4ac9-9adc-26cf8fb3b2ed",
   "metadata": {},
   "source": [
    "### Exploratory Data Analysis"
   ]
  },
  {
   "cell_type": "markdown",
   "id": "ceb8fdb8-faa2-4bbe-bc2a-22ca7542a0b7",
   "metadata": {},
   "source": [
    "Importing Libraries"
   ]
  },
  {
   "cell_type": "code",
   "execution_count": 1,
   "id": "bbac0b0c-44f8-495e-a2bd-7bd291ac769c",
   "metadata": {},
   "outputs": [],
   "source": [
    "import pandas as pd\n",
    "import numpy as np\n",
    "import matplotlib.pyplot as plt\n",
    "import seaborn as sns\n",
    "\n",
    "from sklearn.feature_extraction.text import CountVectorizer\n",
    "\n",
    "from nltk.sentiment.vader import SentimentIntensityAnalyzer"
   ]
  },
  {
   "cell_type": "markdown",
   "id": "5ac07b3c-e322-4aac-897c-03f17c4ab06c",
   "metadata": {},
   "source": [
    "Reading Datasets"
   ]
  },
  {
   "cell_type": "code",
   "execution_count": 2,
   "id": "dea73150-2ffa-4d03-92e0-2752f9d8a4f9",
   "metadata": {},
   "outputs": [],
   "source": [
    "text = pd.read_csv('./datasets/text.csv').drop(columns=['Unnamed: 0']).dropna(subset=['all_text'])\n",
    "tickers = pd.read_csv('./datasets/tickers.csv').drop(columns=['Unnamed: 0']).dropna(subset=['ticker_text'])"
   ]
  },
  {
   "cell_type": "code",
   "execution_count": 3,
   "id": "d8c04d59-f615-4217-9294-1807ba0f2c28",
   "metadata": {},
   "outputs": [
    {
     "data": {
      "text/html": [
       "<div>\n",
       "<style scoped>\n",
       "    .dataframe tbody tr th:only-of-type {\n",
       "        vertical-align: middle;\n",
       "    }\n",
       "\n",
       "    .dataframe tbody tr th {\n",
       "        vertical-align: top;\n",
       "    }\n",
       "\n",
       "    .dataframe thead th {\n",
       "        text-align: right;\n",
       "    }\n",
       "</style>\n",
       "<table border=\"1\" class=\"dataframe\">\n",
       "  <thead>\n",
       "    <tr style=\"text-align: right;\">\n",
       "      <th></th>\n",
       "      <th>subreddit</th>\n",
       "      <th>title</th>\n",
       "      <th>selftext</th>\n",
       "      <th>all_text</th>\n",
       "    </tr>\n",
       "  </thead>\n",
       "  <tbody>\n",
       "    <tr>\n",
       "      <th>0</th>\n",
       "      <td>wallstreetbets</td>\n",
       "      <td>Made 45k on QQQ puts in 3 days, will finally p...</td>\n",
       "      <td>NaN</td>\n",
       "      <td>Made k on QQQ puts in days will finally pay of...</td>\n",
       "    </tr>\n",
       "    <tr>\n",
       "      <th>1</th>\n",
       "      <td>wallstreetbets</td>\n",
       "      <td>There is a mining program giving unprecedented...</td>\n",
       "      <td>NaN</td>\n",
       "      <td>There is a mining program giving unprecedented...</td>\n",
       "    </tr>\n",
       "    <tr>\n",
       "      <th>2</th>\n",
       "      <td>wallstreetbets</td>\n",
       "      <td>TUESDAY = $ B B I G 🚀🚀🚀LFG 🚀🚀🚀</td>\n",
       "      <td>[removed]</td>\n",
       "      <td>TUESDAY B B I G 🚀🚀🚀LFG 🚀🚀🚀</td>\n",
       "    </tr>\n",
       "  </tbody>\n",
       "</table>\n",
       "</div>"
      ],
      "text/plain": [
       "        subreddit                                              title  \\\n",
       "0  wallstreetbets  Made 45k on QQQ puts in 3 days, will finally p...   \n",
       "1  wallstreetbets  There is a mining program giving unprecedented...   \n",
       "2  wallstreetbets                     TUESDAY = $ B B I G 🚀🚀🚀LFG 🚀🚀🚀   \n",
       "\n",
       "    selftext                                           all_text  \n",
       "0        NaN  Made k on QQQ puts in days will finally pay of...  \n",
       "1        NaN  There is a mining program giving unprecedented...  \n",
       "2  [removed]                         TUESDAY B B I G 🚀🚀🚀LFG 🚀🚀🚀  "
      ]
     },
     "execution_count": 3,
     "metadata": {},
     "output_type": "execute_result"
    }
   ],
   "source": [
    "text.head(3)"
   ]
  },
  {
   "cell_type": "code",
   "execution_count": 4,
   "id": "f3ca9eea-7885-4d8e-b26e-99041fc1e264",
   "metadata": {},
   "outputs": [
    {
     "data": {
      "text/html": [
       "<div>\n",
       "<style scoped>\n",
       "    .dataframe tbody tr th:only-of-type {\n",
       "        vertical-align: middle;\n",
       "    }\n",
       "\n",
       "    .dataframe tbody tr th {\n",
       "        vertical-align: top;\n",
       "    }\n",
       "\n",
       "    .dataframe thead th {\n",
       "        text-align: right;\n",
       "    }\n",
       "</style>\n",
       "<table border=\"1\" class=\"dataframe\">\n",
       "  <thead>\n",
       "    <tr style=\"text-align: right;\">\n",
       "      <th></th>\n",
       "      <th>subreddit</th>\n",
       "      <th>ticker_text</th>\n",
       "      <th>ticker_counts</th>\n",
       "    </tr>\n",
       "  </thead>\n",
       "  <tbody>\n",
       "    <tr>\n",
       "      <th>0</th>\n",
       "      <td>wallstreetbets</td>\n",
       "      <td>QQQ</td>\n",
       "      <td>1</td>\n",
       "    </tr>\n",
       "    <tr>\n",
       "      <th>2</th>\n",
       "      <td>wallstreetbets</td>\n",
       "      <td>LFG</td>\n",
       "      <td>1</td>\n",
       "    </tr>\n",
       "    <tr>\n",
       "      <th>3</th>\n",
       "      <td>wallstreetbets</td>\n",
       "      <td>PTN</td>\n",
       "      <td>1</td>\n",
       "    </tr>\n",
       "  </tbody>\n",
       "</table>\n",
       "</div>"
      ],
      "text/plain": [
       "        subreddit ticker_text  ticker_counts\n",
       "0  wallstreetbets         QQQ              1\n",
       "2  wallstreetbets         LFG              1\n",
       "3  wallstreetbets         PTN              1"
      ]
     },
     "execution_count": 4,
     "metadata": {},
     "output_type": "execute_result"
    }
   ],
   "source": [
    "tickers.head(3)"
   ]
  },
  {
   "cell_type": "markdown",
   "id": "f4078274-1e7d-4e6b-be32-a50f381f8393",
   "metadata": {},
   "source": [
    "Count Vectorize Text and Ticker Corpus"
   ]
  },
  {
   "cell_type": "code",
   "execution_count": 5,
   "id": "8d0d0c41-6fb9-47f3-9f27-a0f7079a422b",
   "metadata": {},
   "outputs": [],
   "source": [
    "#define x and y (all text and subreddit)\n",
    "text_x= text['all_text']\n",
    "text_y= text['subreddit']"
   ]
  },
  {
   "cell_type": "code",
   "execution_count": 6,
   "id": "40190a44-7303-48db-ae8e-b9849b2f7cc3",
   "metadata": {},
   "outputs": [
    {
     "data": {
      "text/plain": [
       "CountVectorizer(max_df=0.7, min_df=3, stop_words='english')"
      ]
     },
     "execution_count": 6,
     "metadata": {},
     "output_type": "execute_result"
    }
   ],
   "source": [
    "#instantiate count vectorizer and fit on all text\n",
    "cv=CountVectorizer(min_df=3, max_df=0.7, stop_words='english')\n",
    "cv.fit(text_x)"
   ]
  },
  {
   "cell_type": "code",
   "execution_count": 7,
   "id": "ebcdeb7b-9a3a-4490-b334-21be822a520c",
   "metadata": {},
   "outputs": [],
   "source": [
    "#transform all text\n",
    "text_cv = cv.transform(text_x)"
   ]
  },
  {
   "cell_type": "code",
   "execution_count": 8,
   "id": "24750f60-8b22-45a6-9302-3395815228ea",
   "metadata": {},
   "outputs": [
    {
     "data": {
      "text/html": [
       "<div>\n",
       "<style scoped>\n",
       "    .dataframe tbody tr th:only-of-type {\n",
       "        vertical-align: middle;\n",
       "    }\n",
       "\n",
       "    .dataframe tbody tr th {\n",
       "        vertical-align: top;\n",
       "    }\n",
       "\n",
       "    .dataframe thead th {\n",
       "        text-align: right;\n",
       "    }\n",
       "</style>\n",
       "<table border=\"1\" class=\"dataframe\">\n",
       "  <thead>\n",
       "    <tr style=\"text-align: right;\">\n",
       "      <th></th>\n",
       "      <th>aa</th>\n",
       "      <th>aaa</th>\n",
       "      <th>aaaand</th>\n",
       "      <th>aaii</th>\n",
       "      <th>aal</th>\n",
       "      <th>aap</th>\n",
       "      <th>aapl</th>\n",
       "      <th>aaron</th>\n",
       "      <th>aaxj</th>\n",
       "      <th>ab</th>\n",
       "      <th>...</th>\n",
       "      <th>zoo</th>\n",
       "      <th>zoom</th>\n",
       "      <th>zoomed</th>\n",
       "      <th>zooming</th>\n",
       "      <th>zs</th>\n",
       "      <th>zscaler</th>\n",
       "      <th>zuck</th>\n",
       "      <th>zuckerberg</th>\n",
       "      <th>zynex</th>\n",
       "      <th>zynga</th>\n",
       "    </tr>\n",
       "  </thead>\n",
       "  <tbody>\n",
       "    <tr>\n",
       "      <th>0</th>\n",
       "      <td>0</td>\n",
       "      <td>0</td>\n",
       "      <td>0</td>\n",
       "      <td>0</td>\n",
       "      <td>0</td>\n",
       "      <td>0</td>\n",
       "      <td>0</td>\n",
       "      <td>0</td>\n",
       "      <td>0</td>\n",
       "      <td>0</td>\n",
       "      <td>...</td>\n",
       "      <td>0</td>\n",
       "      <td>0</td>\n",
       "      <td>0</td>\n",
       "      <td>0</td>\n",
       "      <td>0</td>\n",
       "      <td>0</td>\n",
       "      <td>0</td>\n",
       "      <td>0</td>\n",
       "      <td>0</td>\n",
       "      <td>0</td>\n",
       "    </tr>\n",
       "    <tr>\n",
       "      <th>1</th>\n",
       "      <td>0</td>\n",
       "      <td>0</td>\n",
       "      <td>0</td>\n",
       "      <td>0</td>\n",
       "      <td>0</td>\n",
       "      <td>0</td>\n",
       "      <td>0</td>\n",
       "      <td>0</td>\n",
       "      <td>0</td>\n",
       "      <td>0</td>\n",
       "      <td>...</td>\n",
       "      <td>0</td>\n",
       "      <td>0</td>\n",
       "      <td>0</td>\n",
       "      <td>0</td>\n",
       "      <td>0</td>\n",
       "      <td>0</td>\n",
       "      <td>0</td>\n",
       "      <td>0</td>\n",
       "      <td>0</td>\n",
       "      <td>0</td>\n",
       "    </tr>\n",
       "    <tr>\n",
       "      <th>2</th>\n",
       "      <td>0</td>\n",
       "      <td>0</td>\n",
       "      <td>0</td>\n",
       "      <td>0</td>\n",
       "      <td>0</td>\n",
       "      <td>0</td>\n",
       "      <td>0</td>\n",
       "      <td>0</td>\n",
       "      <td>0</td>\n",
       "      <td>0</td>\n",
       "      <td>...</td>\n",
       "      <td>0</td>\n",
       "      <td>0</td>\n",
       "      <td>0</td>\n",
       "      <td>0</td>\n",
       "      <td>0</td>\n",
       "      <td>0</td>\n",
       "      <td>0</td>\n",
       "      <td>0</td>\n",
       "      <td>0</td>\n",
       "      <td>0</td>\n",
       "    </tr>\n",
       "    <tr>\n",
       "      <th>3</th>\n",
       "      <td>0</td>\n",
       "      <td>0</td>\n",
       "      <td>0</td>\n",
       "      <td>0</td>\n",
       "      <td>0</td>\n",
       "      <td>0</td>\n",
       "      <td>0</td>\n",
       "      <td>0</td>\n",
       "      <td>0</td>\n",
       "      <td>0</td>\n",
       "      <td>...</td>\n",
       "      <td>0</td>\n",
       "      <td>0</td>\n",
       "      <td>0</td>\n",
       "      <td>0</td>\n",
       "      <td>0</td>\n",
       "      <td>0</td>\n",
       "      <td>0</td>\n",
       "      <td>0</td>\n",
       "      <td>0</td>\n",
       "      <td>0</td>\n",
       "    </tr>\n",
       "    <tr>\n",
       "      <th>4</th>\n",
       "      <td>0</td>\n",
       "      <td>0</td>\n",
       "      <td>0</td>\n",
       "      <td>0</td>\n",
       "      <td>0</td>\n",
       "      <td>0</td>\n",
       "      <td>0</td>\n",
       "      <td>0</td>\n",
       "      <td>0</td>\n",
       "      <td>0</td>\n",
       "      <td>...</td>\n",
       "      <td>0</td>\n",
       "      <td>0</td>\n",
       "      <td>0</td>\n",
       "      <td>0</td>\n",
       "      <td>0</td>\n",
       "      <td>0</td>\n",
       "      <td>0</td>\n",
       "      <td>0</td>\n",
       "      <td>0</td>\n",
       "      <td>0</td>\n",
       "    </tr>\n",
       "  </tbody>\n",
       "</table>\n",
       "<p>5 rows × 11817 columns</p>\n",
       "</div>"
      ],
      "text/plain": [
       "   aa  aaa  aaaand  aaii  aal  aap  aapl  aaron  aaxj  ab  ...  zoo  zoom  \\\n",
       "0   0    0       0     0    0    0     0      0     0   0  ...    0     0   \n",
       "1   0    0       0     0    0    0     0      0     0   0  ...    0     0   \n",
       "2   0    0       0     0    0    0     0      0     0   0  ...    0     0   \n",
       "3   0    0       0     0    0    0     0      0     0   0  ...    0     0   \n",
       "4   0    0       0     0    0    0     0      0     0   0  ...    0     0   \n",
       "\n",
       "   zoomed  zooming  zs  zscaler  zuck  zuckerberg  zynex  zynga  \n",
       "0       0        0   0        0     0           0      0      0  \n",
       "1       0        0   0        0     0           0      0      0  \n",
       "2       0        0   0        0     0           0      0      0  \n",
       "3       0        0   0        0     0           0      0      0  \n",
       "4       0        0   0        0     0           0      0      0  \n",
       "\n",
       "[5 rows x 11817 columns]"
      ]
     },
     "execution_count": 8,
     "metadata": {},
     "output_type": "execute_result"
    }
   ],
   "source": [
    "#create data frame of cv'ed text data\n",
    "cvtext = pd.DataFrame(text_cv.todense(), columns=cv.get_feature_names())\n",
    "cvtext.head()"
   ]
  },
  {
   "cell_type": "code",
   "execution_count": 9,
   "id": "61b4c73b-42a1-4aa7-a1be-7f0d9612f2e1",
   "metadata": {},
   "outputs": [
    {
     "data": {
      "text/plain": [
       "stock        6225\n",
       "market       4898\n",
       "stocks       4333\n",
       "year         3679\n",
       "like         3399\n",
       "company      3198\n",
       "just         3118\n",
       "amp          2830\n",
       "buy          2669\n",
       "time         2567\n",
       "gt           2563\n",
       "price        2541\n",
       "new          2503\n",
       "shares       2230\n",
       "money        2140\n",
       "trading      1951\n",
       "think        1930\n",
       "good         1878\n",
       "going        1779\n",
       "companies    1742\n",
       "dtype: int64"
      ]
     },
     "execution_count": 9,
     "metadata": {},
     "output_type": "execute_result"
    }
   ],
   "source": [
    "#20 most frequently used words in text corpus (excluding stop_words)\n",
    "cvtext.sum().sort_values(ascending=False)[:20]"
   ]
  },
  {
   "cell_type": "code",
   "execution_count": 10,
   "id": "72144c3a-63bd-47be-a231-aa488f59c0fb",
   "metadata": {
    "tags": []
   },
   "outputs": [
    {
     "data": {
      "text/plain": [
       "Text(0.5, 1.0, '20 Most Frequently Used Words in Posts')"
      ]
     },
     "execution_count": 10,
     "metadata": {},
     "output_type": "execute_result"
    },
    {
     "data": {
      "image/png": "[encoded data removed]",
      "text/plain": [
       "<Figure size 720x720 with 1 Axes>"
      ]
     },
     "metadata": {},
     "output_type": "display_data"
    }
   ],
   "source": [
    "sns.set(style='whitegrid')\n",
    "plt.figure(figsize=(10,10))\n",
    "cvtext.sum().sort_values(ascending=False)[:20].plot(\n",
    "    kind='barh',\n",
    "    cmap='rainbow');\n",
    "plt.grid(b=None)\n",
    "plt.title(\"20 Most Frequently Used Words in Posts\")"
   ]
  },
  {
   "cell_type": "code",
   "execution_count": 11,
   "id": "8c03df31-ff89-48c2-bfa3-718bac896898",
   "metadata": {},
   "outputs": [],
   "source": [
    "#adding subreddit to df for grouping\n",
    "cvtext['subreddit'] = text_y"
   ]
  },
  {
   "cell_type": "code",
   "execution_count": 36,
   "id": "ffb70d96-3691-4c18-a4e5-14ccaa0cc872",
   "metadata": {
    "tags": []
   },
   "outputs": [
    {
     "data": {
      "text/html": [
       "<div>\n",
       "<style scoped>\n",
       "    .dataframe tbody tr th:only-of-type {\n",
       "        vertical-align: middle;\n",
       "    }\n",
       "\n",
       "    .dataframe tbody tr th {\n",
       "        vertical-align: top;\n",
       "    }\n",
       "\n",
       "    .dataframe thead th {\n",
       "        text-align: right;\n",
       "    }\n",
       "</style>\n",
       "<table border=\"1\" class=\"dataframe\">\n",
       "  <thead>\n",
       "    <tr style=\"text-align: right;\">\n",
       "      <th>subreddit</th>\n",
       "      <th>stocks</th>\n",
       "      <th>wallstreetbets</th>\n",
       "    </tr>\n",
       "  </thead>\n",
       "  <tbody>\n",
       "    <tr>\n",
       "      <th>stock</th>\n",
       "      <td>4585</td>\n",
       "      <td>1636</td>\n",
       "    </tr>\n",
       "    <tr>\n",
       "      <th>stocks</th>\n",
       "      <td>3470</td>\n",
       "      <td>855</td>\n",
       "    </tr>\n",
       "    <tr>\n",
       "      <th>market</th>\n",
       "      <td>3406</td>\n",
       "      <td>1489</td>\n",
       "    </tr>\n",
       "    <tr>\n",
       "      <th>year</th>\n",
       "      <td>2395</td>\n",
       "      <td>1279</td>\n",
       "    </tr>\n",
       "    <tr>\n",
       "      <th>gt</th>\n",
       "      <td>2376</td>\n",
       "      <td>187</td>\n",
       "    </tr>\n",
       "    <tr>\n",
       "      <th>like</th>\n",
       "      <td>2225</td>\n",
       "      <td>1171</td>\n",
       "    </tr>\n",
       "    <tr>\n",
       "      <th>company</th>\n",
       "      <td>2223</td>\n",
       "      <td>975</td>\n",
       "    </tr>\n",
       "    <tr>\n",
       "      <th>just</th>\n",
       "      <td>1915</td>\n",
       "      <td>1203</td>\n",
       "    </tr>\n",
       "    <tr>\n",
       "      <th>amp</th>\n",
       "      <td>1831</td>\n",
       "      <td>998</td>\n",
       "    </tr>\n",
       "    <tr>\n",
       "      <th>buy</th>\n",
       "      <td>1709</td>\n",
       "      <td>957</td>\n",
       "    </tr>\n",
       "  </tbody>\n",
       "</table>\n",
       "</div>"
      ],
      "text/plain": [
       "subreddit  stocks  wallstreetbets\n",
       "stock        4585            1636\n",
       "stocks       3470             855\n",
       "market       3406            1489\n",
       "year         2395            1279\n",
       "gt           2376             187\n",
       "like         2225            1171\n",
       "company      2223             975\n",
       "just         1915            1203\n",
       "amp          1831             998\n",
       "buy          1709             957"
      ]
     },
     "execution_count": 36,
     "metadata": {},
     "output_type": "execute_result"
    }
   ],
   "source": [
    "cvtext.groupby('subreddit').sum().T.sort_values(by='stocks', ascending=False).head(10)"
   ]
  },
  {
   "cell_type": "code",
   "execution_count": 13,
   "id": "684be621-c6a0-48e6-b74d-2cb7f870a393",
   "metadata": {},
   "outputs": [
    {
     "data": {
      "text/plain": [
       "Text(0.5, 1.0, 'Top 20 r/Stocks Words by Usage vs. r/WSB')"
      ]
     },
     "execution_count": 13,
     "metadata": {},
     "output_type": "execute_result"
    },
    {
     "data": {
      "text/plain": [
       "<Figure size 720x720 with 0 Axes>"
      ]
     },
     "metadata": {},
     "output_type": "display_data"
    },
    {
     "data": {
      "image/png": "[encoded data removed]",
      "text/plain": [
       "<Figure size 432x288 with 1 Axes>"
      ]
     },
     "metadata": {},
     "output_type": "display_data"
    }
   ],
   "source": [
    "sns.set(style='whitegrid')\n",
    "plt.figure(figsize=(10,10));\n",
    "cvtext.groupby('subreddit').sum().T.sort_values(by='stocks', ascending=False).head(20).plot(kind='bar', cmap='rainbow')\n",
    "#plt.grid(b=None)\n",
    "plt.title(\"Top 20 r/Stocks Words by Usage vs. r/WSB\")"
   ]
  },
  {
   "cell_type": "code",
   "execution_count": 14,
   "id": "095feb5c-aa89-44af-b44e-b75366de030e",
   "metadata": {},
   "outputs": [
    {
     "data": {
      "text/html": [
       "<div>\n",
       "<style scoped>\n",
       "    .dataframe tbody tr th:only-of-type {\n",
       "        vertical-align: middle;\n",
       "    }\n",
       "\n",
       "    .dataframe tbody tr th {\n",
       "        vertical-align: top;\n",
       "    }\n",
       "\n",
       "    .dataframe thead th {\n",
       "        text-align: right;\n",
       "    }\n",
       "</style>\n",
       "<table border=\"1\" class=\"dataframe\">\n",
       "  <thead>\n",
       "    <tr style=\"text-align: right;\">\n",
       "      <th>subreddit</th>\n",
       "      <th>stocks</th>\n",
       "      <th>wallstreetbets</th>\n",
       "    </tr>\n",
       "  </thead>\n",
       "  <tbody>\n",
       "    <tr>\n",
       "      <th>stock</th>\n",
       "      <td>4585</td>\n",
       "      <td>1636</td>\n",
       "    </tr>\n",
       "    <tr>\n",
       "      <th>market</th>\n",
       "      <td>3406</td>\n",
       "      <td>1489</td>\n",
       "    </tr>\n",
       "    <tr>\n",
       "      <th>year</th>\n",
       "      <td>2395</td>\n",
       "      <td>1279</td>\n",
       "    </tr>\n",
       "    <tr>\n",
       "      <th>just</th>\n",
       "      <td>1915</td>\n",
       "      <td>1203</td>\n",
       "    </tr>\n",
       "    <tr>\n",
       "      <th>like</th>\n",
       "      <td>2225</td>\n",
       "      <td>1171</td>\n",
       "    </tr>\n",
       "    <tr>\n",
       "      <th>time</th>\n",
       "      <td>1548</td>\n",
       "      <td>1017</td>\n",
       "    </tr>\n",
       "    <tr>\n",
       "      <th>amp</th>\n",
       "      <td>1831</td>\n",
       "      <td>998</td>\n",
       "    </tr>\n",
       "    <tr>\n",
       "      <th>new</th>\n",
       "      <td>1513</td>\n",
       "      <td>984</td>\n",
       "    </tr>\n",
       "    <tr>\n",
       "      <th>company</th>\n",
       "      <td>2223</td>\n",
       "      <td>975</td>\n",
       "    </tr>\n",
       "    <tr>\n",
       "      <th>buy</th>\n",
       "      <td>1709</td>\n",
       "      <td>957</td>\n",
       "    </tr>\n",
       "    <tr>\n",
       "      <th>short</th>\n",
       "      <td>615</td>\n",
       "      <td>956</td>\n",
       "    </tr>\n",
       "    <tr>\n",
       "      <th>gme</th>\n",
       "      <td>70</td>\n",
       "      <td>891</td>\n",
       "    </tr>\n",
       "    <tr>\n",
       "      <th>money</th>\n",
       "      <td>1253</td>\n",
       "      <td>884</td>\n",
       "    </tr>\n",
       "    <tr>\n",
       "      <th>price</th>\n",
       "      <td>1680</td>\n",
       "      <td>861</td>\n",
       "    </tr>\n",
       "    <tr>\n",
       "      <th>stocks</th>\n",
       "      <td>3470</td>\n",
       "      <td>855</td>\n",
       "    </tr>\n",
       "    <tr>\n",
       "      <th>going</th>\n",
       "      <td>1019</td>\n",
       "      <td>759</td>\n",
       "    </tr>\n",
       "    <tr>\n",
       "      <th>shares</th>\n",
       "      <td>1484</td>\n",
       "      <td>745</td>\n",
       "    </tr>\n",
       "    <tr>\n",
       "      <th>think</th>\n",
       "      <td>1236</td>\n",
       "      <td>691</td>\n",
       "    </tr>\n",
       "    <tr>\n",
       "      <th>know</th>\n",
       "      <td>1059</td>\n",
       "      <td>649</td>\n",
       "    </tr>\n",
       "    <tr>\n",
       "      <th>don</th>\n",
       "      <td>989</td>\n",
       "      <td>645</td>\n",
       "    </tr>\n",
       "  </tbody>\n",
       "</table>\n",
       "</div>"
      ],
      "text/plain": [
       "subreddit  stocks  wallstreetbets\n",
       "stock        4585            1636\n",
       "market       3406            1489\n",
       "year         2395            1279\n",
       "just         1915            1203\n",
       "like         2225            1171\n",
       "time         1548            1017\n",
       "amp          1831             998\n",
       "new          1513             984\n",
       "company      2223             975\n",
       "buy          1709             957\n",
       "short         615             956\n",
       "gme            70             891\n",
       "money        1253             884\n",
       "price        1680             861\n",
       "stocks       3470             855\n",
       "going        1019             759\n",
       "shares       1484             745\n",
       "think        1236             691\n",
       "know         1059             649\n",
       "don           989             645"
      ]
     },
     "execution_count": 14,
     "metadata": {},
     "output_type": "execute_result"
    }
   ],
   "source": [
    "cvtext.groupby('subreddit').sum().T.sort_values(by='wallstreetbets', ascending=False).head(20)"
   ]
  },
  {
   "cell_type": "code",
   "execution_count": 15,
   "id": "912036a6-5c3b-459e-8a09-e2f95dda2c20",
   "metadata": {},
   "outputs": [
    {
     "data": {
      "text/plain": [
       "Text(0.5, 1.0, 'Top 20 r/WSB Words by Usage vs. r/Stocks')"
      ]
     },
     "execution_count": 15,
     "metadata": {},
     "output_type": "execute_result"
    },
    {
     "data": {
      "text/plain": [
       "<Figure size 720x720 with 0 Axes>"
      ]
     },
     "metadata": {},
     "output_type": "display_data"
    },
    {
     "data": {
      "image/png": "[encoded data removed]",
      "text/plain": [
       "<Figure size 432x288 with 1 Axes>"
      ]
     },
     "metadata": {},
     "output_type": "display_data"
    }
   ],
   "source": [
    "sns.set(style='whitegrid')\n",
    "plt.figure(figsize=(10,10));\n",
    "cvtext.groupby('subreddit').sum().T.sort_values(by='wallstreetbets', ascending=False).head(20).plot(kind='bar', cmap='rainbow');\n",
    "#plt.grid(b=None)\n",
    "plt.title(\"Top 20 r/WSB Words by Usage vs. r/Stocks\")"
   ]
  },
  {
   "cell_type": "code",
   "execution_count": 19,
   "id": "ae5b2cb0-4c83-4453-a224-a6d7c5a3924a",
   "metadata": {},
   "outputs": [],
   "source": [
    "#define x and y (ticker text and subreddit)\n",
    "ticker_x= tickers['ticker_text']\n",
    "ticker_y= tickers['subreddit']"
   ]
  },
  {
   "cell_type": "code",
   "execution_count": 20,
   "id": "21a9c412-3319-43ac-8732-bbeb71fd2c35",
   "metadata": {},
   "outputs": [
    {
     "data": {
      "text/plain": [
       "CountVectorizer()"
      ]
     },
     "execution_count": 20,
     "metadata": {},
     "output_type": "execute_result"
    }
   ],
   "source": [
    "#instantiate count vectorizer and fit on all ticker text\n",
    "cv=CountVectorizer()\n",
    "cv.fit(ticker_x)"
   ]
  },
  {
   "cell_type": "code",
   "execution_count": 21,
   "id": "7fe8fb04-fbd4-46bb-a775-455e1280e5c4",
   "metadata": {},
   "outputs": [],
   "source": [
    "#transform all ticker text\n",
    "ticker_cv = cv.transform(ticker_x)"
   ]
  },
  {
   "cell_type": "code",
   "execution_count": 22,
   "id": "ae7024a8-7165-47ff-9ea3-39b5d03646ef",
   "metadata": {},
   "outputs": [
    {
     "data": {
      "text/html": [
       "<div>\n",
       "<style scoped>\n",
       "    .dataframe tbody tr th:only-of-type {\n",
       "        vertical-align: middle;\n",
       "    }\n",
       "\n",
       "    .dataframe tbody tr th {\n",
       "        vertical-align: top;\n",
       "    }\n",
       "\n",
       "    .dataframe thead th {\n",
       "        text-align: right;\n",
       "    }\n",
       "</style>\n",
       "<table border=\"1\" class=\"dataframe\">\n",
       "  <thead>\n",
       "    <tr style=\"text-align: right;\">\n",
       "      <th></th>\n",
       "      <th>aa</th>\n",
       "      <th>aaa</th>\n",
       "      <th>aab</th>\n",
       "      <th>aabb</th>\n",
       "      <th>aabvf</th>\n",
       "      <th>aag</th>\n",
       "      <th>aagiy</th>\n",
       "      <th>aaii</th>\n",
       "      <th>aal</th>\n",
       "      <th>aamco</th>\n",
       "      <th>...</th>\n",
       "      <th>znog</th>\n",
       "      <th>zom</th>\n",
       "      <th>zoom</th>\n",
       "      <th>zq</th>\n",
       "      <th>zs</th>\n",
       "      <th>zsan</th>\n",
       "      <th>zts</th>\n",
       "      <th>zyng</th>\n",
       "      <th>zynga</th>\n",
       "      <th>zyxi</th>\n",
       "    </tr>\n",
       "  </thead>\n",
       "  <tbody>\n",
       "    <tr>\n",
       "      <th>0</th>\n",
       "      <td>0</td>\n",
       "      <td>0</td>\n",
       "      <td>0</td>\n",
       "      <td>0</td>\n",
       "      <td>0</td>\n",
       "      <td>0</td>\n",
       "      <td>0</td>\n",
       "      <td>0</td>\n",
       "      <td>0</td>\n",
       "      <td>0</td>\n",
       "      <td>...</td>\n",
       "      <td>0</td>\n",
       "      <td>0</td>\n",
       "      <td>0</td>\n",
       "      <td>0</td>\n",
       "      <td>0</td>\n",
       "      <td>0</td>\n",
       "      <td>0</td>\n",
       "      <td>0</td>\n",
       "      <td>0</td>\n",
       "      <td>0</td>\n",
       "    </tr>\n",
       "    <tr>\n",
       "      <th>1</th>\n",
       "      <td>0</td>\n",
       "      <td>0</td>\n",
       "      <td>0</td>\n",
       "      <td>0</td>\n",
       "      <td>0</td>\n",
       "      <td>0</td>\n",
       "      <td>0</td>\n",
       "      <td>0</td>\n",
       "      <td>0</td>\n",
       "      <td>0</td>\n",
       "      <td>...</td>\n",
       "      <td>0</td>\n",
       "      <td>0</td>\n",
       "      <td>0</td>\n",
       "      <td>0</td>\n",
       "      <td>0</td>\n",
       "      <td>0</td>\n",
       "      <td>0</td>\n",
       "      <td>0</td>\n",
       "      <td>0</td>\n",
       "      <td>0</td>\n",
       "    </tr>\n",
       "    <tr>\n",
       "      <th>2</th>\n",
       "      <td>0</td>\n",
       "      <td>0</td>\n",
       "      <td>0</td>\n",
       "      <td>0</td>\n",
       "      <td>0</td>\n",
       "      <td>0</td>\n",
       "      <td>0</td>\n",
       "      <td>0</td>\n",
       "      <td>0</td>\n",
       "      <td>0</td>\n",
       "      <td>...</td>\n",
       "      <td>0</td>\n",
       "      <td>0</td>\n",
       "      <td>0</td>\n",
       "      <td>0</td>\n",
       "      <td>0</td>\n",
       "      <td>0</td>\n",
       "      <td>0</td>\n",
       "      <td>0</td>\n",
       "      <td>0</td>\n",
       "      <td>0</td>\n",
       "    </tr>\n",
       "    <tr>\n",
       "      <th>3</th>\n",
       "      <td>0</td>\n",
       "      <td>0</td>\n",
       "      <td>0</td>\n",
       "      <td>0</td>\n",
       "      <td>0</td>\n",
       "      <td>0</td>\n",
       "      <td>0</td>\n",
       "      <td>0</td>\n",
       "      <td>0</td>\n",
       "      <td>0</td>\n",
       "      <td>...</td>\n",
       "      <td>0</td>\n",
       "      <td>0</td>\n",
       "      <td>0</td>\n",
       "      <td>0</td>\n",
       "      <td>0</td>\n",
       "      <td>0</td>\n",
       "      <td>0</td>\n",
       "      <td>0</td>\n",
       "      <td>0</td>\n",
       "      <td>0</td>\n",
       "    </tr>\n",
       "    <tr>\n",
       "      <th>4</th>\n",
       "      <td>0</td>\n",
       "      <td>0</td>\n",
       "      <td>0</td>\n",
       "      <td>0</td>\n",
       "      <td>0</td>\n",
       "      <td>0</td>\n",
       "      <td>0</td>\n",
       "      <td>0</td>\n",
       "      <td>0</td>\n",
       "      <td>0</td>\n",
       "      <td>...</td>\n",
       "      <td>0</td>\n",
       "      <td>0</td>\n",
       "      <td>0</td>\n",
       "      <td>0</td>\n",
       "      <td>0</td>\n",
       "      <td>0</td>\n",
       "      <td>0</td>\n",
       "      <td>0</td>\n",
       "      <td>0</td>\n",
       "      <td>0</td>\n",
       "    </tr>\n",
       "  </tbody>\n",
       "</table>\n",
       "<p>5 rows × 4649 columns</p>\n",
       "</div>"
      ],
      "text/plain": [
       "   aa  aaa  aab  aabb  aabvf  aag  aagiy  aaii  aal  aamco  ...  znog  zom  \\\n",
       "0   0    0    0     0      0    0      0     0    0      0  ...     0    0   \n",
       "1   0    0    0     0      0    0      0     0    0      0  ...     0    0   \n",
       "2   0    0    0     0      0    0      0     0    0      0  ...     0    0   \n",
       "3   0    0    0     0      0    0      0     0    0      0  ...     0    0   \n",
       "4   0    0    0     0      0    0      0     0    0      0  ...     0    0   \n",
       "\n",
       "   zoom  zq  zs  zsan  zts  zyng  zynga  zyxi  \n",
       "0     0   0   0     0    0     0      0     0  \n",
       "1     0   0   0     0    0     0      0     0  \n",
       "2     0   0   0     0    0     0      0     0  \n",
       "3     0   0   0     0    0     0      0     0  \n",
       "4     0   0   0     0    0     0      0     0  \n",
       "\n",
       "[5 rows x 4649 columns]"
      ]
     },
     "execution_count": 22,
     "metadata": {},
     "output_type": "execute_result"
    }
   ],
   "source": [
    "#create data frame of cv'ed ticker text data\n",
    "cvtickers = pd.DataFrame(ticker_cv.todense(), columns=cv.get_feature_names())\n",
    "cvtickers.head()"
   ]
  },
  {
   "cell_type": "code",
   "execution_count": 23,
   "id": "f9c718b8-bc31-44df-9308-0eefee5e86a3",
   "metadata": {},
   "outputs": [
    {
     "data": {
      "text/plain": [
       "gme     609\n",
       "us      444\n",
       "tsla    332\n",
       "spy     290\n",
       "dd      269\n",
       "amc     251\n",
       "ev      237\n",
       "ipo     223\n",
       "aapl    182\n",
       "nvda    179\n",
       "amd     178\n",
       "qqq     170\n",
       "yolo    160\n",
       "msft    153\n",
       "baba    124\n",
       "voo     112\n",
       "to      110\n",
       "ira     108\n",
       "vti     102\n",
       "amzn     97\n",
       "dtype: int64"
      ]
     },
     "execution_count": 23,
     "metadata": {},
     "output_type": "execute_result"
    }
   ],
   "source": [
    "#20 most frequently used words in ticker text corpus\n",
    "cvtickers.sum().sort_values(ascending=False)[:20]"
   ]
  },
  {
   "cell_type": "code",
   "execution_count": 24,
   "id": "4adc4b71-eff9-43d8-80e0-05b6c735fba3",
   "metadata": {},
   "outputs": [
    {
     "data": {
      "text/plain": [
       "Text(0.5, 1.0, '20 Most Frequently Mentioned Tickers')"
      ]
     },
     "execution_count": 24,
     "metadata": {},
     "output_type": "execute_result"
    },
    {
     "data": {
      "image/png": "[encoded data removed]",
      "text/plain": [
       "<Figure size 720x720 with 1 Axes>"
      ]
     },
     "metadata": {},
     "output_type": "display_data"
    }
   ],
   "source": [
    "sns.set(style='whitegrid')\n",
    "plt.figure(figsize=(10,10))\n",
    "cvtickers.sum().sort_values(ascending=False)[:20].plot(\n",
    "    kind='barh',\n",
    "    cmap='Spectral');\n",
    "plt.grid(b=None)\n",
    "plt.title(\"20 Most Frequently Mentioned Tickers\")"
   ]
  },
  {
   "cell_type": "code",
   "execution_count": 25,
   "id": "92003127-1017-4578-a016-f684194db129",
   "metadata": {},
   "outputs": [],
   "source": [
    "#adding subreddit to df for grouping\n",
    "cvtickers['subreddit'] = ticker_y"
   ]
  },
  {
   "cell_type": "code",
   "execution_count": 26,
   "id": "e6760d89-b23a-4522-9186-6907c7813ad4",
   "metadata": {},
   "outputs": [
    {
     "data": {
      "text/plain": [
       "stocks            4330\n",
       "wallstreetbets    4012\n",
       "Name: subreddit, dtype: int64"
      ]
     },
     "execution_count": 26,
     "metadata": {},
     "output_type": "execute_result"
    }
   ],
   "source": [
    "ticker_y.value_counts()"
   ]
  },
  {
   "cell_type": "code",
   "execution_count": 35,
   "id": "85aec767-884d-4a53-88b7-7d86dd9b3c93",
   "metadata": {},
   "outputs": [
    {
     "data": {
      "text/html": [
       "<div>\n",
       "<style scoped>\n",
       "    .dataframe tbody tr th:only-of-type {\n",
       "        vertical-align: middle;\n",
       "    }\n",
       "\n",
       "    .dataframe tbody tr th {\n",
       "        vertical-align: top;\n",
       "    }\n",
       "\n",
       "    .dataframe thead th {\n",
       "        text-align: right;\n",
       "    }\n",
       "</style>\n",
       "<table border=\"1\" class=\"dataframe\">\n",
       "  <thead>\n",
       "    <tr style=\"text-align: right;\">\n",
       "      <th>subreddit</th>\n",
       "      <th>wallstreetbets</th>\n",
       "    </tr>\n",
       "  </thead>\n",
       "  <tbody>\n",
       "    <tr>\n",
       "      <th>gme</th>\n",
       "      <td>259</td>\n",
       "    </tr>\n",
       "    <tr>\n",
       "      <th>us</th>\n",
       "      <td>204</td>\n",
       "    </tr>\n",
       "    <tr>\n",
       "      <th>tsla</th>\n",
       "      <td>140</td>\n",
       "    </tr>\n",
       "    <tr>\n",
       "      <th>dd</th>\n",
       "      <td>131</td>\n",
       "    </tr>\n",
       "    <tr>\n",
       "      <th>spy</th>\n",
       "      <td>116</td>\n",
       "    </tr>\n",
       "    <tr>\n",
       "      <th>ev</th>\n",
       "      <td>114</td>\n",
       "    </tr>\n",
       "    <tr>\n",
       "      <th>amd</th>\n",
       "      <td>93</td>\n",
       "    </tr>\n",
       "    <tr>\n",
       "      <th>amc</th>\n",
       "      <td>92</td>\n",
       "    </tr>\n",
       "    <tr>\n",
       "      <th>ipo</th>\n",
       "      <td>90</td>\n",
       "    </tr>\n",
       "    <tr>\n",
       "      <th>qqq</th>\n",
       "      <td>80</td>\n",
       "    </tr>\n",
       "    <tr>\n",
       "      <th>aapl</th>\n",
       "      <td>79</td>\n",
       "    </tr>\n",
       "    <tr>\n",
       "      <th>nvda</th>\n",
       "      <td>77</td>\n",
       "    </tr>\n",
       "    <tr>\n",
       "      <th>voo</th>\n",
       "      <td>65</td>\n",
       "    </tr>\n",
       "    <tr>\n",
       "      <th>msft</th>\n",
       "      <td>63</td>\n",
       "    </tr>\n",
       "    <tr>\n",
       "      <th>yolo</th>\n",
       "      <td>62</td>\n",
       "    </tr>\n",
       "    <tr>\n",
       "      <th>baba</th>\n",
       "      <td>57</td>\n",
       "    </tr>\n",
       "    <tr>\n",
       "      <th>vti</th>\n",
       "      <td>50</td>\n",
       "    </tr>\n",
       "    <tr>\n",
       "      <th>to</th>\n",
       "      <td>47</td>\n",
       "    </tr>\n",
       "    <tr>\n",
       "      <th>amzn</th>\n",
       "      <td>45</td>\n",
       "    </tr>\n",
       "    <tr>\n",
       "      <th>uk</th>\n",
       "      <td>45</td>\n",
       "    </tr>\n",
       "  </tbody>\n",
       "</table>\n",
       "</div>"
      ],
      "text/plain": [
       "subreddit  wallstreetbets\n",
       "gme                   259\n",
       "us                    204\n",
       "tsla                  140\n",
       "dd                    131\n",
       "spy                   116\n",
       "ev                    114\n",
       "amd                    93\n",
       "amc                    92\n",
       "ipo                    90\n",
       "qqq                    80\n",
       "aapl                   79\n",
       "nvda                   77\n",
       "voo                    65\n",
       "msft                   63\n",
       "yolo                   62\n",
       "baba                   57\n",
       "vti                    50\n",
       "to                     47\n",
       "amzn                   45\n",
       "uk                     45"
      ]
     },
     "execution_count": 35,
     "metadata": {},
     "output_type": "execute_result"
    }
   ],
   "source": [
    "cvtickers.groupby('subreddit').sum().T.sort_values(by=['wallstreetbets'], ascending=False).head(20)"
   ]
  },
  {
   "cell_type": "code",
   "execution_count": 30,
   "id": "1cd94565-10fb-49ba-a356-8926dc82e3f2",
   "metadata": {},
   "outputs": [
    {
     "data": {
      "text/plain": [
       "4700"
      ]
     },
     "execution_count": 30,
     "metadata": {},
     "output_type": "execute_result"
    }
   ],
   "source": [
    "cvtickers['subreddit'].isna().sum()"
   ]
  },
  {
   "cell_type": "code",
   "execution_count": 32,
   "id": "3ae3d83f-abe6-424e-ab43-d38913fc8028",
   "metadata": {},
   "outputs": [
    {
     "data": {
      "text/html": [
       "<div>\n",
       "<style scoped>\n",
       "    .dataframe tbody tr th:only-of-type {\n",
       "        vertical-align: middle;\n",
       "    }\n",
       "\n",
       "    .dataframe tbody tr th {\n",
       "        vertical-align: top;\n",
       "    }\n",
       "\n",
       "    .dataframe thead th {\n",
       "        text-align: right;\n",
       "    }\n",
       "</style>\n",
       "<table border=\"1\" class=\"dataframe\">\n",
       "  <thead>\n",
       "    <tr style=\"text-align: right;\">\n",
       "      <th></th>\n",
       "      <th>aa</th>\n",
       "      <th>aaa</th>\n",
       "      <th>aab</th>\n",
       "      <th>aabb</th>\n",
       "      <th>aabvf</th>\n",
       "      <th>aag</th>\n",
       "      <th>aagiy</th>\n",
       "      <th>aaii</th>\n",
       "      <th>aal</th>\n",
       "      <th>aamco</th>\n",
       "      <th>...</th>\n",
       "      <th>zom</th>\n",
       "      <th>zoom</th>\n",
       "      <th>zq</th>\n",
       "      <th>zs</th>\n",
       "      <th>zsan</th>\n",
       "      <th>zts</th>\n",
       "      <th>zyng</th>\n",
       "      <th>zynga</th>\n",
       "      <th>zyxi</th>\n",
       "      <th>subreddit</th>\n",
       "    </tr>\n",
       "  </thead>\n",
       "  <tbody>\n",
       "  </tbody>\n",
       "</table>\n",
       "<p>0 rows × 4650 columns</p>\n",
       "</div>"
      ],
      "text/plain": [
       "Empty DataFrame\n",
       "Columns: [aa, aaa, aab, aabb, aabvf, aag, aagiy, aaii, aal, aamco, aap, aapia, aapl, aark, aarp, aarq, aaxj, aazzf, ab, abb, abbv, abc, abcd, abce, abeo, abev, abl, able, abnb, about, abs, abt, abu, abus, ac, acad, acat, acb, access, acea, acgby, acgx, ach, achter, aci, acls, acn, acp, acrx, activ, actual, acwi, acwx, acy, ad, ada, adam, adas, adbe, add, adgi, adhd, adi, adler, adm, adma, admaby, admq, adp, adr, ads, adsk, adt, adtran, adults, adv, advice, advise, aea, aec, aehr, aeo, aerc, aerh, aetna, aex, af, afaik, afc, afcg, affect, affirm, affn, affrm, afl, afom, afraid, africa, afrm, afsl, ...]\n",
       "Index: []\n",
       "\n",
       "[0 rows x 4650 columns]"
      ]
     },
     "execution_count": 32,
     "metadata": {},
     "output_type": "execute_result"
    }
   ],
   "source": [
    "cvtickers[cvtickers['subreddit']=='stocks']"
   ]
  },
  {
   "cell_type": "code",
   "execution_count": 33,
   "id": "4435fbca-792c-4e56-b062-6d7767daffa1",
   "metadata": {},
   "outputs": [],
   "source": [
    "#Whatever is going on here is absolutely baffling there's no reason for it why are all the stocks subreddit tags gone?"
   ]
  },
  {
   "cell_type": "code",
   "execution_count": null,
   "id": "f418b635-adc0-49a2-ab64-fb2df3372ed5",
   "metadata": {},
   "outputs": [],
   "source": []
  }
 ],
 "metadata": {
  "kernelspec": {
   "display_name": "Python 3 (ipykernel)",
   "language": "python",
   "name": "python3"
  },
  "language_info": {
   "codemirror_mode": {
    "name": "ipython",
    "version": 3
   },
   "file_extension": ".py",
   "mimetype": "text/x-python",
   "name": "python",
   "nbconvert_exporter": "python",
   "pygments_lexer": "ipython3",
   "version": "3.9.7"
  }
 },
 "nbformat": 4,
 "nbformat_minor": 5
}
