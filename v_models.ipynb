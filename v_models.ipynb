{
 "cells": [
  {
   "cell_type": "markdown",
   "id": "664b5e03-77ee-4f03-98e2-50f891e5e61b",
   "metadata": {},
   "source": [
    "### Modeling"
   ]
  },
  {
   "cell_type": "markdown",
   "id": "e8f6cb53-85cf-408d-9126-a9179259d0ab",
   "metadata": {},
   "source": [
    "#### Importing Libraries and Reading Data"
   ]
  },
  {
   "cell_type": "code",
   "execution_count": 52,
   "id": "2b0f44a2-f285-4b7f-b17d-6ee9e5604efc",
   "metadata": {},
   "outputs": [],
   "source": [
    "import pandas as pd\n",
    "import numpy as np\n",
    "import matplotlib.pyplot as plt\n",
    "import seaborn as sns\n",
    "\n",
    "from sklearn.model_selection import train_test_split, GridSearchCV\n",
    "from sklearn.pipeline import Pipeline\n",
    "from sklearn.naive_bayes import MultinomialNB\n",
    "from sklearn.linear_model import LogisticRegression\n",
    "from sklearn.metrics import confusion_matrix, plot_confusion_matrix\n",
    "from sklearn.ensemble import AdaBoostClassifier, RandomForestClassifier, ExtraTreesClassifier\n",
    "from sklearn.tree import DecisionTreeClassifier\n",
    "from sklearn.svm import SVC\n",
    "\n",
    "\n",
    "from sklearn.feature_extraction.text import CountVectorizer, TfidfVectorizer\n",
    "\n",
    "from nltk.corpus import stopwords\n",
    "from nltk.sentiment.vader import SentimentIntensityAnalyzer\n",
    "from nltk.tokenize import word_tokenize, RegexpTokenizer"
   ]
  },
  {
   "cell_type": "code",
   "execution_count": 2,
   "id": "08812f6e-1ff5-44ce-a255-5b0892b00ea5",
   "metadata": {},
   "outputs": [],
   "source": [
    "text = pd.read_csv('./datasets/text.csv').drop(columns=['Unnamed: 0'])\n",
    "tickers = pd.read_csv('./datasets/tickers.csv').drop(columns=['Unnamed: 0'])"
   ]
  },
  {
   "cell_type": "code",
   "execution_count": 3,
   "id": "700773bf-4fbd-4936-b8c1-4bd153d90706",
   "metadata": {},
   "outputs": [
    {
     "data": {
      "text/html": [
       "<div>\n",
       "<style scoped>\n",
       "    .dataframe tbody tr th:only-of-type {\n",
       "        vertical-align: middle;\n",
       "    }\n",
       "\n",
       "    .dataframe tbody tr th {\n",
       "        vertical-align: top;\n",
       "    }\n",
       "\n",
       "    .dataframe thead th {\n",
       "        text-align: right;\n",
       "    }\n",
       "</style>\n",
       "<table border=\"1\" class=\"dataframe\">\n",
       "  <thead>\n",
       "    <tr style=\"text-align: right;\">\n",
       "      <th></th>\n",
       "      <th>subreddit</th>\n",
       "      <th>title</th>\n",
       "      <th>selftext</th>\n",
       "      <th>all_text</th>\n",
       "    </tr>\n",
       "  </thead>\n",
       "  <tbody>\n",
       "    <tr>\n",
       "      <th>0</th>\n",
       "      <td>wallstreetbets</td>\n",
       "      <td>Made 45k on QQQ puts in 3 days, will finally p...</td>\n",
       "      <td>NaN</td>\n",
       "      <td>Made k on QQQ puts in days will finally pay of...</td>\n",
       "    </tr>\n",
       "    <tr>\n",
       "      <th>1</th>\n",
       "      <td>wallstreetbets</td>\n",
       "      <td>There is a mining program giving unprecedented...</td>\n",
       "      <td>NaN</td>\n",
       "      <td>There is a mining program giving unprecedented...</td>\n",
       "    </tr>\n",
       "    <tr>\n",
       "      <th>2</th>\n",
       "      <td>wallstreetbets</td>\n",
       "      <td>TUESDAY = $ B B I G 🚀🚀🚀LFG 🚀🚀🚀</td>\n",
       "      <td>[removed]</td>\n",
       "      <td>TUESDAY B B I G 🚀🚀🚀LFG 🚀🚀🚀</td>\n",
       "    </tr>\n",
       "    <tr>\n",
       "      <th>3</th>\n",
       "      <td>wallstreetbets</td>\n",
       "      <td>PTN almost at the double Botham 🥳🍾💵💵💵💵💵💵</td>\n",
       "      <td>NaN</td>\n",
       "      <td>PTN almost at the double Botham 🥳🍾💵💵💵💵💵💵</td>\n",
       "    </tr>\n",
       "    <tr>\n",
       "      <th>4</th>\n",
       "      <td>wallstreetbets</td>\n",
       "      <td>I love weeklies. Fuck AMC</td>\n",
       "      <td>NaN</td>\n",
       "      <td>I love weeklies Fuck AMC</td>\n",
       "    </tr>\n",
       "  </tbody>\n",
       "</table>\n",
       "</div>"
      ],
      "text/plain": [
       "        subreddit                                              title  \\\n",
       "0  wallstreetbets  Made 45k on QQQ puts in 3 days, will finally p...   \n",
       "1  wallstreetbets  There is a mining program giving unprecedented...   \n",
       "2  wallstreetbets                     TUESDAY = $ B B I G 🚀🚀🚀LFG 🚀🚀🚀   \n",
       "3  wallstreetbets           PTN almost at the double Botham 🥳🍾💵💵💵💵💵💵   \n",
       "4  wallstreetbets                          I love weeklies. Fuck AMC   \n",
       "\n",
       "    selftext                                           all_text  \n",
       "0        NaN  Made k on QQQ puts in days will finally pay of...  \n",
       "1        NaN  There is a mining program giving unprecedented...  \n",
       "2  [removed]                         TUESDAY B B I G 🚀🚀🚀LFG 🚀🚀🚀  \n",
       "3        NaN           PTN almost at the double Botham 🥳🍾💵💵💵💵💵💵  \n",
       "4        NaN                           I love weeklies Fuck AMC  "
      ]
     },
     "execution_count": 3,
     "metadata": {},
     "output_type": "execute_result"
    }
   ],
   "source": [
    "text = text.dropna(subset=['all_text'])\n",
    "text.head()"
   ]
  },
  {
   "cell_type": "code",
   "execution_count": 4,
   "id": "6fb81580-b5cc-495c-b3c0-52dbef43f992",
   "metadata": {},
   "outputs": [
    {
     "name": "stdout",
     "output_type": "stream",
     "text": [
      "<class 'pandas.core.frame.DataFrame'>\n",
      "Int64Index: 18751 entries, 0 to 18790\n",
      "Data columns (total 4 columns):\n",
      " #   Column     Non-Null Count  Dtype \n",
      "---  ------     --------------  ----- \n",
      " 0   subreddit  18751 non-null  object\n",
      " 1   title      18751 non-null  object\n",
      " 2   selftext   13239 non-null  object\n",
      " 3   all_text   18751 non-null  object\n",
      "dtypes: object(4)\n",
      "memory usage: 732.5+ KB\n"
     ]
    }
   ],
   "source": [
    "text.info()"
   ]
  },
  {
   "cell_type": "markdown",
   "id": "740d42a7-2312-4680-895b-a840b22b1d7d",
   "metadata": {},
   "source": [
    "#### Preliminary Model using Count Vectorizer and Logistic Regression "
   ]
  },
  {
   "cell_type": "code",
   "execution_count": 36,
   "id": "64677c2f-708b-45ca-b9d7-c0c996ff15f0",
   "metadata": {},
   "outputs": [],
   "source": [
    "#Defining X and Y\n",
    "X= text['all_text']\n",
    "y= text['subreddit']\n",
    "\n",
    "#train test split data\n",
    "X_train, X_test, y_train, y_test = train_test_split(X, y, stratify=y, random_state=42)"
   ]
  },
  {
   "cell_type": "code",
   "execution_count": 37,
   "id": "463a2dbf-b16d-4a8a-b220-29952596df0c",
   "metadata": {},
   "outputs": [
    {
     "data": {
      "text/plain": [
       "stocks            0.500453\n",
       "wallstreetbets    0.499547\n",
       "Name: subreddit, dtype: float64"
      ]
     },
     "execution_count": 37,
     "metadata": {},
     "output_type": "execute_result"
    }
   ],
   "source": [
    "#Baseline Accuracy Test\n",
    "y.value_counts(normalize=True)"
   ]
  },
  {
   "cell_type": "code",
   "execution_count": 38,
   "id": "696339b3-d385-4fb8-bfaa-0c42e5a2680b",
   "metadata": {
    "tags": []
   },
   "outputs": [
    {
     "data": {
      "text/plain": [
       "CountVectorizer(min_df=3)"
      ]
     },
     "execution_count": 38,
     "metadata": {},
     "output_type": "execute_result"
    }
   ],
   "source": [
    "#Instantiate count vectorizer and fit on training data\n",
    "cv = CountVectorizer(\n",
    "    #max_df=.75,\n",
    "    min_df=3,\n",
    "    #max_features=\n",
    "    #stop_words='english'\n",
    ")\n",
    "cv.fit(X_train)"
   ]
  },
  {
   "cell_type": "code",
   "execution_count": 39,
   "id": "5285de8f-71c4-4066-967c-c47995daf839",
   "metadata": {},
   "outputs": [],
   "source": [
    "# Transform the corpus.\n",
    "X_train_cv = cv.transform(X_train)\n",
    "X_test_cv = cv.transform(X_test)"
   ]
  },
  {
   "cell_type": "code",
   "execution_count": 40,
   "id": "aeb14dfd-ba9c-490a-a7ca-bd76e3b4fd83",
   "metadata": {},
   "outputs": [
    {
     "data": {
      "text/html": [
       "<div>\n",
       "<style scoped>\n",
       "    .dataframe tbody tr th:only-of-type {\n",
       "        vertical-align: middle;\n",
       "    }\n",
       "\n",
       "    .dataframe tbody tr th {\n",
       "        vertical-align: top;\n",
       "    }\n",
       "\n",
       "    .dataframe thead th {\n",
       "        text-align: right;\n",
       "    }\n",
       "</style>\n",
       "<table border=\"1\" class=\"dataframe\">\n",
       "  <thead>\n",
       "    <tr style=\"text-align: right;\">\n",
       "      <th></th>\n",
       "      <th>aa</th>\n",
       "      <th>aaa</th>\n",
       "      <th>aaaand</th>\n",
       "      <th>aaii</th>\n",
       "      <th>aal</th>\n",
       "      <th>aapl</th>\n",
       "      <th>aaron</th>\n",
       "      <th>ab</th>\n",
       "      <th>abandoned</th>\n",
       "      <th>abbott</th>\n",
       "      <th>...</th>\n",
       "      <th>zone</th>\n",
       "      <th>zones</th>\n",
       "      <th>zoom</th>\n",
       "      <th>zoomed</th>\n",
       "      <th>zooming</th>\n",
       "      <th>zs</th>\n",
       "      <th>zscaler</th>\n",
       "      <th>zuck</th>\n",
       "      <th>zuckerberg</th>\n",
       "      <th>zynga</th>\n",
       "    </tr>\n",
       "  </thead>\n",
       "  <tbody>\n",
       "    <tr>\n",
       "      <th>0</th>\n",
       "      <td>0</td>\n",
       "      <td>0</td>\n",
       "      <td>0</td>\n",
       "      <td>0</td>\n",
       "      <td>0</td>\n",
       "      <td>0</td>\n",
       "      <td>0</td>\n",
       "      <td>0</td>\n",
       "      <td>0</td>\n",
       "      <td>0</td>\n",
       "      <td>...</td>\n",
       "      <td>0</td>\n",
       "      <td>0</td>\n",
       "      <td>0</td>\n",
       "      <td>0</td>\n",
       "      <td>0</td>\n",
       "      <td>0</td>\n",
       "      <td>0</td>\n",
       "      <td>0</td>\n",
       "      <td>0</td>\n",
       "      <td>0</td>\n",
       "    </tr>\n",
       "    <tr>\n",
       "      <th>1</th>\n",
       "      <td>0</td>\n",
       "      <td>0</td>\n",
       "      <td>0</td>\n",
       "      <td>0</td>\n",
       "      <td>0</td>\n",
       "      <td>0</td>\n",
       "      <td>0</td>\n",
       "      <td>0</td>\n",
       "      <td>0</td>\n",
       "      <td>0</td>\n",
       "      <td>...</td>\n",
       "      <td>0</td>\n",
       "      <td>0</td>\n",
       "      <td>0</td>\n",
       "      <td>0</td>\n",
       "      <td>0</td>\n",
       "      <td>0</td>\n",
       "      <td>0</td>\n",
       "      <td>0</td>\n",
       "      <td>0</td>\n",
       "      <td>0</td>\n",
       "    </tr>\n",
       "    <tr>\n",
       "      <th>2</th>\n",
       "      <td>0</td>\n",
       "      <td>0</td>\n",
       "      <td>0</td>\n",
       "      <td>0</td>\n",
       "      <td>0</td>\n",
       "      <td>0</td>\n",
       "      <td>0</td>\n",
       "      <td>0</td>\n",
       "      <td>0</td>\n",
       "      <td>0</td>\n",
       "      <td>...</td>\n",
       "      <td>0</td>\n",
       "      <td>0</td>\n",
       "      <td>1</td>\n",
       "      <td>0</td>\n",
       "      <td>0</td>\n",
       "      <td>0</td>\n",
       "      <td>0</td>\n",
       "      <td>0</td>\n",
       "      <td>0</td>\n",
       "      <td>0</td>\n",
       "    </tr>\n",
       "    <tr>\n",
       "      <th>3</th>\n",
       "      <td>0</td>\n",
       "      <td>0</td>\n",
       "      <td>0</td>\n",
       "      <td>0</td>\n",
       "      <td>0</td>\n",
       "      <td>0</td>\n",
       "      <td>0</td>\n",
       "      <td>0</td>\n",
       "      <td>0</td>\n",
       "      <td>0</td>\n",
       "      <td>...</td>\n",
       "      <td>0</td>\n",
       "      <td>0</td>\n",
       "      <td>0</td>\n",
       "      <td>0</td>\n",
       "      <td>0</td>\n",
       "      <td>0</td>\n",
       "      <td>0</td>\n",
       "      <td>0</td>\n",
       "      <td>0</td>\n",
       "      <td>0</td>\n",
       "    </tr>\n",
       "    <tr>\n",
       "      <th>4</th>\n",
       "      <td>0</td>\n",
       "      <td>0</td>\n",
       "      <td>0</td>\n",
       "      <td>0</td>\n",
       "      <td>0</td>\n",
       "      <td>0</td>\n",
       "      <td>0</td>\n",
       "      <td>0</td>\n",
       "      <td>0</td>\n",
       "      <td>0</td>\n",
       "      <td>...</td>\n",
       "      <td>0</td>\n",
       "      <td>0</td>\n",
       "      <td>0</td>\n",
       "      <td>0</td>\n",
       "      <td>0</td>\n",
       "      <td>0</td>\n",
       "      <td>0</td>\n",
       "      <td>0</td>\n",
       "      <td>0</td>\n",
       "      <td>0</td>\n",
       "    </tr>\n",
       "  </tbody>\n",
       "</table>\n",
       "<p>5 rows × 10351 columns</p>\n",
       "</div>"
      ],
      "text/plain": [
       "   aa  aaa  aaaand  aaii  aal  aapl  aaron  ab  abandoned  abbott  ...  zone  \\\n",
       "0   0    0       0     0    0     0      0   0          0       0  ...     0   \n",
       "1   0    0       0     0    0     0      0   0          0       0  ...     0   \n",
       "2   0    0       0     0    0     0      0   0          0       0  ...     0   \n",
       "3   0    0       0     0    0     0      0   0          0       0  ...     0   \n",
       "4   0    0       0     0    0     0      0   0          0       0  ...     0   \n",
       "\n",
       "   zones  zoom  zoomed  zooming  zs  zscaler  zuck  zuckerberg  zynga  \n",
       "0      0     0       0        0   0        0     0           0      0  \n",
       "1      0     0       0        0   0        0     0           0      0  \n",
       "2      0     1       0        0   0        0     0           0      0  \n",
       "3      0     0       0        0   0        0     0           0      0  \n",
       "4      0     0       0        0   0        0     0           0      0  \n",
       "\n",
       "[5 rows x 10351 columns]"
      ]
     },
     "execution_count": 40,
     "metadata": {},
     "output_type": "execute_result"
    }
   ],
   "source": [
    "#Put X_train_cv into a data frame\n",
    "cv_df = pd.DataFrame(X_train_cv.todense(), columns=cv.get_feature_names())\n",
    "cv_df.head()"
   ]
  },
  {
   "cell_type": "code",
   "execution_count": 41,
   "id": "6b7072e3-25f3-4595-8132-4c2ace18cdb4",
   "metadata": {},
   "outputs": [
    {
     "data": {
      "text/plain": [
       "(0.9006613098200953, 0.7502133105802048)"
      ]
     },
     "execution_count": 41,
     "metadata": {},
     "output_type": "execute_result"
    }
   ],
   "source": [
    "#Instantiate Logistic Regression\n",
    "lr = LogisticRegression(max_iter=1000)\n",
    "\n",
    "#Fit lr on train data\n",
    "lr.fit(X_train_cv, y_train)\n",
    "\n",
    "#Score model on traini and test data\n",
    "lr.score(X_train_cv, y_train), lr.score(X_test_cv, y_test)"
   ]
  },
  {
   "cell_type": "code",
   "execution_count": 42,
   "id": "ddcb1df7-e10f-454e-b8dc-a842947426f9",
   "metadata": {},
   "outputs": [
    {
     "data": {
      "image/png": "[encoded data removed]",
      "text/plain": [
       "<Figure size 432x288 with 1 Axes>"
      ]
     },
     "metadata": {
      "needs_background": "light"
     },
     "output_type": "display_data"
    }
   ],
   "source": [
    "cv_df.sum().sort_values(ascending=False).head(10).plot(kind='barh');"
   ]
  },
  {
   "cell_type": "markdown",
   "id": "0b3406c3-0374-4646-9c52-35bf9bb80172",
   "metadata": {},
   "source": [
    "#### Preliminary Model on ticker text using CV and LogReg"
   ]
  },
  {
   "cell_type": "code",
   "execution_count": 43,
   "id": "c9a5e404-6561-46d7-8612-1bd4ea733c44",
   "metadata": {},
   "outputs": [
    {
     "data": {
      "text/html": [
       "<div>\n",
       "<style scoped>\n",
       "    .dataframe tbody tr th:only-of-type {\n",
       "        vertical-align: middle;\n",
       "    }\n",
       "\n",
       "    .dataframe tbody tr th {\n",
       "        vertical-align: top;\n",
       "    }\n",
       "\n",
       "    .dataframe thead th {\n",
       "        text-align: right;\n",
       "    }\n",
       "</style>\n",
       "<table border=\"1\" class=\"dataframe\">\n",
       "  <thead>\n",
       "    <tr style=\"text-align: right;\">\n",
       "      <th></th>\n",
       "      <th>subreddit</th>\n",
       "      <th>ticker_text</th>\n",
       "      <th>ticker_counts</th>\n",
       "    </tr>\n",
       "  </thead>\n",
       "  <tbody>\n",
       "    <tr>\n",
       "      <th>0</th>\n",
       "      <td>wallstreetbets</td>\n",
       "      <td>QQQ</td>\n",
       "      <td>1</td>\n",
       "    </tr>\n",
       "    <tr>\n",
       "      <th>2</th>\n",
       "      <td>wallstreetbets</td>\n",
       "      <td>LFG</td>\n",
       "      <td>1</td>\n",
       "    </tr>\n",
       "    <tr>\n",
       "      <th>3</th>\n",
       "      <td>wallstreetbets</td>\n",
       "      <td>PTN</td>\n",
       "      <td>1</td>\n",
       "    </tr>\n",
       "    <tr>\n",
       "      <th>4</th>\n",
       "      <td>wallstreetbets</td>\n",
       "      <td>AMC</td>\n",
       "      <td>1</td>\n",
       "    </tr>\n",
       "    <tr>\n",
       "      <th>5</th>\n",
       "      <td>wallstreetbets</td>\n",
       "      <td>SPY</td>\n",
       "      <td>1</td>\n",
       "    </tr>\n",
       "  </tbody>\n",
       "</table>\n",
       "</div>"
      ],
      "text/plain": [
       "        subreddit ticker_text  ticker_counts\n",
       "0  wallstreetbets         QQQ              1\n",
       "2  wallstreetbets         LFG              1\n",
       "3  wallstreetbets         PTN              1\n",
       "4  wallstreetbets         AMC              1\n",
       "5  wallstreetbets         SPY              1"
      ]
     },
     "execution_count": 43,
     "metadata": {},
     "output_type": "execute_result"
    }
   ],
   "source": [
    "tickers = tickers.dropna(subset=['ticker_text'])\n",
    "tickers.head()"
   ]
  },
  {
   "cell_type": "code",
   "execution_count": 44,
   "id": "296d651b-42c9-467b-ad6c-bfc83a64f1df",
   "metadata": {},
   "outputs": [],
   "source": [
    "#Defining X and Y\n",
    "X= tickers['ticker_text']\n",
    "y= tickers['subreddit']\n",
    "\n",
    "#train test split data\n",
    "X_train, X_test, y_train, y_test = train_test_split(X, y, stratify=y, random_state=42)"
   ]
  },
  {
   "cell_type": "code",
   "execution_count": 45,
   "id": "f6ccd1bb-9c2f-44cf-a4a6-482ba6c5ab0c",
   "metadata": {},
   "outputs": [
    {
     "data": {
      "text/plain": [
       "CountVectorizer()"
      ]
     },
     "execution_count": 45,
     "metadata": {},
     "output_type": "execute_result"
    }
   ],
   "source": [
    "#Instantiate count vectorizer and fit on training data\n",
    "cv = CountVectorizer(\n",
    "    #max_df=.75,\n",
    "    #min_df=3\n",
    "    #max_features=\n",
    ")\n",
    "cv.fit(X_train)"
   ]
  },
  {
   "cell_type": "code",
   "execution_count": 46,
   "id": "d8d63ec6-8fa0-4fe0-9de6-8388ce356139",
   "metadata": {},
   "outputs": [],
   "source": [
    "# Transform the corpus.\n",
    "X_train_cv = cv.transform(X_train)\n",
    "X_test_cv = cv.transform(X_test)"
   ]
  },
  {
   "cell_type": "code",
   "execution_count": 47,
   "id": "b745dc7b-ff8c-47a6-af7d-923d85941aec",
   "metadata": {},
   "outputs": [
    {
     "data": {
      "text/html": [
       "<div>\n",
       "<style scoped>\n",
       "    .dataframe tbody tr th:only-of-type {\n",
       "        vertical-align: middle;\n",
       "    }\n",
       "\n",
       "    .dataframe tbody tr th {\n",
       "        vertical-align: top;\n",
       "    }\n",
       "\n",
       "    .dataframe thead th {\n",
       "        text-align: right;\n",
       "    }\n",
       "</style>\n",
       "<table border=\"1\" class=\"dataframe\">\n",
       "  <thead>\n",
       "    <tr style=\"text-align: right;\">\n",
       "      <th></th>\n",
       "      <th>aa</th>\n",
       "      <th>aaa</th>\n",
       "      <th>aab</th>\n",
       "      <th>aabb</th>\n",
       "      <th>aabvf</th>\n",
       "      <th>aag</th>\n",
       "      <th>aaii</th>\n",
       "      <th>aal</th>\n",
       "      <th>aamco</th>\n",
       "      <th>aap</th>\n",
       "      <th>...</th>\n",
       "      <th>zm</th>\n",
       "      <th>znga</th>\n",
       "      <th>zngn</th>\n",
       "      <th>znog</th>\n",
       "      <th>zom</th>\n",
       "      <th>zoom</th>\n",
       "      <th>zq</th>\n",
       "      <th>zs</th>\n",
       "      <th>zynga</th>\n",
       "      <th>zyxi</th>\n",
       "    </tr>\n",
       "  </thead>\n",
       "  <tbody>\n",
       "    <tr>\n",
       "      <th>0</th>\n",
       "      <td>0</td>\n",
       "      <td>0</td>\n",
       "      <td>0</td>\n",
       "      <td>0</td>\n",
       "      <td>0</td>\n",
       "      <td>0</td>\n",
       "      <td>0</td>\n",
       "      <td>0</td>\n",
       "      <td>0</td>\n",
       "      <td>0</td>\n",
       "      <td>...</td>\n",
       "      <td>0</td>\n",
       "      <td>0</td>\n",
       "      <td>0</td>\n",
       "      <td>0</td>\n",
       "      <td>0</td>\n",
       "      <td>0</td>\n",
       "      <td>0</td>\n",
       "      <td>0</td>\n",
       "      <td>0</td>\n",
       "      <td>0</td>\n",
       "    </tr>\n",
       "    <tr>\n",
       "      <th>1</th>\n",
       "      <td>0</td>\n",
       "      <td>0</td>\n",
       "      <td>0</td>\n",
       "      <td>0</td>\n",
       "      <td>0</td>\n",
       "      <td>0</td>\n",
       "      <td>0</td>\n",
       "      <td>0</td>\n",
       "      <td>0</td>\n",
       "      <td>0</td>\n",
       "      <td>...</td>\n",
       "      <td>0</td>\n",
       "      <td>0</td>\n",
       "      <td>0</td>\n",
       "      <td>0</td>\n",
       "      <td>0</td>\n",
       "      <td>1</td>\n",
       "      <td>0</td>\n",
       "      <td>0</td>\n",
       "      <td>0</td>\n",
       "      <td>0</td>\n",
       "    </tr>\n",
       "    <tr>\n",
       "      <th>2</th>\n",
       "      <td>0</td>\n",
       "      <td>0</td>\n",
       "      <td>0</td>\n",
       "      <td>0</td>\n",
       "      <td>0</td>\n",
       "      <td>0</td>\n",
       "      <td>0</td>\n",
       "      <td>0</td>\n",
       "      <td>0</td>\n",
       "      <td>0</td>\n",
       "      <td>...</td>\n",
       "      <td>0</td>\n",
       "      <td>0</td>\n",
       "      <td>0</td>\n",
       "      <td>0</td>\n",
       "      <td>0</td>\n",
       "      <td>0</td>\n",
       "      <td>0</td>\n",
       "      <td>0</td>\n",
       "      <td>0</td>\n",
       "      <td>0</td>\n",
       "    </tr>\n",
       "    <tr>\n",
       "      <th>3</th>\n",
       "      <td>0</td>\n",
       "      <td>0</td>\n",
       "      <td>0</td>\n",
       "      <td>0</td>\n",
       "      <td>0</td>\n",
       "      <td>0</td>\n",
       "      <td>0</td>\n",
       "      <td>0</td>\n",
       "      <td>0</td>\n",
       "      <td>0</td>\n",
       "      <td>...</td>\n",
       "      <td>0</td>\n",
       "      <td>0</td>\n",
       "      <td>0</td>\n",
       "      <td>0</td>\n",
       "      <td>0</td>\n",
       "      <td>0</td>\n",
       "      <td>0</td>\n",
       "      <td>0</td>\n",
       "      <td>0</td>\n",
       "      <td>0</td>\n",
       "    </tr>\n",
       "    <tr>\n",
       "      <th>4</th>\n",
       "      <td>0</td>\n",
       "      <td>0</td>\n",
       "      <td>0</td>\n",
       "      <td>0</td>\n",
       "      <td>0</td>\n",
       "      <td>0</td>\n",
       "      <td>0</td>\n",
       "      <td>0</td>\n",
       "      <td>0</td>\n",
       "      <td>0</td>\n",
       "      <td>...</td>\n",
       "      <td>0</td>\n",
       "      <td>0</td>\n",
       "      <td>0</td>\n",
       "      <td>0</td>\n",
       "      <td>0</td>\n",
       "      <td>0</td>\n",
       "      <td>0</td>\n",
       "      <td>0</td>\n",
       "      <td>0</td>\n",
       "      <td>0</td>\n",
       "    </tr>\n",
       "  </tbody>\n",
       "</table>\n",
       "<p>5 rows × 3882 columns</p>\n",
       "</div>"
      ],
      "text/plain": [
       "   aa  aaa  aab  aabb  aabvf  aag  aaii  aal  aamco  aap  ...  zm  znga  zngn  \\\n",
       "0   0    0    0     0      0    0     0    0      0    0  ...   0     0     0   \n",
       "1   0    0    0     0      0    0     0    0      0    0  ...   0     0     0   \n",
       "2   0    0    0     0      0    0     0    0      0    0  ...   0     0     0   \n",
       "3   0    0    0     0      0    0     0    0      0    0  ...   0     0     0   \n",
       "4   0    0    0     0      0    0     0    0      0    0  ...   0     0     0   \n",
       "\n",
       "   znog  zom  zoom  zq  zs  zynga  zyxi  \n",
       "0     0    0     0   0   0      0     0  \n",
       "1     0    0     1   0   0      0     0  \n",
       "2     0    0     0   0   0      0     0  \n",
       "3     0    0     0   0   0      0     0  \n",
       "4     0    0     0   0   0      0     0  \n",
       "\n",
       "[5 rows x 3882 columns]"
      ]
     },
     "execution_count": 47,
     "metadata": {},
     "output_type": "execute_result"
    }
   ],
   "source": [
    "#Put X_train_cv into a data frame\n",
    "ticker_cv_df = pd.DataFrame(X_train_cv.todense(), columns=cv.get_feature_names())\n",
    "ticker_cv_df.head()"
   ]
  },
  {
   "cell_type": "code",
   "execution_count": 48,
   "id": "c99daeea-9d92-45cc-92a1-9d9563be1d0c",
   "metadata": {},
   "outputs": [
    {
     "data": {
      "text/plain": [
       "(0.845428388746803, 0.714765100671141)"
      ]
     },
     "execution_count": 48,
     "metadata": {},
     "output_type": "execute_result"
    }
   ],
   "source": [
    "#Instantiate Logistic Regression\n",
    "lr = LogisticRegression()#max_iter=1000)\n",
    "\n",
    "#Fit lr on train data\n",
    "lr.fit(X_train_cv, y_train)\n",
    "\n",
    "#Score model on traini and test data\n",
    "lr.score(X_train_cv, y_train), lr.score(X_test_cv, y_test)"
   ]
  },
  {
   "cell_type": "code",
   "execution_count": 212,
   "id": "425a14ec-d66a-4986-9b85-9c7abcf95da5",
   "metadata": {},
   "outputs": [
    {
     "data": {
      "text/plain": [
       "Text(0.5, 1.0, 'Top 20 Tickers By Count')"
      ]
     },
     "execution_count": 212,
     "metadata": {},
     "output_type": "execute_result"
    },
    {
     "data": {
      "image/png": "[encoded data removed]",
      "text/plain": [
       "<Figure size 720x720 with 1 Axes>"
      ]
     },
     "metadata": {},
     "output_type": "display_data"
    }
   ],
   "source": [
    "sns.set(style='whitegrid')\n",
    "plt.figure(figsize=(10,10))\n",
    "ticker_cv_df.sum().sort_values(ascending=False).head(20).plot(kind='barh', cmap='Dark2');\n",
    "plt.title(\"Top 20 Tickers By Count\")"
   ]
  },
  {
   "cell_type": "markdown",
   "id": "1facd037-609c-4965-b033-214058cd7028",
   "metadata": {},
   "source": [
    "#### Setting up pipe to iterate models and grid search."
   ]
  },
  {
   "cell_type": "code",
   "execution_count": 74,
   "id": "da0e799b-74b0-4638-964b-417edc872fa9",
   "metadata": {},
   "outputs": [],
   "source": [
    "#Defining X and Y\n",
    "X= text['all_text']\n",
    "y= text['subreddit']\n",
    "\n",
    "#train test split data\n",
    "X_train, X_test, y_train, y_test = train_test_split(X, y, stratify=y, random_state=42)"
   ]
  },
  {
   "cell_type": "code",
   "execution_count": 75,
   "id": "6757bf97-4da4-4da3-b52a-c04de038f409",
   "metadata": {},
   "outputs": [],
   "source": [
    "#CV, MNB"
   ]
  },
  {
   "cell_type": "code",
   "execution_count": 76,
   "id": "e67cf819-a285-4c3d-a06e-78f1cb7a6d73",
   "metadata": {},
   "outputs": [],
   "source": [
    "pipe = Pipeline([\n",
    "    ('cv', CountVectorizer()),\n",
    "    ('mnb', MultinomialNB()),\n",
    "])"
   ]
  },
  {
   "cell_type": "code",
   "execution_count": 77,
   "id": "05df8ff3-4e06-4b1d-8dfe-5350eb57bcea",
   "metadata": {},
   "outputs": [],
   "source": [
    "params = {\n",
    "    'cv__stop_words': [None, 'english'],\n",
    "    'cv__min_df': [1,2,3],\n",
    "    'cv__max_df': [1.0, 0.95]\n",
    "}\n",
    "\n",
    "gs = GridSearchCV(\n",
    "    pipe,\n",
    "    param_grid=params,\n",
    "    cv=5\n",
    ")"
   ]
  },
  {
   "cell_type": "code",
   "execution_count": 78,
   "id": "11139b5b-5e14-4ec4-a73f-c12757667644",
   "metadata": {},
   "outputs": [
    {
     "data": {
      "text/plain": [
       "GridSearchCV(cv=5,\n",
       "             estimator=Pipeline(steps=[('cv', CountVectorizer()),\n",
       "                                       ('mnb', MultinomialNB())]),\n",
       "             param_grid={'cv__max_df': [1.0, 0.95], 'cv__min_df': [1, 2, 3],\n",
       "                         'cv__stop_words': [None, 'english']})"
      ]
     },
     "execution_count": 78,
     "metadata": {},
     "output_type": "execute_result"
    }
   ],
   "source": [
    "gs.fit(X_train, y_train)"
   ]
  },
  {
   "cell_type": "code",
   "execution_count": 79,
   "id": "632001cd-01c4-495b-835f-f6023affa0dd",
   "metadata": {},
   "outputs": [
    {
     "data": {
      "text/plain": [
       "0.7506224150320171"
      ]
     },
     "execution_count": 79,
     "metadata": {},
     "output_type": "execute_result"
    }
   ],
   "source": [
    "gs.best_score_"
   ]
  },
  {
   "cell_type": "code",
   "execution_count": 80,
   "id": "7000c081-2bcd-45cb-9bb1-3f4101b68d2f",
   "metadata": {},
   "outputs": [
    {
     "data": {
      "text/plain": [
       "(0.8294816184313447, 0.7482935153583617)"
      ]
     },
     "execution_count": 80,
     "metadata": {},
     "output_type": "execute_result"
    }
   ],
   "source": [
    "gs.score(X_train, y_train), gs.score(X_test, y_test)"
   ]
  },
  {
   "cell_type": "code",
   "execution_count": 81,
   "id": "f58f4d5e-7985-4d2c-9927-6c3a5ad84e88",
   "metadata": {},
   "outputs": [
    {
     "data": {
      "text/plain": [
       "{'cv__max_df': 1.0, 'cv__min_df': 1, 'cv__stop_words': None}"
      ]
     },
     "execution_count": 81,
     "metadata": {},
     "output_type": "execute_result"
    }
   ],
   "source": [
    "gs.best_params_"
   ]
  },
  {
   "cell_type": "code",
   "execution_count": 82,
   "id": "1c77018c-76a2-4d3e-950f-ba3cf505d407",
   "metadata": {},
   "outputs": [],
   "source": [
    "#Tfidf, MNB"
   ]
  },
  {
   "cell_type": "code",
   "execution_count": 83,
   "id": "6e39f3f2-81e6-400e-b8e9-bd6074ca3188",
   "metadata": {},
   "outputs": [],
   "source": [
    "pipe2= Pipeline([\n",
    "    ('tf', TfidfVectorizer()),\n",
    "    ('mnb', MultinomialNB()),\n",
    "])"
   ]
  },
  {
   "cell_type": "code",
   "execution_count": 84,
   "id": "8ed8fb02-ee09-472e-83db-f5d382639db6",
   "metadata": {},
   "outputs": [],
   "source": [
    "params = {\n",
    "    'tf__stop_words': [None, 'english'],\n",
    "    'tf__min_df': [1,2,3],\n",
    "    'tf__max_df': [1.0, 0.95]\n",
    "}\n",
    "\n",
    "gs2 = GridSearchCV(\n",
    "    pipe2,\n",
    "    param_grid=params,\n",
    "    cv=5\n",
    ")"
   ]
  },
  {
   "cell_type": "code",
   "execution_count": 85,
   "id": "a27e4f44-e84c-4a98-b4d6-d8e41c2d5f40",
   "metadata": {
    "tags": []
   },
   "outputs": [
    {
     "data": {
      "text/plain": [
       "GridSearchCV(cv=5,\n",
       "             estimator=Pipeline(steps=[('tf', TfidfVectorizer()),\n",
       "                                       ('mnb', MultinomialNB())]),\n",
       "             param_grid={'tf__max_df': [1.0, 0.95], 'tf__min_df': [1, 2, 3],\n",
       "                         'tf__stop_words': [None, 'english']})"
      ]
     },
     "execution_count": 85,
     "metadata": {},
     "output_type": "execute_result"
    }
   ],
   "source": [
    "gs2.fit(X_train, y_train)"
   ]
  },
  {
   "cell_type": "code",
   "execution_count": 86,
   "id": "cbfacb77-3b63-4926-b17d-4db99a7ba8c8",
   "metadata": {},
   "outputs": [
    {
     "data": {
      "text/plain": [
       "0.7700349525344381"
      ]
     },
     "execution_count": 86,
     "metadata": {},
     "output_type": "execute_result"
    }
   ],
   "source": [
    "gs2.best_score_"
   ]
  },
  {
   "cell_type": "code",
   "execution_count": 87,
   "id": "d8e53c7a-aa7a-4aa3-be0d-ec2f359dc5df",
   "metadata": {},
   "outputs": [
    {
     "data": {
      "text/plain": [
       "(0.8360236080494916, 0.7591723549488054)"
      ]
     },
     "execution_count": 87,
     "metadata": {},
     "output_type": "execute_result"
    }
   ],
   "source": [
    "gs2.score(X_train, y_train), gs2.score(X_test, y_test)"
   ]
  },
  {
   "cell_type": "code",
   "execution_count": 88,
   "id": "f8eb378c-a3c2-4bf1-af55-3745cb7ca9c7",
   "metadata": {},
   "outputs": [
    {
     "data": {
      "text/plain": [
       "{'tf__max_df': 1.0, 'tf__min_df': 3, 'tf__stop_words': None}"
      ]
     },
     "execution_count": 88,
     "metadata": {},
     "output_type": "execute_result"
    }
   ],
   "source": [
    "gs2.best_params_"
   ]
  },
  {
   "cell_type": "markdown",
   "id": "21f33fc0-d85f-421f-b23c-2970c459db0f",
   "metadata": {},
   "source": [
    "Model Performance is almost the same between CV vs TFIDF and LogReg vs multinomialNB but TFIDF is ever so slightly better and perhaps faster running so I will proceed to model with decision trees, ensemble methods, Adaboosting and SVM with the TFIDF vectorizer. "
   ]
  },
  {
   "cell_type": "code",
   "execution_count": null,
   "id": "a5ec1c4c-522d-4c01-8b87-92fb6953bd08",
   "metadata": {},
   "outputs": [],
   "source": [
    "#Decision Tree Classifier"
   ]
  },
  {
   "cell_type": "code",
   "execution_count": 140,
   "id": "395d01cb-a1bc-4a88-9976-f1a5299c2622",
   "metadata": {},
   "outputs": [],
   "source": [
    "#Defining X and Y\n",
    "X= text['all_text']\n",
    "y= text['subreddit']\n",
    "\n",
    "#train test split data\n",
    "X_train, X_test, y_train, y_test = train_test_split(X, y, stratify=y, random_state=42)\n",
    "\n",
    "#Instantiate and tfidfvectorizer \n",
    "tf = TfidfVectorizer(min_df=3)\n",
    "tf.fit(X_train)\n",
    "\n",
    "#transform data splits\n",
    "X_train_tf = tf.transform(X_train)\n",
    "X_test_tf = tf.transform(X_test)"
   ]
  },
  {
   "cell_type": "code",
   "execution_count": 104,
   "id": "4ea577d4-4986-43df-9027-fce447f3966a",
   "metadata": {},
   "outputs": [],
   "source": [
    "dt = DecisionTreeClassifier()"
   ]
  },
  {
   "cell_type": "code",
   "execution_count": 105,
   "id": "d07b2f07-225f-48e9-bead-503f867dd5da",
   "metadata": {},
   "outputs": [],
   "source": [
    "params={\n",
    "    'max_depth': [2,3,5,7],\n",
    "    'min_samples_split': [5,10,15,20],\n",
    "    'min_samples_leaf': [2,3,4,5,6],\n",
    "    'ccp_alpha': [0,0.001,0.01,0.1,1,10]\n",
    "}\n",
    "\n",
    "gs3 = GridSearchCV(\n",
    "    dt,\n",
    "    param_grid=params,\n",
    "    cv=5,\n",
    "    verbose=1\n",
    ")"
   ]
  },
  {
   "cell_type": "code",
   "execution_count": 107,
   "id": "9560a0e8-2428-4e9f-97ae-af0e870eb5db",
   "metadata": {},
   "outputs": [
    {
     "name": "stdout",
     "output_type": "stream",
     "text": [
      "Fitting 5 folds for each of 480 candidates, totalling 2400 fits\n"
     ]
    },
    {
     "data": {
      "text/plain": [
       "GridSearchCV(cv=5, estimator=DecisionTreeClassifier(),\n",
       "             param_grid={'ccp_alpha': [0, 0.001, 0.01, 0.1, 1, 10],\n",
       "                         'max_depth': [2, 3, 5, 7],\n",
       "                         'min_samples_leaf': [2, 3, 4, 5, 6],\n",
       "                         'min_samples_split': [5, 10, 15, 20]},\n",
       "             verbose=1)"
      ]
     },
     "execution_count": 107,
     "metadata": {},
     "output_type": "execute_result"
    }
   ],
   "source": [
    "gs3.fit(X_train_tf, y_train)"
   ]
  },
  {
   "cell_type": "code",
   "execution_count": 109,
   "id": "9536e4dc-3a18-455e-be70-9efac2ec7ded",
   "metadata": {
    "tags": []
   },
   "outputs": [
    {
     "data": {
      "text/plain": [
       "(0.6797980516248311, 0.6550767918088737)"
      ]
     },
     "execution_count": 109,
     "metadata": {},
     "output_type": "execute_result"
    }
   ],
   "source": [
    "gs3.score(X_train_tf, y_train), gs3.score(X_test_tf, y_test)"
   ]
  },
  {
   "cell_type": "code",
   "execution_count": 110,
   "id": "d454e9cf-3ae0-40c4-aa49-0114e58252a9",
   "metadata": {},
   "outputs": [
    {
     "data": {
      "text/plain": [
       "DecisionTreeClassifier(ccp_alpha=0, max_depth=7, min_samples_leaf=5,\n",
       "                       min_samples_split=10)"
      ]
     },
     "execution_count": 110,
     "metadata": {},
     "output_type": "execute_result"
    }
   ],
   "source": [
    "gs3.best_estimator_"
   ]
  },
  {
   "cell_type": "code",
   "execution_count": 111,
   "id": "8fb2a864-1769-4e7a-b082-5500544cd42a",
   "metadata": {},
   "outputs": [
    {
     "data": {
      "text/plain": [
       "0.6625194496796271"
      ]
     },
     "execution_count": 111,
     "metadata": {},
     "output_type": "execute_result"
    }
   ],
   "source": [
    "gs3.best_score_"
   ]
  },
  {
   "cell_type": "code",
   "execution_count": 112,
   "id": "c82965e4-6619-4d4e-87f8-31fb77461032",
   "metadata": {},
   "outputs": [],
   "source": [
    "#AdaBoostClassifier"
   ]
  },
  {
   "cell_type": "code",
   "execution_count": 145,
   "id": "055a15a2-6e70-414a-a3c5-e1fce3a37f21",
   "metadata": {},
   "outputs": [
    {
     "data": {
      "text/plain": [
       "(0.7284363222640973, 0.7160836177474402)"
      ]
     },
     "execution_count": 145,
     "metadata": {},
     "output_type": "execute_result"
    }
   ],
   "source": [
    "abc = AdaBoostClassifier(random_state=42, n_estimators=50)\n",
    "abc.fit(X_train_tf, y_train)\n",
    "abc.score(X_train_tf, y_train), abc.score(X_test_tf, y_test)"
   ]
  },
  {
   "cell_type": "code",
   "execution_count": 146,
   "id": "b5680933-cb4e-47e1-bcab-17ace1eb2d0f",
   "metadata": {},
   "outputs": [
    {
     "data": {
      "text/plain": [
       "10351"
      ]
     },
     "execution_count": 146,
     "metadata": {},
     "output_type": "execute_result"
    }
   ],
   "source": [
    "feature_names = tf.get_feature_names()\n",
    "len(feature_names)"
   ]
  },
  {
   "cell_type": "code",
   "execution_count": 147,
   "id": "4d4fca26-35cb-4537-ad12-bb0105bbabb9",
   "metadata": {},
   "outputs": [
    {
     "data": {
      "text/plain": [
       "47"
      ]
     },
     "execution_count": 147,
     "metadata": {},
     "output_type": "execute_result"
    }
   ],
   "source": [
    "sum(abc.feature_importances_ != 0)"
   ]
  },
  {
   "cell_type": "code",
   "execution_count": 155,
   "id": "7e94c2a8-ea8e-4643-b66f-50452e620374",
   "metadata": {
    "tags": []
   },
   "outputs": [
    {
     "data": {
      "text/html": [
       "<div>\n",
       "<style scoped>\n",
       "    .dataframe tbody tr th:only-of-type {\n",
       "        vertical-align: middle;\n",
       "    }\n",
       "\n",
       "    .dataframe tbody tr th {\n",
       "        vertical-align: top;\n",
       "    }\n",
       "\n",
       "    .dataframe thead th {\n",
       "        text-align: right;\n",
       "    }\n",
       "</style>\n",
       "<table border=\"1\" class=\"dataframe\">\n",
       "  <thead>\n",
       "    <tr style=\"text-align: right;\">\n",
       "      <th></th>\n",
       "      <th>importance</th>\n",
       "    </tr>\n",
       "  </thead>\n",
       "  <tbody>\n",
       "    <tr>\n",
       "      <th>investing</th>\n",
       "      <td>0.06</td>\n",
       "    </tr>\n",
       "    <tr>\n",
       "      <th>stock</th>\n",
       "      <td>0.04</td>\n",
       "    </tr>\n",
       "    <tr>\n",
       "      <th>advice</th>\n",
       "      <td>0.02</td>\n",
       "    </tr>\n",
       "    <tr>\n",
       "      <th>question</th>\n",
       "      <td>0.02</td>\n",
       "    </tr>\n",
       "    <tr>\n",
       "      <th>retards</th>\n",
       "      <td>0.02</td>\n",
       "    </tr>\n",
       "    <tr>\n",
       "      <th>rise</th>\n",
       "      <td>0.02</td>\n",
       "    </tr>\n",
       "    <tr>\n",
       "      <th>short</th>\n",
       "      <td>0.02</td>\n",
       "    </tr>\n",
       "    <tr>\n",
       "      <th>shorts</th>\n",
       "      <td>0.02</td>\n",
       "    </tr>\n",
       "    <tr>\n",
       "      <th>stocks</th>\n",
       "      <td>0.02</td>\n",
       "    </tr>\n",
       "    <tr>\n",
       "      <th>tax</th>\n",
       "      <td>0.02</td>\n",
       "    </tr>\n",
       "    <tr>\n",
       "      <th>term</th>\n",
       "      <td>0.02</td>\n",
       "    </tr>\n",
       "    <tr>\n",
       "      <th>thanks</th>\n",
       "      <td>0.02</td>\n",
       "    </tr>\n",
       "    <tr>\n",
       "      <th>this</th>\n",
       "      <td>0.02</td>\n",
       "    </tr>\n",
       "    <tr>\n",
       "      <th>thoughts</th>\n",
       "      <td>0.02</td>\n",
       "    </tr>\n",
       "    <tr>\n",
       "      <th>voo</th>\n",
       "      <td>0.02</td>\n",
       "    </tr>\n",
       "    <tr>\n",
       "      <th>vs</th>\n",
       "      <td>0.02</td>\n",
       "    </tr>\n",
       "    <tr>\n",
       "      <th>wash</th>\n",
       "      <td>0.02</td>\n",
       "    </tr>\n",
       "    <tr>\n",
       "      <th>we</th>\n",
       "      <td>0.02</td>\n",
       "    </tr>\n",
       "    <tr>\n",
       "      <th>what</th>\n",
       "      <td>0.02</td>\n",
       "    </tr>\n",
       "    <tr>\n",
       "      <th>wsb</th>\n",
       "      <td>0.02</td>\n",
       "    </tr>\n",
       "  </tbody>\n",
       "</table>\n",
       "</div>"
      ],
      "text/plain": [
       "           importance\n",
       "investing        0.06\n",
       "stock            0.04\n",
       "advice           0.02\n",
       "question         0.02\n",
       "retards          0.02\n",
       "rise             0.02\n",
       "short            0.02\n",
       "shorts           0.02\n",
       "stocks           0.02\n",
       "tax              0.02\n",
       "term             0.02\n",
       "thanks           0.02\n",
       "this             0.02\n",
       "thoughts         0.02\n",
       "voo              0.02\n",
       "vs               0.02\n",
       "wash             0.02\n",
       "we               0.02\n",
       "what             0.02\n",
       "wsb              0.02"
      ]
     },
     "execution_count": 155,
     "metadata": {},
     "output_type": "execute_result"
    }
   ],
   "source": [
    "feature_df = pd.DataFrame(abc.feature_importances_, index=feature_names, columns=['importance'])\n",
    "feature_df.loc[feature_df['importance']!=0].sort_values(by='importance', ascending=False).head(20)"
   ]
  },
  {
   "cell_type": "code",
   "execution_count": 149,
   "id": "fc58d7c5-de82-46dd-b40b-74e677db64f9",
   "metadata": {},
   "outputs": [],
   "source": [
    "params={\n",
    "    'random_state': [None, 42],\n",
    "    'n_estimators': [25,50,100,150,200],\n",
    "    'learning_rate': [0.5, 1.0, 1.5, 2.0]\n",
    "}\n",
    "\n",
    "gs4 = GridSearchCV(\n",
    "    abc,\n",
    "    param_grid=params,\n",
    "    cv=5,\n",
    "    verbose=1\n",
    ")"
   ]
  },
  {
   "cell_type": "code",
   "execution_count": 151,
   "id": "a5fa7f2d-cf92-498f-8dcb-5ec599c5801c",
   "metadata": {},
   "outputs": [
    {
     "name": "stdout",
     "output_type": "stream",
     "text": [
      "Fitting 5 folds for each of 40 candidates, totalling 200 fits\n"
     ]
    },
    {
     "data": {
      "text/plain": [
       "GridSearchCV(cv=5, estimator=AdaBoostClassifier(random_state=42),\n",
       "             param_grid={'learning_rate': [0.5, 1.0, 1.5, 2.0],\n",
       "                         'n_estimators': [25, 50, 100, 150, 200],\n",
       "                         'random_state': [None, 42]},\n",
       "             verbose=1)"
      ]
     },
     "execution_count": 151,
     "metadata": {},
     "output_type": "execute_result"
    }
   ],
   "source": [
    "gs4.fit(X_train_tf, y_train)"
   ]
  },
  {
   "cell_type": "code",
   "execution_count": 152,
   "id": "9346ef05-1a3e-4feb-90a2-9f5474d3fea5",
   "metadata": {},
   "outputs": [
    {
     "data": {
      "text/plain": [
       "(0.7794922847187655, 0.7431740614334471)"
      ]
     },
     "execution_count": 152,
     "metadata": {},
     "output_type": "execute_result"
    }
   ],
   "source": [
    "gs4.score(X_train_tf, y_train), gs4.score(X_test_tf, y_test)"
   ]
  },
  {
   "cell_type": "code",
   "execution_count": 153,
   "id": "500c20d1-7563-43d2-a74e-c5ca6482edc3",
   "metadata": {},
   "outputs": [
    {
     "data": {
      "text/plain": [
       "AdaBoostClassifier(learning_rate=0.5, n_estimators=200)"
      ]
     },
     "execution_count": 153,
     "metadata": {},
     "output_type": "execute_result"
    }
   ],
   "source": [
    "gs4.best_estimator_"
   ]
  },
  {
   "cell_type": "code",
   "execution_count": 159,
   "id": "ed200238-1390-4d7a-b6c3-7fc7b3dbc3a7",
   "metadata": {},
   "outputs": [
    {
     "data": {
      "text/plain": [
       "(0.7794922847187655, 0.7431740614334471)"
      ]
     },
     "execution_count": 159,
     "metadata": {},
     "output_type": "execute_result"
    }
   ],
   "source": [
    "abc2 = AdaBoostClassifier(learning_rate=0.5, n_estimators=200)\n",
    "abc2.fit(X_train_tf, y_train)\n",
    "abc2.score(X_train_tf, y_train), abc2.score(X_test_tf, y_test)"
   ]
  },
  {
   "cell_type": "code",
   "execution_count": 163,
   "id": "7a8ae0b4-a010-4c96-b8af-5dee92e6e439",
   "metadata": {},
   "outputs": [
    {
     "data": {
      "text/plain": [
       "array([0., 0., 0., ..., 0., 0., 0.])"
      ]
     },
     "execution_count": 163,
     "metadata": {},
     "output_type": "execute_result"
    }
   ],
   "source": [
    "abc2.feature_importances_"
   ]
  },
  {
   "cell_type": "code",
   "execution_count": 164,
   "id": "7ec7ec99-31bb-43b9-a2a6-3a7d5cfa5f7c",
   "metadata": {},
   "outputs": [
    {
     "data": {
      "text/html": [
       "<div>\n",
       "<style scoped>\n",
       "    .dataframe tbody tr th:only-of-type {\n",
       "        vertical-align: middle;\n",
       "    }\n",
       "\n",
       "    .dataframe tbody tr th {\n",
       "        vertical-align: top;\n",
       "    }\n",
       "\n",
       "    .dataframe thead th {\n",
       "        text-align: right;\n",
       "    }\n",
       "</style>\n",
       "<table border=\"1\" class=\"dataframe\">\n",
       "  <thead>\n",
       "    <tr style=\"text-align: right;\">\n",
       "      <th></th>\n",
       "      <th>importance</th>\n",
       "    </tr>\n",
       "  </thead>\n",
       "  <tbody>\n",
       "    <tr>\n",
       "      <th>stock</th>\n",
       "      <td>0.020</td>\n",
       "    </tr>\n",
       "    <tr>\n",
       "      <th>xb</th>\n",
       "      <td>0.015</td>\n",
       "    </tr>\n",
       "    <tr>\n",
       "      <th>stocks</th>\n",
       "      <td>0.015</td>\n",
       "    </tr>\n",
       "    <tr>\n",
       "      <th>investing</th>\n",
       "      <td>0.015</td>\n",
       "    </tr>\n",
       "    <tr>\n",
       "      <th>etf</th>\n",
       "      <td>0.010</td>\n",
       "    </tr>\n",
       "    <tr>\n",
       "      <th>etfs</th>\n",
       "      <td>0.010</td>\n",
       "    </tr>\n",
       "    <tr>\n",
       "      <th>short</th>\n",
       "      <td>0.010</td>\n",
       "    </tr>\n",
       "    <tr>\n",
       "      <th>tax</th>\n",
       "      <td>0.010</td>\n",
       "    </tr>\n",
       "    <tr>\n",
       "      <th>vs</th>\n",
       "      <td>0.010</td>\n",
       "    </tr>\n",
       "    <tr>\n",
       "      <th>gme</th>\n",
       "      <td>0.010</td>\n",
       "    </tr>\n",
       "    <tr>\n",
       "      <th>term</th>\n",
       "      <td>0.010</td>\n",
       "    </tr>\n",
       "    <tr>\n",
       "      <th>growth</th>\n",
       "      <td>0.010</td>\n",
       "    </tr>\n",
       "    <tr>\n",
       "      <th>company</th>\n",
       "      <td>0.010</td>\n",
       "    </tr>\n",
       "    <tr>\n",
       "      <th>question</th>\n",
       "      <td>0.010</td>\n",
       "    </tr>\n",
       "    <tr>\n",
       "      <th>this</th>\n",
       "      <td>0.010</td>\n",
       "    </tr>\n",
       "    <tr>\n",
       "      <th>how</th>\n",
       "      <td>0.010</td>\n",
       "    </tr>\n",
       "    <tr>\n",
       "      <th>squeeze</th>\n",
       "      <td>0.010</td>\n",
       "    </tr>\n",
       "    <tr>\n",
       "      <th>shit</th>\n",
       "      <td>0.010</td>\n",
       "    </tr>\n",
       "    <tr>\n",
       "      <th>yolo</th>\n",
       "      <td>0.010</td>\n",
       "    </tr>\n",
       "    <tr>\n",
       "      <th>wsb</th>\n",
       "      <td>0.010</td>\n",
       "    </tr>\n",
       "  </tbody>\n",
       "</table>\n",
       "</div>"
      ],
      "text/plain": [
       "           importance\n",
       "stock           0.020\n",
       "xb              0.015\n",
       "stocks          0.015\n",
       "investing       0.015\n",
       "etf             0.010\n",
       "etfs            0.010\n",
       "short           0.010\n",
       "tax             0.010\n",
       "vs              0.010\n",
       "gme             0.010\n",
       "term            0.010\n",
       "growth          0.010\n",
       "company         0.010\n",
       "question        0.010\n",
       "this            0.010\n",
       "how             0.010\n",
       "squeeze         0.010\n",
       "shit            0.010\n",
       "yolo            0.010\n",
       "wsb             0.010"
      ]
     },
     "execution_count": 164,
     "metadata": {},
     "output_type": "execute_result"
    }
   ],
   "source": [
    "abc2_df = pd.DataFrame(abc2.feature_importances_, index=feature_names, columns=['importance'])\n",
    "abc2_df.loc[abc2_df['importance']!=0].sort_values(by='importance', ascending=False).head(20)"
   ]
  },
  {
   "cell_type": "markdown",
   "id": "2a54f953-4843-4282-b092-19464d911452",
   "metadata": {},
   "source": [
    "DecisionTree was very slow running and was outperformed by AdaBooster. Both were able to limit bias/variance in their models compared to the performance of LogReg and MultinomialNB. Most interesting to me is looking at the feature importances of tokens (that !=0). "
   ]
  },
  {
   "cell_type": "code",
   "execution_count": 165,
   "id": "1df54e6f-c1ed-4618-bd36-2a27042664d9",
   "metadata": {},
   "outputs": [],
   "source": [
    "#Taking a look at the AdaBoost model on the ticker tokens only:"
   ]
  },
  {
   "cell_type": "code",
   "execution_count": 166,
   "id": "b5141461-25e3-4a7d-8e09-2ff969e982bd",
   "metadata": {},
   "outputs": [],
   "source": [
    "#Defining X and Y\n",
    "X= tickers['ticker_text']\n",
    "y= tickers['subreddit']\n",
    "\n",
    "#train test split data\n",
    "X_train, X_test, y_train, y_test = train_test_split(X, y, stratify=y, random_state=42)\n",
    "\n",
    "#Instantiate and tfidfvectorizer \n",
    "tf = TfidfVectorizer(min_df=3)\n",
    "tf.fit(X_train)\n",
    "\n",
    "#transform data splits\n",
    "X_train_tf = tf.transform(X_train)\n",
    "X_test_tf = tf.transform(X_test)"
   ]
  },
  {
   "cell_type": "code",
   "execution_count": 169,
   "id": "46b22467-a8f3-4819-877f-5700c57b0391",
   "metadata": {},
   "outputs": [
    {
     "data": {
      "text/plain": [
       "(0.7273017902813299, 0.6893576222435283)"
      ]
     },
     "execution_count": 169,
     "metadata": {},
     "output_type": "execute_result"
    }
   ],
   "source": [
    "ada = AdaBoostClassifier(learning_rate=0.5, n_estimators=200)\n",
    "ada.fit(X_train_tf, y_train)\n",
    "ada.score(X_train_tf, y_train), ada.score(X_test_tf, y_test)"
   ]
  },
  {
   "cell_type": "code",
   "execution_count": 171,
   "id": "54fa0953-3666-4b8b-aa82-a37b2d507537",
   "metadata": {},
   "outputs": [],
   "source": [
    "features = tf.get_feature_names()"
   ]
  },
  {
   "cell_type": "code",
   "execution_count": 202,
   "id": "63f4a086-5ca0-4e1d-9baa-b02ed58e007b",
   "metadata": {},
   "outputs": [
    {
     "data": {
      "text/html": [
       "<div>\n",
       "<style scoped>\n",
       "    .dataframe tbody tr th:only-of-type {\n",
       "        vertical-align: middle;\n",
       "    }\n",
       "\n",
       "    .dataframe tbody tr th {\n",
       "        vertical-align: top;\n",
       "    }\n",
       "\n",
       "    .dataframe thead th {\n",
       "        text-align: right;\n",
       "    }\n",
       "</style>\n",
       "<table border=\"1\" class=\"dataframe\">\n",
       "  <thead>\n",
       "    <tr style=\"text-align: right;\">\n",
       "      <th></th>\n",
       "      <th>importance</th>\n",
       "    </tr>\n",
       "  </thead>\n",
       "  <tbody>\n",
       "    <tr>\n",
       "      <th>gme</th>\n",
       "      <td>0.020</td>\n",
       "    </tr>\n",
       "    <tr>\n",
       "      <th>yolo</th>\n",
       "      <td>0.015</td>\n",
       "    </tr>\n",
       "    <tr>\n",
       "      <th>tsla</th>\n",
       "      <td>0.015</td>\n",
       "    </tr>\n",
       "    <tr>\n",
       "      <th>amc</th>\n",
       "      <td>0.015</td>\n",
       "    </tr>\n",
       "    <tr>\n",
       "      <th>pe</th>\n",
       "      <td>0.015</td>\n",
       "    </tr>\n",
       "    <tr>\n",
       "      <th>eps</th>\n",
       "      <td>0.010</td>\n",
       "    </tr>\n",
       "    <tr>\n",
       "      <th>llc</th>\n",
       "      <td>0.010</td>\n",
       "    </tr>\n",
       "    <tr>\n",
       "      <th>tlry</th>\n",
       "      <td>0.010</td>\n",
       "    </tr>\n",
       "    <tr>\n",
       "      <th>dca</th>\n",
       "      <td>0.010</td>\n",
       "    </tr>\n",
       "    <tr>\n",
       "      <th>huge</th>\n",
       "      <td>0.010</td>\n",
       "    </tr>\n",
       "    <tr>\n",
       "      <th>ipo</th>\n",
       "      <td>0.010</td>\n",
       "    </tr>\n",
       "    <tr>\n",
       "      <th>hood</th>\n",
       "      <td>0.010</td>\n",
       "    </tr>\n",
       "    <tr>\n",
       "      <th>ev</th>\n",
       "      <td>0.010</td>\n",
       "    </tr>\n",
       "    <tr>\n",
       "      <th>amd</th>\n",
       "      <td>0.010</td>\n",
       "    </tr>\n",
       "    <tr>\n",
       "      <th>rio</th>\n",
       "      <td>0.005</td>\n",
       "    </tr>\n",
       "    <tr>\n",
       "      <th>rip</th>\n",
       "      <td>0.005</td>\n",
       "    </tr>\n",
       "    <tr>\n",
       "      <th>roth</th>\n",
       "      <td>0.005</td>\n",
       "    </tr>\n",
       "    <tr>\n",
       "      <th>sava</th>\n",
       "      <td>0.005</td>\n",
       "    </tr>\n",
       "    <tr>\n",
       "      <th>nok</th>\n",
       "      <td>0.005</td>\n",
       "    </tr>\n",
       "    <tr>\n",
       "      <th>nakd</th>\n",
       "      <td>0.005</td>\n",
       "    </tr>\n",
       "  </tbody>\n",
       "</table>\n",
       "</div>"
      ],
      "text/plain": [
       "      importance\n",
       "gme        0.020\n",
       "yolo       0.015\n",
       "tsla       0.015\n",
       "amc        0.015\n",
       "pe         0.015\n",
       "eps        0.010\n",
       "llc        0.010\n",
       "tlry       0.010\n",
       "dca        0.010\n",
       "huge       0.010\n",
       "ipo        0.010\n",
       "hood       0.010\n",
       "ev         0.010\n",
       "amd        0.010\n",
       "rio        0.005\n",
       "rip        0.005\n",
       "roth       0.005\n",
       "sava       0.005\n",
       "nok        0.005\n",
       "nakd       0.005"
      ]
     },
     "execution_count": 202,
     "metadata": {},
     "output_type": "execute_result"
    }
   ],
   "source": [
    "ada_df = pd.DataFrame(ada.feature_importances_, index=features, columns=['importance'])\n",
    "ada_df.loc[ada_df['importance']!=0].sort_values(by='importance', ascending=False).head(20)"
   ]
  },
  {
   "cell_type": "code",
   "execution_count": 207,
   "id": "01f01b3e-f179-4397-be43-67c37e18ea91",
   "metadata": {},
   "outputs": [
    {
     "data": {
      "text/plain": [
       "<Figure size 720x720 with 0 Axes>"
      ]
     },
     "metadata": {},
     "output_type": "display_data"
    },
    {
     "data": {
      "image/png": "[encoded data removed]",
      "text/plain": [
       "<Figure size 432x288 with 1 Axes>"
      ]
     },
     "metadata": {},
     "output_type": "display_data"
    }
   ],
   "source": [
    "sns.set(style='whitegrid')\n",
    "plt.figure(figsize=(10,10));\n",
    "ada_df.loc[ada_df['importance']!=0].sort_values(by='importance', ascending=False).head(20).plot(kind='barh', cmap='rainbow');\n",
    "plt.title(\"Top 20 'Tickers' by Importance\");"
   ]
  },
  {
   "cell_type": "code",
   "execution_count": 182,
   "id": "ae8e1ad1-e3f5-4181-ac7b-f959454d8a1a",
   "metadata": {},
   "outputs": [],
   "source": [
    "#SVC models"
   ]
  },
  {
   "cell_type": "code",
   "execution_count": 181,
   "id": "304544dc-8a0f-4ab4-bfb7-b512713f428d",
   "metadata": {},
   "outputs": [],
   "source": [
    "#Defining X and Y\n",
    "X= text['all_text']\n",
    "y= text['subreddit']\n",
    "\n",
    "#train test split data\n",
    "X_train, X_test, y_train, y_test = train_test_split(X, y, stratify=y, random_state=42)\n",
    "\n",
    "#Instantiate and tfidfvectorizer \n",
    "tf = TfidfVectorizer(min_df=3)\n",
    "tf.fit(X_train)\n",
    "\n",
    "#transform data splits\n",
    "X_train_tf = tf.transform(X_train)\n",
    "X_test_tf = tf.transform(X_test)"
   ]
  },
  {
   "cell_type": "markdown",
   "id": "8101b102-3148-4feb-a8e9-b3dec6b1069c",
   "metadata": {},
   "source": [
    "After multiple attempts of trimming paramaters I set to be tuned I could not a SVC grid search to fit in a reasonable amount of time (no fit within 2hr's) so I am commenting out the grid search and using custom SVC parameters instead. "
   ]
  },
  {
   "cell_type": "code",
   "execution_count": 187,
   "id": "473afe11-f1be-412f-8ba3-b785b80a4bda",
   "metadata": {
    "tags": []
   },
   "outputs": [],
   "source": [
    "# # Instantiate SVC.\n",
    "# # Fit on training data.\n",
    "# # Evaluate model.\n",
    "\n",
    "# params={\n",
    "#     \"C\":[0.1,0.3,0.5,1.0],\n",
    "#     'gamma':[1,0.001],\n",
    "#     'kernel':['rbf', 'poly'],\n",
    "#     'degree':[2]\n",
    "\n",
    "# }\n",
    "# svc=GridSearchCV(\n",
    "#     SVC(),\n",
    "#     params,\n",
    "#     verbose=1\n",
    "# )\n",
    "# svc.fit(X_train_tf, y_train)\n",
    "# svc.score(X_train_tf, y_train), svc.score(X_test_tf, y_test)"
   ]
  },
  {
   "cell_type": "code",
   "execution_count": null,
   "id": "b542d637-5d29-4905-b42d-1a85196db1ba",
   "metadata": {},
   "outputs": [],
   "source": [
    "# svc.best_estimator_"
   ]
  },
  {
   "cell_type": "code",
   "execution_count": 184,
   "id": "b81ae8fd-ba01-4991-a649-dbc20ea73ced",
   "metadata": {},
   "outputs": [
    {
     "data": {
      "text/plain": [
       "(0.9805873568939771, 0.7930887372013652)"
      ]
     },
     "execution_count": 184,
     "metadata": {},
     "output_type": "execute_result"
    }
   ],
   "source": [
    "svc = SVC(degree=2, kernel='poly')\n",
    "svc.fit(X_train_tf, y_train)\n",
    "svc.score(X_train_tf, y_train), svc.score(X_test_tf, y_test)"
   ]
  },
  {
   "cell_type": "code",
   "execution_count": 188,
   "id": "bb867311-e814-4f62-8984-de11f61e07c6",
   "metadata": {},
   "outputs": [],
   "source": [
    "# Now trying these SVC parameters on the ticker text data:"
   ]
  },
  {
   "cell_type": "code",
   "execution_count": 189,
   "id": "c2d66e04-c2ce-4b63-a9b3-e6ba8ccdccf3",
   "metadata": {},
   "outputs": [],
   "source": [
    "#Defining X and Y\n",
    "X= tickers['ticker_text']\n",
    "y= tickers['subreddit']\n",
    "\n",
    "#train test split data\n",
    "X_train, X_test, y_train, y_test = train_test_split(X, y, stratify=y, random_state=42)\n",
    "\n",
    "#Instantiate and tfidfvectorizer \n",
    "tf = TfidfVectorizer(min_df=3)\n",
    "tf.fit(X_train)\n",
    "\n",
    "#transform data splits\n",
    "X_train_tf = tf.transform(X_train)\n",
    "X_test_tf = tf.transform(X_test)"
   ]
  },
  {
   "cell_type": "code",
   "execution_count": 190,
   "id": "7f7d05fc-2411-4f9d-a0d2-ebbe2977ab60",
   "metadata": {},
   "outputs": [
    {
     "data": {
      "text/plain": [
       "(0.8257672634271099, 0.6941514860977949)"
      ]
     },
     "execution_count": 190,
     "metadata": {},
     "output_type": "execute_result"
    }
   ],
   "source": [
    "svc2 = SVC(degree=2, kernel='poly')\n",
    "svc2.fit(X_train_tf, y_train)\n",
    "svc2.score(X_train_tf, y_train), svc2.score(X_test_tf, y_test)"
   ]
  }
 ],
 "metadata": {
  "kernelspec": {
   "display_name": "Python 3 (ipykernel)",
   "language": "python",
   "name": "python3"
  },
  "language_info": {
   "codemirror_mode": {
    "name": "ipython",
    "version": 3
   },
   "file_extension": ".py",
   "mimetype": "text/x-python",
   "name": "python",
   "nbconvert_exporter": "python",
   "pygments_lexer": "ipython3",
   "version": "3.9.7"
  }
 },
 "nbformat": 4,
 "nbformat_minor": 5
}
